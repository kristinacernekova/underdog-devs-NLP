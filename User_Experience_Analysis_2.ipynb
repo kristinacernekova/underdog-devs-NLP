{
  "nbformat": 4,
  "nbformat_minor": 0,
  "metadata": {
    "colab": {
      "name": "User_Experience_Analysis_2.ipynb",
      "provenance": [],
      "collapsed_sections": [
        "zUeacBld_PKw"
      ]
    },
    "kernelspec": {
      "name": "python3",
      "display_name": "Python 3"
    },
    "language_info": {
      "name": "python"
    }
  },
  "cells": [
    {
      "cell_type": "markdown",
      "source": [
        "# User Experience Analysis Pt. 2\n",
        "\n",
        "\n",
        "---"
      ],
      "metadata": {
        "id": "2BhQV82XSC1p"
      }
    },
    {
      "cell_type": "markdown",
      "source": [
        "# Contributors\n",
        "\n",
        "Kristina C.\n",
        "\n",
        "Erin Costolo\n",
        "\n",
        "Sujata Sahoo\n",
        "\n",
        "Roger Vieira\n",
        "\n",
        "<br>\n",
        "\n"
      ],
      "metadata": {
        "id": "tzDdaiObOfgh"
      }
    },
    {
      "cell_type": "markdown",
      "source": [
        "# Objective\n",
        "\n",
        "The objective of this notebook is to help admins and stakeholders track trends about what brings people to Underdog Devs. We will analyze text responses from applicants and mentees. A previous analysis looked at only single word tokens and did not incorporate the context of other words in the response. We will be performing Natural Language Processing (NLP) by looking at individual words, phrases, and non-consecutive words based on their frequencies in a response. We will also explore topic modeling by performing Latent Dirichlet Allocation (LDA).\n",
        "\n",
        "<br>"
      ],
      "metadata": {
        "id": "gQQJR5vwOfdt"
      }
    },
    {
      "cell_type": "markdown",
      "source": [
        "# Imports\n"
      ],
      "metadata": {
        "id": "7_HJOpBHOfXy"
      }
    },
    {
      "cell_type": "code",
      "source": [
        "# Only run this cell once, then restart runtime\n",
        "!wget https://gist.githubusercontent.com/rogerfvieira/8c5187cc7d080119202d4a069d28f50c/raw/22627ca804d64360a97db9839adccacf53cdb1ef/requirements.txt\n",
        "!pip install -r requirements.txt"
      ],
      "metadata": {
        "id": "rlmdmsWtNDWE"
      },
      "execution_count": null,
      "outputs": []
    },
    {
      "cell_type": "code",
      "source": [
        "# Base\n",
        "from collections import Counter, OrderedDict\n",
        "import json\n",
        "import requests\n",
        "import re\n",
        "\n",
        "# Plotting\n",
        "import matplotlib.pyplot as plt\n",
        "import seaborn as sns\n",
        "import plotly.graph_objects as go\n",
        "import plotly.express as px\n",
        "import altair as alt\n",
        "import pandas as pd\n",
        "\n",
        "# NLP Libraries\n",
        "import spacy\n",
        "\n",
        "import gensim\n",
        "import gensim.corpora as corpora\n",
        "from gensim.utils import simple_preprocess\n",
        "from gensim.models import CoherenceModel\n",
        "\n",
        "import pyLDAvis\n",
        "import pyLDAvis.gensim_models"
      ],
      "metadata": {
        "id": "lmCZRKimShQ5",
        "colab": {
          "base_uri": "https://localhost:8080/"
        },
        "outputId": "d27445be-d6f9-4076-b88f-d890c17d6e33"
      },
      "execution_count": null,
      "outputs": [
        {
          "output_type": "stream",
          "name": "stderr",
          "text": [
            "/usr/local/lib/python3.7/dist-packages/past/types/oldstr.py:5: DeprecationWarning: Using or importing the ABCs from 'collections' instead of from 'collections.abc' is deprecated since Python 3.3,and in 3.9 it will stop working\n",
            "  from collections import Iterable\n"
          ]
        }
      ]
    },
    {
      "cell_type": "markdown",
      "source": [
        "# Load data from API"
      ],
      "metadata": {
        "id": "wySf7ogeF9YX"
      }
    },
    {
      "cell_type": "code",
      "source": [
        "mongo_cursor = requests.post('http://underdog-devs-ds-a-dev.us-east-1.elasticbeanstalk.com/Responses/read').json()\n",
        "responses = [obj[\"text\"] for obj in mongo_cursor['result']]"
      ],
      "metadata": {
        "id": "SuBrYDDLQs3q"
      },
      "execution_count": null,
      "outputs": []
    },
    {
      "cell_type": "markdown",
      "source": [
        "# Lemmatization\\Tokenization"
      ],
      "metadata": {
        "id": "rdStVMH8L7JD"
      }
    },
    {
      "cell_type": "code",
      "source": [
        "def lemmatize(document):\n",
        "    \"\"\"\n",
        "    Takes document (individual response) and returns list of tokens in the form\n",
        "    of lemmas.\n",
        "    Converts all text to lowercase tokens, removes stop words, punctuation, \n",
        "    numbers, and tokens of blank space\"\n",
        "    \"\"\"\n",
        "    \n",
        "    nlp = spacy.load(\"en_core_web_sm\")\n",
        "    doc = nlp(document)\n",
        "   \n",
        "    lemma_list = [\n",
        "        token.lemma_.lower() for token in doc\n",
        "        if not token.is_stop\n",
        "        and not token.is_punct\n",
        "        and not token.like_num\n",
        "        and not token.is_space\n",
        "    ]\n",
        "    return lemma_list"
      ],
      "metadata": {
        "id": "5tO-28wWEoFe"
      },
      "execution_count": null,
      "outputs": []
    },
    {
      "cell_type": "code",
      "source": [
        "lemmas = [lemmatize(sentences) for sentences in responses]"
      ],
      "metadata": {
        "id": "bUcwzCeomDPL"
      },
      "execution_count": null,
      "outputs": []
    },
    {
      "cell_type": "code",
      "source": [
        "lemmas[:5]"
      ],
      "metadata": {
        "colab": {
          "base_uri": "https://localhost:8080/"
        },
        "id": "T3yJ2g3lWBSG",
        "outputId": "38456cf7-c644-408e-ad26-c4b06e591455"
      },
      "execution_count": null,
      "outputs": [
        {
          "output_type": "execute_result",
          "data": {
            "text/plain": [
              "[['mentorship', 'tuning', 'skill', 'point', 'employable'],\n",
              " ['competent', 'coder', 'start', 'successful', 'career'],\n",
              " ['well', 'developer', 'help', 'return'],\n",
              " ['network', 'well', 'opportunity'],\n",
              " ['mentorship', 'help', 'support', 'journey']]"
            ]
          },
          "metadata": {},
          "execution_count": 5
        }
      ]
    },
    {
      "cell_type": "markdown",
      "source": [
        "# Frequency Analysis"
      ],
      "metadata": {
        "id": "s96kvb79Owqf"
      }
    },
    {
      "cell_type": "markdown",
      "source": [
        "## Two Word Phrases"
      ],
      "metadata": {
        "id": "CnqR7e5WL37t"
      }
    },
    {
      "cell_type": "code",
      "source": [
        "double_tokens = []\n",
        "for response in range(len(lemmas)):\n",
        "    for token in range(len(lemmas[response]) - 1):\n",
        "        double_tokens.append(lemmas[response][token] + ' ' +\n",
        "                             lemmas[response][token+1])"
      ],
      "metadata": {
        "id": "6b2YLArUEgRN"
      },
      "execution_count": null,
      "outputs": []
    },
    {
      "cell_type": "code",
      "source": [
        "freq_double = dict(Counter(double_tokens))"
      ],
      "metadata": {
        "id": "UnScZs_QGIww"
      },
      "execution_count": null,
      "outputs": []
    },
    {
      "cell_type": "code",
      "source": [
        "sort_freq_double = sorted(freq_double.items(), key=lambda x:x[1])"
      ],
      "metadata": {
        "id": "Ia4kh4sfHQfB"
      },
      "execution_count": null,
      "outputs": []
    },
    {
      "cell_type": "code",
      "source": [
        "df_double = pd.DataFrame(sort_freq_double, columns=('phrase','frequency'))\n",
        "double_top_20 = df_double[-20:]\n",
        "double_top_20.tail()"
      ],
      "metadata": {
        "colab": {
          "base_uri": "https://localhost:8080/",
          "height": 206
        },
        "id": "PNoV4uJpdjdk",
        "outputId": "1fc301b5-b4d0-406a-af8c-f52b99e488db"
      },
      "execution_count": null,
      "outputs": [
        {
          "output_type": "execute_result",
          "data": {
            "text/plain": [
              "                 phrase  frequency\n",
              "2258  software engineer          7\n",
              "2259           land job          8\n",
              "2260       ask question          8\n",
              "2261     gain knowledge          8\n",
              "2262          hope gain         18"
            ],
            "text/html": [
              "\n",
              "  <div id=\"df-0d4d1500-a46f-4bb6-817a-51ea080bd8c1\">\n",
              "    <div class=\"colab-df-container\">\n",
              "      <div>\n",
              "<style scoped>\n",
              "    .dataframe tbody tr th:only-of-type {\n",
              "        vertical-align: middle;\n",
              "    }\n",
              "\n",
              "    .dataframe tbody tr th {\n",
              "        vertical-align: top;\n",
              "    }\n",
              "\n",
              "    .dataframe thead th {\n",
              "        text-align: right;\n",
              "    }\n",
              "</style>\n",
              "<table border=\"1\" class=\"dataframe\">\n",
              "  <thead>\n",
              "    <tr style=\"text-align: right;\">\n",
              "      <th></th>\n",
              "      <th>phrase</th>\n",
              "      <th>frequency</th>\n",
              "    </tr>\n",
              "  </thead>\n",
              "  <tbody>\n",
              "    <tr>\n",
              "      <th>2258</th>\n",
              "      <td>software engineer</td>\n",
              "      <td>7</td>\n",
              "    </tr>\n",
              "    <tr>\n",
              "      <th>2259</th>\n",
              "      <td>land job</td>\n",
              "      <td>8</td>\n",
              "    </tr>\n",
              "    <tr>\n",
              "      <th>2260</th>\n",
              "      <td>ask question</td>\n",
              "      <td>8</td>\n",
              "    </tr>\n",
              "    <tr>\n",
              "      <th>2261</th>\n",
              "      <td>gain knowledge</td>\n",
              "      <td>8</td>\n",
              "    </tr>\n",
              "    <tr>\n",
              "      <th>2262</th>\n",
              "      <td>hope gain</td>\n",
              "      <td>18</td>\n",
              "    </tr>\n",
              "  </tbody>\n",
              "</table>\n",
              "</div>\n",
              "      <button class=\"colab-df-convert\" onclick=\"convertToInteractive('df-0d4d1500-a46f-4bb6-817a-51ea080bd8c1')\"\n",
              "              title=\"Convert this dataframe to an interactive table.\"\n",
              "              style=\"display:none;\">\n",
              "        \n",
              "  <svg xmlns=\"http://www.w3.org/2000/svg\" height=\"24px\"viewBox=\"0 0 24 24\"\n",
              "       width=\"24px\">\n",
              "    <path d=\"M0 0h24v24H0V0z\" fill=\"none\"/>\n",
              "    <path d=\"M18.56 5.44l.94 2.06.94-2.06 2.06-.94-2.06-.94-.94-2.06-.94 2.06-2.06.94zm-11 1L8.5 8.5l.94-2.06 2.06-.94-2.06-.94L8.5 2.5l-.94 2.06-2.06.94zm10 10l.94 2.06.94-2.06 2.06-.94-2.06-.94-.94-2.06-.94 2.06-2.06.94z\"/><path d=\"M17.41 7.96l-1.37-1.37c-.4-.4-.92-.59-1.43-.59-.52 0-1.04.2-1.43.59L10.3 9.45l-7.72 7.72c-.78.78-.78 2.05 0 2.83L4 21.41c.39.39.9.59 1.41.59.51 0 1.02-.2 1.41-.59l7.78-7.78 2.81-2.81c.8-.78.8-2.07 0-2.86zM5.41 20L4 18.59l7.72-7.72 1.47 1.35L5.41 20z\"/>\n",
              "  </svg>\n",
              "      </button>\n",
              "      \n",
              "  <style>\n",
              "    .colab-df-container {\n",
              "      display:flex;\n",
              "      flex-wrap:wrap;\n",
              "      gap: 12px;\n",
              "    }\n",
              "\n",
              "    .colab-df-convert {\n",
              "      background-color: #E8F0FE;\n",
              "      border: none;\n",
              "      border-radius: 50%;\n",
              "      cursor: pointer;\n",
              "      display: none;\n",
              "      fill: #1967D2;\n",
              "      height: 32px;\n",
              "      padding: 0 0 0 0;\n",
              "      width: 32px;\n",
              "    }\n",
              "\n",
              "    .colab-df-convert:hover {\n",
              "      background-color: #E2EBFA;\n",
              "      box-shadow: 0px 1px 2px rgba(60, 64, 67, 0.3), 0px 1px 3px 1px rgba(60, 64, 67, 0.15);\n",
              "      fill: #174EA6;\n",
              "    }\n",
              "\n",
              "    [theme=dark] .colab-df-convert {\n",
              "      background-color: #3B4455;\n",
              "      fill: #D2E3FC;\n",
              "    }\n",
              "\n",
              "    [theme=dark] .colab-df-convert:hover {\n",
              "      background-color: #434B5C;\n",
              "      box-shadow: 0px 1px 3px 1px rgba(0, 0, 0, 0.15);\n",
              "      filter: drop-shadow(0px 1px 2px rgba(0, 0, 0, 0.3));\n",
              "      fill: #FFFFFF;\n",
              "    }\n",
              "  </style>\n",
              "\n",
              "      <script>\n",
              "        const buttonEl =\n",
              "          document.querySelector('#df-0d4d1500-a46f-4bb6-817a-51ea080bd8c1 button.colab-df-convert');\n",
              "        buttonEl.style.display =\n",
              "          google.colab.kernel.accessAllowed ? 'block' : 'none';\n",
              "\n",
              "        async function convertToInteractive(key) {\n",
              "          const element = document.querySelector('#df-0d4d1500-a46f-4bb6-817a-51ea080bd8c1');\n",
              "          const dataTable =\n",
              "            await google.colab.kernel.invokeFunction('convertToInteractive',\n",
              "                                                     [key], {});\n",
              "          if (!dataTable) return;\n",
              "\n",
              "          const docLinkHtml = 'Like what you see? Visit the ' +\n",
              "            '<a target=\"_blank\" href=https://colab.research.google.com/notebooks/data_table.ipynb>data table notebook</a>'\n",
              "            + ' to learn more about interactive tables.';\n",
              "          element.innerHTML = '';\n",
              "          dataTable['output_type'] = 'display_data';\n",
              "          await google.colab.output.renderOutput(dataTable, element);\n",
              "          const docLink = document.createElement('div');\n",
              "          docLink.innerHTML = docLinkHtml;\n",
              "          element.appendChild(docLink);\n",
              "        }\n",
              "      </script>\n",
              "    </div>\n",
              "  </div>\n",
              "  "
            ]
          },
          "metadata": {},
          "execution_count": 9
        }
      ]
    },
    {
      "cell_type": "code",
      "source": [
        "double_graph = alt.Chart(\n",
        "                    double_top_20,\n",
        "                    title=\"Top 20 Most Common Phrases in User Responses\"\n",
        "                    ).mark_bar().encode(\n",
        "                        x=alt.X(\"frequency:Q\",\n",
        "                                title='Frequency'),\n",
        "                        y=alt.Y(\"phrase:O\",\n",
        "                                title='Phrases',\n",
        "                                sort=\"-x\",\n",
        "                                scale=alt.Scale()\n",
        "                                ))\n",
        "double_graph.display()"
      ],
      "metadata": {
        "colab": {
          "base_uri": "https://localhost:8080/",
          "height": 480
        },
        "id": "Zr8l_koyebTU",
        "outputId": "d76c1a67-1528-41c0-b8ee-86d3099d9d6f"
      },
      "execution_count": null,
      "outputs": [
        {
          "output_type": "display_data",
          "data": {
            "text/html": [
              "\n",
              "<div id=\"altair-viz-735da9a54c7041e9851e951e777c9c29\"></div>\n",
              "<script type=\"text/javascript\">\n",
              "  var VEGA_DEBUG = (typeof VEGA_DEBUG == \"undefined\") ? {} : VEGA_DEBUG;\n",
              "  (function(spec, embedOpt){\n",
              "    let outputDiv = document.currentScript.previousElementSibling;\n",
              "    if (outputDiv.id !== \"altair-viz-735da9a54c7041e9851e951e777c9c29\") {\n",
              "      outputDiv = document.getElementById(\"altair-viz-735da9a54c7041e9851e951e777c9c29\");\n",
              "    }\n",
              "    const paths = {\n",
              "      \"vega\": \"https://cdn.jsdelivr.net/npm//vega@5?noext\",\n",
              "      \"vega-lib\": \"https://cdn.jsdelivr.net/npm//vega-lib?noext\",\n",
              "      \"vega-lite\": \"https://cdn.jsdelivr.net/npm//vega-lite@4.17.0?noext\",\n",
              "      \"vega-embed\": \"https://cdn.jsdelivr.net/npm//vega-embed@6?noext\",\n",
              "    };\n",
              "\n",
              "    function maybeLoadScript(lib, version) {\n",
              "      var key = `${lib.replace(\"-\", \"\")}_version`;\n",
              "      return (VEGA_DEBUG[key] == version) ?\n",
              "        Promise.resolve(paths[lib]) :\n",
              "        new Promise(function(resolve, reject) {\n",
              "          var s = document.createElement('script');\n",
              "          document.getElementsByTagName(\"head\")[0].appendChild(s);\n",
              "          s.async = true;\n",
              "          s.onload = () => {\n",
              "            VEGA_DEBUG[key] = version;\n",
              "            return resolve(paths[lib]);\n",
              "          };\n",
              "          s.onerror = () => reject(`Error loading script: ${paths[lib]}`);\n",
              "          s.src = paths[lib];\n",
              "        });\n",
              "    }\n",
              "\n",
              "    function showError(err) {\n",
              "      outputDiv.innerHTML = `<div class=\"error\" style=\"color:red;\">${err}</div>`;\n",
              "      throw err;\n",
              "    }\n",
              "\n",
              "    function displayChart(vegaEmbed) {\n",
              "      vegaEmbed(outputDiv, spec, embedOpt)\n",
              "        .catch(err => showError(`Javascript Error: ${err.message}<br>This usually means there's a typo in your chart specification. See the javascript console for the full traceback.`));\n",
              "    }\n",
              "\n",
              "    if(typeof define === \"function\" && define.amd) {\n",
              "      requirejs.config({paths});\n",
              "      require([\"vega-embed\"], displayChart, err => showError(`Error loading script: ${err.message}`));\n",
              "    } else {\n",
              "      maybeLoadScript(\"vega\", \"5\")\n",
              "        .then(() => maybeLoadScript(\"vega-lite\", \"4.17.0\"))\n",
              "        .then(() => maybeLoadScript(\"vega-embed\", \"6\"))\n",
              "        .catch(showError)\n",
              "        .then(() => displayChart(vegaEmbed));\n",
              "    }\n",
              "  })({\"config\": {\"view\": {\"continuousWidth\": 400, \"continuousHeight\": 300}}, \"data\": {\"name\": \"data-17b2df9a983eb460d3778d144866250e\"}, \"mark\": \"bar\", \"encoding\": {\"x\": {\"field\": \"frequency\", \"title\": \"Frequency\", \"type\": \"quantitative\"}, \"y\": {\"field\": \"phrase\", \"scale\": {}, \"sort\": \"-x\", \"title\": \"Phrases\", \"type\": \"ordinal\"}}, \"title\": \"Top 20 Most Common Phrases in User Responses\", \"$schema\": \"https://vega.github.io/schema/vega-lite/v4.17.0.json\", \"datasets\": {\"data-17b2df9a983eb460d3778d144866250e\": [{\"phrase\": \"like learn\", \"frequency\": 4}, {\"phrase\": \"software developer\", \"frequency\": 4}, {\"phrase\": \"want help\", \"frequency\": 4}, {\"phrase\": \"job software\", \"frequency\": 4}, {\"phrase\": \"job tech\", \"frequency\": 5}, {\"phrase\": \"job opportunity\", \"frequency\": 5}, {\"phrase\": \"learn code\", \"frequency\": 5}, {\"phrase\": \"ios developer\", \"frequency\": 5}, {\"phrase\": \"software engineering\", \"frequency\": 5}, {\"phrase\": \"help people\", \"frequency\": 5}, {\"phrase\": \"gain skill\", \"frequency\": 5}, {\"phrase\": \"pay forward\", \"frequency\": 5}, {\"phrase\": \"software development\", \"frequency\": 6}, {\"phrase\": \"well understanding\", \"frequency\": 6}, {\"phrase\": \"feel like\", \"frequency\": 6}, {\"phrase\": \"software engineer\", \"frequency\": 7}, {\"phrase\": \"land job\", \"frequency\": 8}, {\"phrase\": \"ask question\", \"frequency\": 8}, {\"phrase\": \"gain knowledge\", \"frequency\": 8}, {\"phrase\": \"hope gain\", \"frequency\": 18}]}}, {\"mode\": \"vega-lite\"});\n",
              "</script>"
            ],
            "text/plain": [
              "alt.Chart(...)"
            ]
          },
          "metadata": {}
        }
      ]
    },
    {
      "cell_type": "markdown",
      "source": [
        "## Three Word Phrases"
      ],
      "metadata": {
        "id": "_TfhHIx7bL0-"
      }
    },
    {
      "cell_type": "code",
      "source": [
        "triple_tokens = []\n",
        "for response in range(len(lemmas)):\n",
        "    for j in range(len(lemmas[response]) - 2):\n",
        "        triple_tokens.append(lemmas[response][j] + ' ' +\n",
        "                                 lemmas[response][j+1] + ' ' +\n",
        "                                 lemmas[response][j+2])"
      ],
      "metadata": {
        "id": "Ok0n_ATvJBw6"
      },
      "execution_count": null,
      "outputs": []
    },
    {
      "cell_type": "code",
      "source": [
        "freq_triple = dict(Counter(triple_tokens))"
      ],
      "metadata": {
        "id": "wcDdI-sXJL9X"
      },
      "execution_count": null,
      "outputs": []
    },
    {
      "cell_type": "code",
      "source": [
        "sort_freq_triple = sorted(freq_triple.items(), key=lambda x:x[1])"
      ],
      "metadata": {
        "id": "fHUOR7VVJZ86"
      },
      "execution_count": null,
      "outputs": []
    },
    {
      "cell_type": "code",
      "source": [
        "df_triple = pd.DataFrame(sort_freq_triple, columns=('phrase','frequency'))\n",
        "triple_top_20 = df_triple[-20:]\n",
        "triple_top_20.tail()"
      ],
      "metadata": {
        "colab": {
          "base_uri": "https://localhost:8080/",
          "height": 206
        },
        "id": "FEwy0-pSfYQ2",
        "outputId": "f1f87a83-2cba-4491-bd0a-000474b21762"
      },
      "execution_count": null,
      "outputs": [
        {
          "output_type": "execute_result",
          "data": {
            "text/plain": [
              "                        phrase  frequency\n",
              "2240  well understanding stack          2\n",
              "2241        new direction life          3\n",
              "2242  direction life financial          3\n",
              "2243  life financial stability          3\n",
              "2244       hope gain knowledge          3"
            ],
            "text/html": [
              "\n",
              "  <div id=\"df-307a265b-9b86-432b-b902-f60d1d8c315e\">\n",
              "    <div class=\"colab-df-container\">\n",
              "      <div>\n",
              "<style scoped>\n",
              "    .dataframe tbody tr th:only-of-type {\n",
              "        vertical-align: middle;\n",
              "    }\n",
              "\n",
              "    .dataframe tbody tr th {\n",
              "        vertical-align: top;\n",
              "    }\n",
              "\n",
              "    .dataframe thead th {\n",
              "        text-align: right;\n",
              "    }\n",
              "</style>\n",
              "<table border=\"1\" class=\"dataframe\">\n",
              "  <thead>\n",
              "    <tr style=\"text-align: right;\">\n",
              "      <th></th>\n",
              "      <th>phrase</th>\n",
              "      <th>frequency</th>\n",
              "    </tr>\n",
              "  </thead>\n",
              "  <tbody>\n",
              "    <tr>\n",
              "      <th>2240</th>\n",
              "      <td>well understanding stack</td>\n",
              "      <td>2</td>\n",
              "    </tr>\n",
              "    <tr>\n",
              "      <th>2241</th>\n",
              "      <td>new direction life</td>\n",
              "      <td>3</td>\n",
              "    </tr>\n",
              "    <tr>\n",
              "      <th>2242</th>\n",
              "      <td>direction life financial</td>\n",
              "      <td>3</td>\n",
              "    </tr>\n",
              "    <tr>\n",
              "      <th>2243</th>\n",
              "      <td>life financial stability</td>\n",
              "      <td>3</td>\n",
              "    </tr>\n",
              "    <tr>\n",
              "      <th>2244</th>\n",
              "      <td>hope gain knowledge</td>\n",
              "      <td>3</td>\n",
              "    </tr>\n",
              "  </tbody>\n",
              "</table>\n",
              "</div>\n",
              "      <button class=\"colab-df-convert\" onclick=\"convertToInteractive('df-307a265b-9b86-432b-b902-f60d1d8c315e')\"\n",
              "              title=\"Convert this dataframe to an interactive table.\"\n",
              "              style=\"display:none;\">\n",
              "        \n",
              "  <svg xmlns=\"http://www.w3.org/2000/svg\" height=\"24px\"viewBox=\"0 0 24 24\"\n",
              "       width=\"24px\">\n",
              "    <path d=\"M0 0h24v24H0V0z\" fill=\"none\"/>\n",
              "    <path d=\"M18.56 5.44l.94 2.06.94-2.06 2.06-.94-2.06-.94-.94-2.06-.94 2.06-2.06.94zm-11 1L8.5 8.5l.94-2.06 2.06-.94-2.06-.94L8.5 2.5l-.94 2.06-2.06.94zm10 10l.94 2.06.94-2.06 2.06-.94-2.06-.94-.94-2.06-.94 2.06-2.06.94z\"/><path d=\"M17.41 7.96l-1.37-1.37c-.4-.4-.92-.59-1.43-.59-.52 0-1.04.2-1.43.59L10.3 9.45l-7.72 7.72c-.78.78-.78 2.05 0 2.83L4 21.41c.39.39.9.59 1.41.59.51 0 1.02-.2 1.41-.59l7.78-7.78 2.81-2.81c.8-.78.8-2.07 0-2.86zM5.41 20L4 18.59l7.72-7.72 1.47 1.35L5.41 20z\"/>\n",
              "  </svg>\n",
              "      </button>\n",
              "      \n",
              "  <style>\n",
              "    .colab-df-container {\n",
              "      display:flex;\n",
              "      flex-wrap:wrap;\n",
              "      gap: 12px;\n",
              "    }\n",
              "\n",
              "    .colab-df-convert {\n",
              "      background-color: #E8F0FE;\n",
              "      border: none;\n",
              "      border-radius: 50%;\n",
              "      cursor: pointer;\n",
              "      display: none;\n",
              "      fill: #1967D2;\n",
              "      height: 32px;\n",
              "      padding: 0 0 0 0;\n",
              "      width: 32px;\n",
              "    }\n",
              "\n",
              "    .colab-df-convert:hover {\n",
              "      background-color: #E2EBFA;\n",
              "      box-shadow: 0px 1px 2px rgba(60, 64, 67, 0.3), 0px 1px 3px 1px rgba(60, 64, 67, 0.15);\n",
              "      fill: #174EA6;\n",
              "    }\n",
              "\n",
              "    [theme=dark] .colab-df-convert {\n",
              "      background-color: #3B4455;\n",
              "      fill: #D2E3FC;\n",
              "    }\n",
              "\n",
              "    [theme=dark] .colab-df-convert:hover {\n",
              "      background-color: #434B5C;\n",
              "      box-shadow: 0px 1px 3px 1px rgba(0, 0, 0, 0.15);\n",
              "      filter: drop-shadow(0px 1px 2px rgba(0, 0, 0, 0.3));\n",
              "      fill: #FFFFFF;\n",
              "    }\n",
              "  </style>\n",
              "\n",
              "      <script>\n",
              "        const buttonEl =\n",
              "          document.querySelector('#df-307a265b-9b86-432b-b902-f60d1d8c315e button.colab-df-convert');\n",
              "        buttonEl.style.display =\n",
              "          google.colab.kernel.accessAllowed ? 'block' : 'none';\n",
              "\n",
              "        async function convertToInteractive(key) {\n",
              "          const element = document.querySelector('#df-307a265b-9b86-432b-b902-f60d1d8c315e');\n",
              "          const dataTable =\n",
              "            await google.colab.kernel.invokeFunction('convertToInteractive',\n",
              "                                                     [key], {});\n",
              "          if (!dataTable) return;\n",
              "\n",
              "          const docLinkHtml = 'Like what you see? Visit the ' +\n",
              "            '<a target=\"_blank\" href=https://colab.research.google.com/notebooks/data_table.ipynb>data table notebook</a>'\n",
              "            + ' to learn more about interactive tables.';\n",
              "          element.innerHTML = '';\n",
              "          dataTable['output_type'] = 'display_data';\n",
              "          await google.colab.output.renderOutput(dataTable, element);\n",
              "          const docLink = document.createElement('div');\n",
              "          docLink.innerHTML = docLinkHtml;\n",
              "          element.appendChild(docLink);\n",
              "        }\n",
              "      </script>\n",
              "    </div>\n",
              "  </div>\n",
              "  "
            ]
          },
          "metadata": {},
          "execution_count": 14
        }
      ]
    },
    {
      "cell_type": "code",
      "source": [
        "triple_graph = alt.Chart(\n",
        "                    triple_top_20,\n",
        "                    title=\"Top 20 Most Common Phrases in User Responses\"\n",
        "                    ).mark_bar().encode(\n",
        "                        x=alt.X(\"frequency:Q\",\n",
        "                                title='Frequency',\n",
        "                                axis=alt.Axis(tickMinStep=1)\n",
        "                                ),\n",
        "                        y=alt.Y(\"phrase:O\",\n",
        "                                title='Phrases',\n",
        "                                sort=\"-x\")\n",
        "                                )\n",
        "triple_graph.display()"
      ],
      "metadata": {
        "colab": {
          "base_uri": "https://localhost:8080/",
          "height": 480
        },
        "id": "ou5w2FnOfFeb",
        "outputId": "e8266511-f91d-4a73-8bfc-047953653026"
      },
      "execution_count": null,
      "outputs": [
        {
          "output_type": "display_data",
          "data": {
            "text/html": [
              "\n",
              "<div id=\"altair-viz-0b0cee462f0440e185799f45ecec650c\"></div>\n",
              "<script type=\"text/javascript\">\n",
              "  var VEGA_DEBUG = (typeof VEGA_DEBUG == \"undefined\") ? {} : VEGA_DEBUG;\n",
              "  (function(spec, embedOpt){\n",
              "    let outputDiv = document.currentScript.previousElementSibling;\n",
              "    if (outputDiv.id !== \"altair-viz-0b0cee462f0440e185799f45ecec650c\") {\n",
              "      outputDiv = document.getElementById(\"altair-viz-0b0cee462f0440e185799f45ecec650c\");\n",
              "    }\n",
              "    const paths = {\n",
              "      \"vega\": \"https://cdn.jsdelivr.net/npm//vega@5?noext\",\n",
              "      \"vega-lib\": \"https://cdn.jsdelivr.net/npm//vega-lib?noext\",\n",
              "      \"vega-lite\": \"https://cdn.jsdelivr.net/npm//vega-lite@4.17.0?noext\",\n",
              "      \"vega-embed\": \"https://cdn.jsdelivr.net/npm//vega-embed@6?noext\",\n",
              "    };\n",
              "\n",
              "    function maybeLoadScript(lib, version) {\n",
              "      var key = `${lib.replace(\"-\", \"\")}_version`;\n",
              "      return (VEGA_DEBUG[key] == version) ?\n",
              "        Promise.resolve(paths[lib]) :\n",
              "        new Promise(function(resolve, reject) {\n",
              "          var s = document.createElement('script');\n",
              "          document.getElementsByTagName(\"head\")[0].appendChild(s);\n",
              "          s.async = true;\n",
              "          s.onload = () => {\n",
              "            VEGA_DEBUG[key] = version;\n",
              "            return resolve(paths[lib]);\n",
              "          };\n",
              "          s.onerror = () => reject(`Error loading script: ${paths[lib]}`);\n",
              "          s.src = paths[lib];\n",
              "        });\n",
              "    }\n",
              "\n",
              "    function showError(err) {\n",
              "      outputDiv.innerHTML = `<div class=\"error\" style=\"color:red;\">${err}</div>`;\n",
              "      throw err;\n",
              "    }\n",
              "\n",
              "    function displayChart(vegaEmbed) {\n",
              "      vegaEmbed(outputDiv, spec, embedOpt)\n",
              "        .catch(err => showError(`Javascript Error: ${err.message}<br>This usually means there's a typo in your chart specification. See the javascript console for the full traceback.`));\n",
              "    }\n",
              "\n",
              "    if(typeof define === \"function\" && define.amd) {\n",
              "      requirejs.config({paths});\n",
              "      require([\"vega-embed\"], displayChart, err => showError(`Error loading script: ${err.message}`));\n",
              "    } else {\n",
              "      maybeLoadScript(\"vega\", \"5\")\n",
              "        .then(() => maybeLoadScript(\"vega-lite\", \"4.17.0\"))\n",
              "        .then(() => maybeLoadScript(\"vega-embed\", \"6\"))\n",
              "        .catch(showError)\n",
              "        .then(() => displayChart(vegaEmbed));\n",
              "    }\n",
              "  })({\"config\": {\"view\": {\"continuousWidth\": 400, \"continuousHeight\": 300}}, \"data\": {\"name\": \"data-36555d1d6bc5d173559713231a2cad51\"}, \"mark\": \"bar\", \"encoding\": {\"x\": {\"axis\": {\"tickMinStep\": 1}, \"field\": \"frequency\", \"title\": \"Frequency\", \"type\": \"quantitative\"}, \"y\": {\"field\": \"phrase\", \"sort\": \"-x\", \"title\": \"Phrases\", \"type\": \"ordinal\"}}, \"title\": \"Top 20 Most Common Phrases in User Responses\", \"$schema\": \"https://vega.github.io/schema/vega-lite/v4.17.0.json\", \"datasets\": {\"data-36555d1d6bc5d173559713231a2cad51\": [{\"phrase\": \"people similar situation\", \"frequency\": 2}, {\"phrase\": \"help learn code\", \"frequency\": 2}, {\"phrase\": \"hope gain mentor\", \"frequency\": 2}, {\"phrase\": \"gain well understanding\", \"frequency\": 2}, {\"phrase\": \"help foot door\", \"frequency\": 2}, {\"phrase\": \"learn new skill\", \"frequency\": 2}, {\"phrase\": \"career software developer\", \"frequency\": 2}, {\"phrase\": \"self teach developer\", \"frequency\": 2}, {\"phrase\": \"far code journey\", \"frequency\": 2}, {\"phrase\": \"skill land job\", \"frequency\": 2}, {\"phrase\": \"gain skill need\", \"frequency\": 2}, {\"phrase\": \"computer skill network\", \"frequency\": 2}, {\"phrase\": \"skill network build\", \"frequency\": 2}, {\"phrase\": \"network build confidence\", \"frequency\": 2}, {\"phrase\": \"job software development\", \"frequency\": 2}, {\"phrase\": \"well understanding stack\", \"frequency\": 2}, {\"phrase\": \"new direction life\", \"frequency\": 3}, {\"phrase\": \"direction life financial\", \"frequency\": 3}, {\"phrase\": \"life financial stability\", \"frequency\": 3}, {\"phrase\": \"hope gain knowledge\", \"frequency\": 3}]}}, {\"mode\": \"vega-lite\"});\n",
              "</script>"
            ],
            "text/plain": [
              "alt.Chart(...)"
            ]
          },
          "metadata": {}
        }
      ]
    },
    {
      "cell_type": "markdown",
      "source": [
        "# More Data Exploration"
      ],
      "metadata": {
        "id": "4oOoJt-GB6GD"
      }
    },
    {
      "cell_type": "code",
      "execution_count": null,
      "metadata": {
        "id": "VQ-YelEKNzOX",
        "colab": {
          "base_uri": "https://localhost:8080/"
        },
        "outputId": "d9445178-84a3-422d-d2eb-38c0aa655f6f"
      },
      "outputs": [
        {
          "output_type": "execute_result",
          "data": {
            "text/plain": [
              "{'career software developer': 2,\n",
              " 'computer skill network': 2,\n",
              " 'direction life financial': 3,\n",
              " 'far code journey': 2,\n",
              " 'gain skill need': 2,\n",
              " 'gain well understanding': 2,\n",
              " 'help foot door': 2,\n",
              " 'help learn code': 2,\n",
              " 'high pay job': 2,\n",
              " 'hope gain knowledge': 3,\n",
              " 'hope gain mentor': 2,\n",
              " 'job software development': 2,\n",
              " 'learn new skill': 2,\n",
              " 'life financial stability': 3,\n",
              " 'like minded individual': 2,\n",
              " 'network build confidence': 2,\n",
              " 'new direction life': 3,\n",
              " 'people similar situation': 2,\n",
              " 'self teach developer': 2,\n",
              " 'skill land job': 2,\n",
              " 'skill network build': 2,\n",
              " 'well understanding stack': 2}"
            ]
          },
          "metadata": {},
          "execution_count": 16
        }
      ],
      "source": [
        "# view all 3 word phrases that appear more than once across all docs\n",
        "freq3_2 = {key:value for (key,value) in freq_triple.items() if value > 1}\n",
        "freq3_2"
      ]
    },
    {
      "cell_type": "markdown",
      "source": [
        "## Two Nonconsecutive Tokens From Responses\n",
        "Frequency analysis on any two words in one response, not only consequetive ones.\n"
      ],
      "metadata": {
        "id": "wS57qlHJCCR-"
      }
    },
    {
      "cell_type": "code",
      "source": [
        "two_tokens = []\n",
        "for i in range(len(lemmas)):\n",
        "    for j in range(len(lemmas[i]) - 1):\n",
        "        for k in range(j + 1, len(lemmas[i])):\n",
        "            new = sorted([lemmas[i][j], lemmas[i][k]])\n",
        "            two_tokens.append(new[0] + ' ' + new[1])"
      ],
      "metadata": {
        "id": "nuqY7XSrOwdi"
      },
      "execution_count": null,
      "outputs": []
    },
    {
      "cell_type": "code",
      "source": [
        "freq_two = dict(Counter(two_tokens))"
      ],
      "metadata": {
        "id": "4z9C7tQDQJtM"
      },
      "execution_count": null,
      "outputs": []
    },
    {
      "cell_type": "code",
      "source": [
        "sort_freq_two = sorted(freq_two.items(), key=lambda x:x[1])\n",
        "sort_freq_two[-20:]"
      ],
      "metadata": {
        "id": "0ChM2XR4QSV0",
        "colab": {
          "base_uri": "https://localhost:8080/"
        },
        "outputId": "25f1df1f-0226-4fe4-9489-7cb200cc9c63"
      },
      "execution_count": null,
      "outputs": [
        {
          "output_type": "execute_result",
          "data": {
            "text/plain": [
              "[('community learn', 15),\n",
              " ('like mentor', 15),\n",
              " ('hope job', 16),\n",
              " ('community people', 16),\n",
              " ('hope skill', 17),\n",
              " ('job mentor', 17),\n",
              " ('learn skill', 17),\n",
              " ('good learn', 17),\n",
              " ('learn people', 18),\n",
              " ('help skill', 19),\n",
              " ('help want', 20),\n",
              " ('learn like', 21),\n",
              " ('like people', 21),\n",
              " ('help people', 21),\n",
              " ('job learn', 22),\n",
              " ('help job', 24),\n",
              " ('help learn', 26),\n",
              " ('job skill', 27),\n",
              " ('gain hope', 27),\n",
              " ('help like', 33)]"
            ]
          },
          "metadata": {},
          "execution_count": 19
        }
      ]
    },
    {
      "cell_type": "markdown",
      "source": [
        "## Three Nonconsecutive Tokens"
      ],
      "metadata": {
        "id": "nW1Bhg2fDDo9"
      }
    },
    {
      "cell_type": "code",
      "source": [
        "three_tokens = []\n",
        "for i in range(len(lemmas)):\n",
        "    for j in range(len(lemmas[i]) - 2):\n",
        "        for k in range(j + 1, len(lemmas[i]) - 1):\n",
        "            for l in range(k + 1, len(lemmas[i])):\n",
        "                new = sorted([lemmas[i][j], lemmas[i][k], lemmas[i][l]])\n",
        "                three_tokens.append(new[0] + ' ' +  new[1] + ' ' + new[2])"
      ],
      "metadata": {
        "id": "Rr_VBBncQ_PO"
      },
      "execution_count": null,
      "outputs": []
    },
    {
      "cell_type": "code",
      "source": [
        "freq_three = dict(Counter(three_tokens))"
      ],
      "metadata": {
        "id": "YV4UQUt2RzWq"
      },
      "execution_count": null,
      "outputs": []
    },
    {
      "cell_type": "code",
      "source": [
        "sort_freq_three = sorted(freq_three.items(), key=lambda x:x[1])\n",
        "sort_freq_three[-20:]"
      ],
      "metadata": {
        "id": "p3bQmK2dR57R",
        "colab": {
          "base_uri": "https://localhost:8080/"
        },
        "outputId": "34a33b49-b31f-4173-e1a9-ef95143e3f9f"
      },
      "execution_count": null,
      "outputs": [
        {
          "output_type": "execute_result",
          "data": {
            "text/plain": [
              "[('help race want', 18),\n",
              " ('experience help people', 19),\n",
              " ('experience job people', 19),\n",
              " ('good help learn', 19),\n",
              " ('people situation understand', 19),\n",
              " ('like people situation', 19),\n",
              " ('like people understand', 19),\n",
              " ('like understanding well', 20),\n",
              " ('help understanding well', 20),\n",
              " ('help learn like', 22),\n",
              " ('hard learn people', 24),\n",
              " ('good learn people', 24),\n",
              " ('learn people understand', 24),\n",
              " ('experience learn people', 25),\n",
              " ('learn people situation', 25),\n",
              " ('help learn people', 25),\n",
              " ('learn like people', 25),\n",
              " ('job learn people', 25),\n",
              " ('help like people', 27),\n",
              " ('bear race want', 27)]"
            ]
          },
          "metadata": {},
          "execution_count": 22
        }
      ]
    },
    {
      "cell_type": "markdown",
      "source": [
        "# Topic modeling and LDA:\n",
        "Topic modeling allows the user to explore the content of the documents and build new connections between topics they might not have been aware of. Latent Dirichlet Allocation (LDA) is a type of topic modeling in which words are represented as topics, and documents are represented as a collection of these word topics.\n",
        " \tA useful topic model has big non-overlapping circles scattered throughout the chart instead of being clustered in one quadrant. The package also allows the user to observe the most relevant keywords from the selected topic."
      ],
      "metadata": {
        "id": "s_zXUvO97S8m"
      }
    },
    {
      "cell_type": "markdown",
      "source": [
        "## A Latent Dirichlet Allocation(LDA) Model with gensim\n",
        "\n",
        "\n",
        "**The two main inputs to the genesim LDA topic model are the dictionary(id2word) and the corpus.**\n",
        "\n",
        "\n",
        "\n",
        "*   The id2word is a special object that keeps track of the mapping from text to numerical index, and the mapping from numerical index back to text.\n",
        "*   The corpus is a specially formatted list containing information about each document.\n",
        "\n",
        "\n"
      ],
      "metadata": {
        "id": "zUeacBld_PKw"
      }
    },
    {
      "cell_type": "markdown",
      "source": [
        "**Create the id2word dictionary**\n",
        "\n",
        "\n"
      ],
      "metadata": {
        "id": "8URqx_rbHDlH"
      }
    },
    {
      "cell_type": "code",
      "source": [
        "id2word = corpora.Dictionary(lemmas)"
      ],
      "metadata": {
        "id": "at9yUdjjQ04j"
      },
      "execution_count": null,
      "outputs": []
    },
    {
      "cell_type": "code",
      "source": [
        "corpus = [id2word.doc2bow(doc_lemmas) for doc_lemmas in lemmas]"
      ],
      "metadata": {
        "id": "HMk9yKGyRmwz"
      },
      "execution_count": null,
      "outputs": []
    },
    {
      "cell_type": "code",
      "source": [
        "n_of_words = [len(lemmas[i]) for i in range(len(lemmas))]\n",
        "sorted(n_of_words)[-10:]"
      ],
      "metadata": {
        "id": "neWWApV0v0eZ",
        "colab": {
          "base_uri": "https://localhost:8080/"
        },
        "outputId": "2acb4f39-c63a-4a58-adb1-38e47069e7e9"
      },
      "execution_count": null,
      "outputs": [
        {
          "output_type": "execute_result",
          "data": {
            "text/plain": [
              "[31, 32, 33, 37, 38, 38, 43, 54, 57, 93]"
            ]
          },
          "metadata": {},
          "execution_count": 25
        }
      ]
    },
    {
      "cell_type": "markdown",
      "source": [
        "### Train an LDA model"
      ],
      "metadata": {
        "id": "HNIt8zj_ITqs"
      }
    },
    {
      "cell_type": "code",
      "source": [
        "num_topics = 3\n",
        "\n",
        "lda_multicore_3_topics = gensim.models.ldamulticore.LdaMulticore(corpus=corpus,\n",
        "                                                        id2word=id2word,\n",
        "                                                        num_topics=num_topics, \n",
        "                                                        chunksize=100,\n",
        "                                                        passes=10,\n",
        "                                                        per_word_topics=True,\n",
        "                                                        workers=1, \n",
        "                                                        random_state=1234, \n",
        "                                                        iterations=10) "
      ],
      "metadata": {
        "id": "GqaU_5sETNRo"
      },
      "execution_count": null,
      "outputs": []
    },
    {
      "cell_type": "markdown",
      "source": [
        "### Interpretion of LDA results and Selection of the appropriate number of topics\n",
        "\n",
        "\n",
        "*   LDAvis provides an interactive visualization of the topics estimated using Latent Dirichlet Allocation(LDA)\n",
        "\n",
        "\n"
      ],
      "metadata": {
        "id": "tgIEJf8WsQE6"
      }
    },
    {
      "cell_type": "markdown",
      "source": [
        "### Visualising the topics in the model"
      ],
      "metadata": {
        "id": "CqOMFo9NtJP9"
      }
    },
    {
      "cell_type": "code",
      "source": [
        "pyLDAvis.enable_notebook()\n",
        "vis = pyLDAvis.gensim_models.prepare(lda_multicore_3_topics, corpus, id2word)\n",
        "vis"
      ],
      "metadata": {
        "id": "_tKtkzdETVTi",
        "colab": {
          "base_uri": "https://localhost:8080/",
          "height": 73
        },
        "outputId": "7d5f8d69-9101-4f9a-fdcd-db018bab1a29"
      },
      "execution_count": null,
      "outputs": [
        {
          "output_type": "stream",
          "name": "stderr",
          "text": [
            "/usr/local/lib/python3.7/dist-packages/pyLDAvis/_prepare.py:247: FutureWarning: In a future version of pandas all arguments of DataFrame.drop except for the argument 'labels' will be keyword-only\n",
            "  by='saliency', ascending=False).head(R).drop('saliency', 1)\n"
          ]
        },
        {
          "output_type": "execute_result",
          "data": {
            "text/plain": [
              "PreparedData(topic_coordinates=              x         y  topics  cluster       Freq\n",
              "topic                                                \n",
              "0     -0.013507 -0.120893       1        1  33.529774\n",
              "2     -0.127602  0.069562       2        1  33.439991\n",
              "1      0.141109  0.051331       3        1  33.030235, topic_info=         Term       Freq      Total Category  logprob  loglift\n",
              "18       hope  50.000000  50.000000  Default  30.0000  30.0000\n",
              "144      gain  40.000000  40.000000  Default  29.0000  29.0000\n",
              "17    support  26.000000  26.000000  Default  28.0000  28.0000\n",
              "30       want  32.000000  32.000000  Default  27.0000  27.0000\n",
              "164    mentor  29.000000  29.000000  Default  26.0000  26.0000\n",
              "..        ...        ...        ...      ...      ...      ...\n",
              "85   software  10.851023  26.448557   Topic3  -4.4870   0.2168\n",
              "11       help  14.342120  60.117052   Topic3  -4.2080  -0.3253\n",
              "114     learn  12.746826  50.142427   Topic3  -4.3260  -0.2618\n",
              "56       code   6.522257  13.915283   Topic3  -4.9960   0.3500\n",
              "77       tech   7.307058  21.379689   Topic3  -4.8824   0.0341\n",
              "\n",
              "[185 rows x 6 columns], token_table=      Topic      Freq     Term\n",
              "term                          \n",
              "410       2  0.158475  ability\n",
              "410       3  0.792374  ability\n",
              "243       1  0.788251     able\n",
              "243       2  0.175167     able\n",
              "405       2  0.950609  achieve\n",
              "...     ...       ...      ...\n",
              "111       2  0.205468     work\n",
              "111       3  0.684895     work\n",
              "116       1  0.123666    world\n",
              "116       2  0.741995    world\n",
              "116       3  0.123666    world\n",
              "\n",
              "[222 rows x 3 columns], R=30, lambda_step=0.01, plot_opts={'xlab': 'PC1', 'ylab': 'PC2'}, topic_order=[1, 3, 2])"
            ],
            "text/html": [
              "\n",
              "<link rel=\"stylesheet\" type=\"text/css\" href=\"https://cdn.jsdelivr.net/gh/bmabey/pyLDAvis@3.3.1/pyLDAvis/js/ldavis.v1.0.0.css\">\n",
              "\n",
              "\n",
              "<div id=\"ldavis_el1591401566165173284659530489\"></div>\n",
              "<script type=\"text/javascript\">\n",
              "\n",
              "var ldavis_el1591401566165173284659530489_data = {\"mdsDat\": {\"x\": [-0.013506844115988358, -0.12760211387786274, 0.14110895799385112], \"y\": [-0.12089310980086677, 0.06956164854397105, 0.051331461256895694], \"topics\": [1, 2, 3], \"cluster\": [1, 1, 1], \"Freq\": [33.529773576555165, 33.43999120073268, 33.03023522271216]}, \"tinfo\": {\"Term\": [\"hope\", \"gain\", \"support\", \"want\", \"mentor\", \"knowledge\", \"mentorship\", \"community\", \"guidance\", \"career\", \"way\", \"new\", \"understand\", \"advice\", \"developer\", \"javascript\", \"sense\", \"engineer\", \"bear\", \"question\", \"friend\", \"project\", \"network\", \"practice\", \"ask\", \"race\", \"thing\", \"insight\", \"go\", \"love\", \"support\", \"understand\", \"sense\", \"dev\", \"remote\", \"etc\", \"sharpen\", \"encouragement\", \"situation\", \"obtain\", \"resource\", \"person\", \"criminal\", \"android\", \"inspire\", \"record\", \"acquire\", \"month\", \"ultimate\", \"encourage\", \"leadership\", \"love\", \"advice\", \"mentorship\", \"felony\", \"provide\", \"friendly\", \"join\", \"programmer\", \"felon\", \"able\", \"great\", \"journey\", \"community\", \"learn\", \"development\", \"help\", \"job\", \"tech\", \"like\", \"opportunity\", \"time\", \"skill\", \"find\", \"good\", \"people\", \"interview\", \"code\", \"career\", \"guidance\", \"web\", \"software\", \"hope\", \"bear\", \"question\", \"race\", \"insight\", \"want\", \"ask\", \"teach\", \"successful\", \"go\", \"pay\", \"expert\", \"finish\", \"line\", \"valuable\", \"thing\", \"way\", \"right\", \"country\", \"important\", \"achieve\", \"freelance\", \"stand\", \"potential\", \"fundamental\", \"door\", \"begin\", \"create\", \"point\", \"business\", \"break\", \"prepare\", \"guidance\", \"world\", \"industry\", \"forward\", \"know\", \"feel\", \"self\", \"opportunity\", \"like\", \"help\", \"people\", \"need\", \"life\", \"look\", \"job\", \"community\", \"software\", \"meet\", \"learn\", \"skill\", \"direction\", \"developer\", \"javascript\", \"friend\", \"mentor\", \"project\", \"practice\", \"knowledge\", \"open\", \"improve\", \"engineer\", \"program\", \"technology\", \"gain\", \"contribute\", \"offer\", \"new\", \"tool\", \"understanding\", \"day\", \"increase\", \"folk\", \"interact\", \"framework\", \"commit\", \"network\", \"retract\", \"interpersonal\", \"beneficial\", \"source\", \"willing\", \"suitable\", \"hope\", \"prep\", \"financial\", \"land\", \"build\", \"career\", \"ability\", \"developer\", \"experience\", \"work\", \"skill\", \"job\", \"well\", \"interview\", \"software\", \"help\", \"learn\", \"code\", \"tech\"], \"Freq\": [50.0, 40.0, 26.0, 32.0, 29.0, 23.0, 22.0, 29.0, 32.0, 39.0, 14.0, 14.0, 10.0, 14.0, 24.0, 10.0, 9.0, 10.0, 9.0, 9.0, 8.0, 8.0, 11.0, 8.0, 8.0, 8.0, 9.0, 8.0, 8.0, 10.0, 26.102613685672786, 10.264775192505404, 8.929093552256234, 6.211392841291028, 5.38608971097819, 5.019982034924841, 4.8154430538548825, 4.6501831701416565, 4.612913968117505, 4.466086784365938, 4.437110565441935, 4.4070140919312, 4.251261787930667, 3.8568164107222365, 3.846920524700391, 3.703789315143738, 5.033287906633393, 3.665488959335014, 3.305236185864433, 3.3043611293931052, 3.2949763766174023, 8.690293375782314, 12.265627363365873, 19.09153727105994, 2.5395863844157467, 2.704318271815414, 2.3884167329252155, 2.496899352285913, 7.646021036277025, 2.3589325710651208, 9.285514991233994, 3.674034432687826, 6.729706563843137, 19.508432404343722, 27.57992412732354, 9.0537216471508, 25.26198886345729, 25.132041154430777, 10.268118637439603, 12.657631697626163, 9.014543728198564, 7.371851259535462, 14.057172406904805, 6.830572317955361, 7.430730254574203, 9.49565433372045, 7.734809188050609, 6.622420538631123, 9.27212480418836, 8.137996014800743, 5.881646040414249, 6.753391881425658, 7.309268314526677, 8.783396142313752, 8.78658063692987, 7.814621608181883, 7.809900774456077, 30.02728426990372, 7.992046048441023, 7.34714998015946, 7.307389251277797, 7.597475074787923, 6.399497381556623, 5.923143622604488, 5.286601057328208, 5.286599693713614, 5.285516983725662, 8.57534673641722, 12.80291560961034, 4.767990245710265, 3.729863636921896, 4.130344970765316, 3.670566629015388, 4.1186569755385305, 3.3962471447147946, 3.388479768716003, 3.4061563047031878, 3.38048148731256, 3.2175736334871865, 3.0911881511508787, 3.0909333824908254, 3.20159911578291, 4.691790098560696, 6.059408265408111, 23.23495088699627, 6.159738936420152, 15.659017286494255, 6.475269353723551, 9.62274274268011, 5.939596087224101, 4.6802357375641614, 10.430884386668259, 13.905380736729805, 20.512943433019895, 12.131448147342331, 7.4409834821673915, 7.55754889400214, 6.591246138591718, 13.500222659365797, 9.59904493918226, 8.844141536188609, 6.734681576009084, 9.815676935335935, 9.147850324034971, 7.090921797951847, 7.027066453725365, 9.662998759469104, 8.44260173334078, 27.331140482153167, 8.107119878629831, 7.760148919305493, 22.412478352530247, 6.406568971304373, 6.586647553789817, 9.326393585502872, 6.814329820255448, 5.814895797613311, 36.61030527239614, 4.388241732110232, 5.078811897118949, 12.490128433585953, 4.142114042669357, 7.697031127864749, 3.8412974969191094, 3.8365792866658035, 4.006102170106098, 3.8320366231066685, 3.6713579706854884, 3.6291320317251987, 9.691920414060167, 2.982785266654691, 2.9826898608426418, 2.982539007417472, 2.9823993782054843, 2.9820159590831774, 2.9813903214403967, 42.77652163642619, 4.1709445566493795, 3.1282331107560353, 7.523405121053538, 8.400699500688667, 26.64998518716175, 5.065348228922532, 16.56173780563504, 12.042676521979676, 9.642528488435778, 22.286596556848266, 23.923111981063197, 9.603108153802532, 9.465780354485782, 10.851023358905605, 14.342120016915041, 12.74682618906485, 6.522257385542729, 7.307057962996434], \"Total\": [50.0, 40.0, 26.0, 32.0, 29.0, 23.0, 22.0, 29.0, 32.0, 39.0, 14.0, 14.0, 10.0, 14.0, 24.0, 10.0, 9.0, 10.0, 9.0, 9.0, 8.0, 8.0, 11.0, 8.0, 8.0, 8.0, 9.0, 8.0, 8.0, 10.0, 26.60720010037812, 10.766404503296465, 9.422286095283773, 6.698905478414177, 5.8686745729984215, 5.502469184341439, 5.313684221675291, 5.135592740973742, 5.107252117345452, 4.949541151707235, 4.922539608775411, 4.890500810538027, 4.736442323641673, 4.338094312357458, 4.337109229334646, 4.184560122773781, 5.695759827358334, 4.156428342539789, 3.7855306885131115, 3.78542457376539, 3.7845227165624595, 10.009910883244725, 14.167661384258126, 22.249510462151704, 3.025355656708572, 3.231481938161373, 2.8722327673475574, 3.0212866300063705, 9.261039581395728, 2.868954296642311, 11.41767723342028, 4.491215533942694, 8.437894584540636, 29.400876087389385, 50.14242725172432, 13.587133277705005, 60.11705231339223, 62.55537579485977, 21.379689272906376, 31.407388680421768, 20.049556573442004, 14.002665236512932, 45.49161928778804, 12.305120228089605, 14.823783355312173, 26.945198889329628, 20.05672894609075, 13.915283178770174, 39.40685367781946, 32.9084963754784, 11.05077808267874, 26.448556776519872, 50.612064106139506, 9.312708861375532, 9.348358104552736, 8.340578076110237, 8.341144506857889, 32.07435928793976, 8.553869530053484, 7.891962085148072, 7.867780997329065, 8.209395262706888, 6.9484668589663965, 6.4516888843737386, 5.812520289829656, 5.812520186817154, 5.812661800796789, 9.518980537848874, 14.242922212028557, 5.361737646059285, 4.256396287276646, 4.7289731483748, 4.207827439901192, 4.731890659809056, 3.9233572103909884, 3.924029188633149, 3.9521432610492346, 3.930240894969416, 3.745892594866037, 3.617590672713626, 3.617685962930114, 3.7483113477861245, 5.4952812108711475, 7.222559811941102, 32.9084963754784, 8.086303369654916, 25.11095503515796, 8.925876145933636, 15.135771596763679, 8.408916060262586, 6.18405493167938, 20.049556573442004, 31.407388680421768, 60.11705231339223, 26.945198889329628, 13.967599538856243, 14.438131090169312, 11.222188054283828, 62.55537579485977, 29.400876087389385, 26.448556776519872, 12.145934676295944, 50.14242725172432, 45.49161928778804, 17.319214144822993, 24.424676089297066, 10.176808967044861, 8.963680804188563, 29.07893601658506, 8.633871289669216, 8.271626721663859, 23.934157114471304, 6.914327855147412, 7.11090617288538, 10.129367604081004, 7.451942014387297, 6.4049966464521875, 40.470029638399346, 4.900868385896373, 5.723497088754818, 14.079190376905588, 4.682548148053302, 8.710390512236371, 4.3489214076474045, 4.3485791584849585, 4.540960502323372, 4.348334765800269, 4.180630277869124, 4.177470000703632, 11.284714616453124, 3.489987231727886, 3.489988854680149, 3.4899945250242648, 3.4899961236940835, 3.4900180709862183, 3.4899666540143333, 50.612064106139506, 4.892051553014737, 3.666591156226544, 9.254251317581975, 10.577112966986842, 39.40685367781946, 6.310147860174425, 24.424676089297066, 18.570534994950034, 14.600786839599847, 45.49161928778804, 62.55537579485977, 19.39001423781233, 20.05672894609075, 26.448556776519872, 60.11705231339223, 50.14242725172432, 13.915283178770174, 21.379689272906376], \"Category\": [\"Default\", \"Default\", \"Default\", \"Default\", \"Default\", \"Default\", \"Default\", \"Default\", \"Default\", \"Default\", \"Default\", \"Default\", \"Default\", \"Default\", \"Default\", \"Default\", \"Default\", \"Default\", \"Default\", \"Default\", \"Default\", \"Default\", \"Default\", \"Default\", \"Default\", \"Default\", \"Default\", \"Default\", \"Default\", \"Default\", \"Topic1\", \"Topic1\", \"Topic1\", \"Topic1\", \"Topic1\", \"Topic1\", \"Topic1\", \"Topic1\", \"Topic1\", \"Topic1\", \"Topic1\", \"Topic1\", \"Topic1\", \"Topic1\", \"Topic1\", \"Topic1\", \"Topic1\", \"Topic1\", \"Topic1\", \"Topic1\", \"Topic1\", \"Topic1\", \"Topic1\", \"Topic1\", \"Topic1\", \"Topic1\", \"Topic1\", \"Topic1\", \"Topic1\", \"Topic1\", \"Topic1\", \"Topic1\", \"Topic1\", \"Topic1\", \"Topic1\", \"Topic1\", \"Topic1\", \"Topic1\", \"Topic1\", \"Topic1\", \"Topic1\", \"Topic1\", \"Topic1\", \"Topic1\", \"Topic1\", \"Topic1\", \"Topic1\", \"Topic1\", \"Topic1\", \"Topic1\", \"Topic1\", \"Topic1\", \"Topic1\", \"Topic2\", \"Topic2\", \"Topic2\", \"Topic2\", \"Topic2\", \"Topic2\", \"Topic2\", \"Topic2\", \"Topic2\", \"Topic2\", \"Topic2\", \"Topic2\", \"Topic2\", \"Topic2\", \"Topic2\", \"Topic2\", \"Topic2\", \"Topic2\", \"Topic2\", \"Topic2\", \"Topic2\", \"Topic2\", \"Topic2\", \"Topic2\", \"Topic2\", \"Topic2\", \"Topic2\", \"Topic2\", \"Topic2\", \"Topic2\", \"Topic2\", \"Topic2\", \"Topic2\", \"Topic2\", \"Topic2\", \"Topic2\", \"Topic2\", \"Topic2\", \"Topic2\", \"Topic2\", \"Topic2\", \"Topic2\", \"Topic2\", \"Topic2\", \"Topic2\", \"Topic2\", \"Topic2\", \"Topic2\", \"Topic2\", \"Topic2\", \"Topic2\", \"Topic2\", \"Topic2\", \"Topic3\", \"Topic3\", \"Topic3\", \"Topic3\", \"Topic3\", \"Topic3\", \"Topic3\", \"Topic3\", \"Topic3\", \"Topic3\", \"Topic3\", \"Topic3\", \"Topic3\", \"Topic3\", \"Topic3\", \"Topic3\", \"Topic3\", \"Topic3\", \"Topic3\", \"Topic3\", \"Topic3\", \"Topic3\", \"Topic3\", \"Topic3\", \"Topic3\", \"Topic3\", \"Topic3\", \"Topic3\", \"Topic3\", \"Topic3\", \"Topic3\", \"Topic3\", \"Topic3\", \"Topic3\", \"Topic3\", \"Topic3\", \"Topic3\", \"Topic3\", \"Topic3\", \"Topic3\", \"Topic3\", \"Topic3\", \"Topic3\", \"Topic3\", \"Topic3\", \"Topic3\", \"Topic3\", \"Topic3\", \"Topic3\"], \"logprob\": [30.0, 29.0, 28.0, 27.0, 26.0, 25.0, 24.0, 23.0, 22.0, 21.0, 20.0, 19.0, 18.0, 17.0, 16.0, 15.0, 14.0, 13.0, 12.0, 11.0, 10.0, 9.0, 8.0, 7.0, 6.0, 5.0, 4.0, 3.0, 2.0, 1.0, -3.6242, -4.5575, -4.6969, -5.0599, -5.2024, -5.2728, -5.3144, -5.3494, -5.3574, -5.3897, -5.3963, -5.4031, -5.439, -5.5364, -5.539, -5.5769, -5.2702, -5.5873, -5.6908, -5.691, -5.6939, -4.7241, -4.3795, -3.937, -5.9543, -5.8914, -6.0156, -5.9712, -4.8521, -6.0281, -4.6578, -5.585, -4.9797, -3.9154, -3.5692, -4.6831, -3.657, -3.6621, -4.5572, -4.348, -4.6874, -4.8886, -4.2431, -4.9649, -4.8806, -4.6354, -4.8405, -4.9958, -4.6592, -4.7897, -5.1144, -4.9762, -4.8971, -4.7107, -4.7104, -4.8276, -4.8282, -3.4815, -4.8051, -4.8893, -4.8947, -4.8558, -5.0274, -5.1047, -5.2184, -5.2184, -5.2186, -4.7347, -4.3339, -5.3217, -5.5672, -5.4652, -5.5832, -5.4681, -5.6609, -5.6632, -5.658, -5.6656, -5.715, -5.755, -5.7551, -5.7199, -5.3378, -5.082, -3.7379, -5.0655, -4.1325, -5.0156, -4.6194, -5.1019, -5.3402, -4.5388, -4.2513, -3.8625, -4.3878, -4.8766, -4.861, -4.9978, -4.2809, -4.6219, -4.7038, -4.9763, -4.5996, -4.6701, -4.9248, -4.9338, -4.6029, -4.738, -3.5632, -4.7785, -4.8222, -3.7616, -5.0139, -4.9862, -4.6384, -4.9522, -5.1108, -3.2709, -5.3923, -5.2462, -4.3463, -5.45, -4.8304, -5.5254, -5.5267, -5.4834, -5.5279, -5.5707, -5.5823, -4.6, -5.7784, -5.7784, -5.7785, -5.7785, -5.7786, -5.7789, -3.1153, -5.4431, -5.7308, -4.8532, -4.7429, -3.5885, -5.2488, -4.0642, -4.3828, -4.6051, -3.7673, -3.6964, -4.6092, -4.6236, -4.487, -4.208, -4.326, -4.996, -4.8824], \"loglift\": [30.0, 29.0, 28.0, 27.0, 26.0, 25.0, 24.0, 23.0, 22.0, 21.0, 20.0, 19.0, 18.0, 17.0, 16.0, 15.0, 14.0, 13.0, 12.0, 11.0, 10.0, 9.0, 8.0, 7.0, 6.0, 5.0, 4.0, 3.0, 2.0, 1.0, 1.0736, 1.045, 1.039, 1.0172, 1.0069, 1.001, 0.9943, 0.9934, 0.9909, 0.99, 0.9889, 0.9886, 0.9847, 0.9751, 0.9728, 0.9707, 0.9691, 0.967, 0.9571, 0.9568, 0.9542, 0.9514, 0.9486, 0.9397, 0.9177, 0.9146, 0.9083, 0.9021, 0.9011, 0.897, 0.886, 0.8919, 0.8665, 0.6826, 0.495, 0.6868, 0.2257, 0.1808, 0.3593, 0.184, 0.2934, 0.4512, -0.0817, 0.5041, 0.4021, 0.0498, 0.1399, 0.3502, -0.3542, -0.3045, 0.4621, -0.2724, -0.8423, 1.0369, 1.0334, 1.0303, 1.0296, 1.0295, 1.0275, 1.0239, 1.0215, 1.018, 1.0131, 1.0099, 1.0006, 1.0006, 1.0003, 0.991, 0.9888, 0.9781, 0.9634, 0.9601, 0.9588, 0.9566, 0.9511, 0.9487, 0.9467, 0.9447, 0.9434, 0.9382, 0.9381, 0.9378, 0.9373, 0.9198, 0.7473, 0.8233, 0.6232, 0.7745, 0.6425, 0.7478, 0.8168, 0.442, 0.2807, 0.0202, 0.2974, 0.4657, 0.4481, 0.5633, -0.4379, -0.0239, -0.0, 0.5057, -0.5355, -0.5086, 0.2024, -0.1504, 1.0559, 1.0479, 1.0458, 1.0448, 1.0439, 1.0421, 1.0315, 1.0312, 1.0252, 1.0183, 1.0111, 1.0075, 0.9973, 0.9882, 0.988, 0.9851, 0.9841, 0.9836, 0.9825, 0.9824, 0.9814, 0.9778, 0.967, 0.9556, 0.9507, 0.9507, 0.9506, 0.9506, 0.9504, 0.9502, 0.9395, 0.9483, 0.949, 0.9007, 0.8774, 0.7166, 0.888, 0.7192, 0.6746, 0.6929, 0.3942, 0.1465, 0.4051, 0.3569, 0.2168, -0.3253, -0.2618, 0.35, 0.0341]}, \"token.table\": {\"Topic\": [2, 3, 1, 2, 2, 1, 1, 2, 1, 2, 2, 2, 3, 2, 2, 3, 2, 1, 2, 3, 1, 2, 3, 3, 1, 2, 3, 2, 2, 1, 3, 1, 1, 2, 3, 1, 2, 1, 2, 3, 2, 1, 1, 2, 3, 1, 1, 2, 3, 2, 1, 2, 3, 1, 1, 3, 1, 2, 3, 2, 3, 1, 2, 3, 3, 2, 3, 1, 2, 1, 2, 3, 2, 1, 2, 3, 1, 2, 1, 2, 3, 1, 2, 3, 1, 2, 3, 2, 3, 3, 1, 2, 3, 2, 1, 3, 3, 1, 2, 3, 3, 1, 2, 3, 1, 1, 3, 1, 2, 3, 1, 3, 1, 3, 1, 1, 2, 3, 1, 2, 3, 1, 2, 3, 2, 1, 2, 1, 3, 1, 2, 3, 2, 3, 1, 2, 1, 1, 2, 3, 1, 3, 1, 3, 1, 3, 3, 1, 2, 3, 2, 1, 2, 3, 1, 2, 2, 3, 3, 1, 2, 3, 1, 3, 3, 1, 2, 2, 1, 1, 1, 3, 2, 1, 2, 1, 1, 1, 1, 2, 3, 1, 2, 3, 3, 2, 2, 3, 1, 2, 1, 2, 3, 3, 1, 2, 1, 2, 3, 3, 1, 1, 1, 3, 2, 1, 2, 3, 1, 2, 1, 2, 1, 2, 3, 3, 1, 2, 3, 1, 2, 3], \"Freq\": [0.15847489189775626, 0.7923744594887814, 0.7882513943953869, 0.17516697653230823, 0.9506093244389147, 0.8778460032643224, 0.8469993511655605, 0.1411665585275934, 0.9220638630667006, 0.9352492426839691, 0.9664212780587943, 0.8008772072407185, 0.8596002023754298, 0.9098715439909886, 0.18908751435693047, 0.7563500574277219, 0.8003604081000097, 0.22838666780103126, 0.07612888926701042, 0.6851600034030937, 0.5030440207411329, 0.07186343153444755, 0.5030440207411329, 0.957517348856188, 0.6802518380933007, 0.34012591904665035, 0.816181885543208, 0.9397621203544714, 0.8292812181953247, 0.8445157201712846, 0.9197682885154373, 0.8956687057809289, 0.04094220108974963, 0.2865954076282474, 0.6960174185257437, 0.6623913827921312, 0.2943961701298361, 0.34643604206450107, 0.4041753824085845, 0.28869670172041756, 0.763311990326065, 0.7925134794102838, 0.9735974506132602, 0.09872284619200825, 0.8885056157280742, 0.9086829625922609, 0.10769748962772847, 0.21539497925545695, 0.6461849377663709, 0.9299890474465147, 0.11892139163163117, 0.7135283497897871, 0.11892139163163117, 0.697118111062524, 0.9916189501051398, 0.8181986679658707, 0.5688688830541206, 0.4063349164672291, 0.08126698329344581, 0.8602120510011212, 0.8808709078075903, 0.11203381983465795, 0.6722029190079477, 0.11203381983465795, 0.9567935297160045, 0.845328070230898, 0.8924905041533548, 0.6963223951542602, 0.7590817948242962, 0.024709643381411458, 0.07412893014423438, 0.914256805112224, 0.9744932170999104, 0.4722141326688721, 0.06745916180983887, 0.40475497085903317, 0.8906274859822922, 0.22265687149557306, 0.24309831445113245, 0.6989076540470057, 0.06077457861278311, 0.41585538608370476, 0.34931852431031196, 0.23287901620687465, 0.13830694565865104, 0.019758135094093007, 0.8495998090459993, 0.8458495902804343, 0.9844033699518809, 0.9198406776602399, 0.199116281837926, 0.6371721018813633, 0.15929302547034083, 0.9591009954836044, 0.9222732904547202, 0.9198923761482377, 0.8596015990070961, 0.39886863014914886, 0.14957573630593082, 0.4487272089177925, 0.9826262861357214, 0.3996459086423436, 0.22380170883971243, 0.38366007229664983, 0.6619696324528411, 0.8295908333371391, 0.11851297619101987, 0.06606865025723693, 0.6606865025723693, 0.26427460102894773, 0.0417812917002776, 0.9191884174061072, 0.10805844424174207, 0.8644675539339366, 0.7927023365115236, 0.5584093458307231, 0.19943190922525825, 0.2592614819928357, 0.13852208346839068, 0.5540883338735627, 0.3463052086709767, 0.4139153411408485, 0.44575498276706765, 0.1591982081310956, 0.860212066246246, 0.35643672879577937, 0.6237642753926139, 0.8991089036631502, 0.09990098929590557, 0.08233207461189497, 0.5763245222832648, 0.3293282984475799, 0.03438915369632691, 0.9285071498008267, 0.8539513726524727, 0.13483442726091674, 0.9623647204647335, 0.14318852673548033, 0.5011598435741812, 0.28637705347096065, 0.08861544434114435, 0.8861544434114436, 0.07102681143088473, 0.8523217371706167, 0.8081557213884943, 0.8735917783244267, 0.8677633062385471, 0.44888773310436, 0.4987641478937333, 0.04987641478937333, 0.8634998369831063, 0.3340112662357829, 0.44534835498104386, 0.18556181457543494, 0.8179121433495767, 0.8292593748436294, 0.7645203070074474, 0.9671616320702127, 0.8176528715309617, 0.1384550666297971, 0.8307303997787825, 0.939352451546893, 0.8638339065163916, 0.10797923831454895, 0.9265831898110795, 0.9283666309788876, 0.9627359049945806, 0.9591661305724422, 0.9558949764470243, 0.8519811309703277, 0.8125886875281207, 0.85960199874849, 0.9325335050055739, 0.16170619618484436, 0.8085309809242218, 0.9551822040836624, 0.940966717518567, 0.9790000346798627, 0.3077489924338266, 0.19783863799317422, 0.4836055595388703, 0.2646647247767546, 0.34028321757011304, 0.4159017103634715, 0.8595998086165685, 0.7646512512433274, 0.8897044798751189, 0.8596070671762008, 0.9771791057274948, 0.8869784122725753, 0.467733645346876, 0.1870934581387504, 0.3274135517428132, 0.9367686403588485, 0.10505326657869003, 0.9454793992082103, 0.4999048310993688, 0.1428299517426768, 0.2856599034853536, 0.8542357437718904, 0.7924912639338149, 0.9288151858810612, 0.11480541527905073, 0.9184433222324059, 0.8601911088848502, 0.031177551857630055, 0.9353265557289017, 0.031177551857630055, 0.07021031113653568, 0.9127340447749639, 0.5429481937932087, 0.4524568281610073, 0.2578646894569853, 0.2578646894569853, 0.5157293789139706, 0.8595944029459573, 0.136978919148087, 0.20546837872213047, 0.684894595740435, 0.12366590199332024, 0.7419954119599215, 0.12366590199332024], \"Term\": [\"ability\", \"ability\", \"able\", \"able\", \"achieve\", \"acquire\", \"advice\", \"advice\", \"android\", \"ask\", \"bear\", \"begin\", \"beneficial\", \"break\", \"build\", \"build\", \"business\", \"career\", \"career\", \"career\", \"code\", \"code\", \"code\", \"commit\", \"community\", \"community\", \"contribute\", \"country\", \"create\", \"criminal\", \"day\", \"dev\", \"developer\", \"developer\", \"developer\", \"development\", \"development\", \"direction\", \"direction\", \"direction\", \"door\", \"encourage\", \"encouragement\", \"engineer\", \"engineer\", \"etc\", \"experience\", \"experience\", \"experience\", \"expert\", \"feel\", \"feel\", \"feel\", \"felon\", \"felony\", \"financial\", \"find\", \"find\", \"find\", \"finish\", \"folk\", \"forward\", \"forward\", \"forward\", \"framework\", \"freelance\", \"friend\", \"friendly\", \"fundamental\", \"gain\", \"gain\", \"gain\", \"go\", \"good\", \"good\", \"good\", \"great\", \"great\", \"guidance\", \"guidance\", \"guidance\", \"help\", \"help\", \"help\", \"hope\", \"hope\", \"hope\", \"important\", \"improve\", \"increase\", \"industry\", \"industry\", \"industry\", \"insight\", \"inspire\", \"interact\", \"interpersonal\", \"interview\", \"interview\", \"interview\", \"javascript\", \"job\", \"job\", \"job\", \"join\", \"journey\", \"journey\", \"know\", \"know\", \"know\", \"knowledge\", \"knowledge\", \"land\", \"land\", \"leadership\", \"learn\", \"learn\", \"learn\", \"life\", \"life\", \"life\", \"like\", \"like\", \"like\", \"line\", \"look\", \"look\", \"love\", \"love\", \"meet\", \"meet\", \"meet\", \"mentor\", \"mentor\", \"mentorship\", \"mentorship\", \"month\", \"need\", \"need\", \"need\", \"network\", \"network\", \"new\", \"new\", \"obtain\", \"offer\", \"open\", \"opportunity\", \"opportunity\", \"opportunity\", \"pay\", \"people\", \"people\", \"people\", \"person\", \"point\", \"potential\", \"practice\", \"prep\", \"prepare\", \"prepare\", \"program\", \"programmer\", \"programmer\", \"project\", \"provide\", \"question\", \"race\", \"record\", \"remote\", \"resource\", \"retract\", \"right\", \"self\", \"self\", \"sense\", \"sharpen\", \"situation\", \"skill\", \"skill\", \"skill\", \"software\", \"software\", \"software\", \"source\", \"stand\", \"successful\", \"suitable\", \"support\", \"teach\", \"tech\", \"tech\", \"tech\", \"technology\", \"thing\", \"thing\", \"time\", \"time\", \"time\", \"tool\", \"ultimate\", \"understand\", \"understanding\", \"understanding\", \"valuable\", \"want\", \"want\", \"want\", \"way\", \"way\", \"web\", \"web\", \"well\", \"well\", \"well\", \"willing\", \"work\", \"work\", \"work\", \"world\", \"world\", \"world\"]}, \"R\": 30, \"lambda.step\": 0.01, \"plot.opts\": {\"xlab\": \"PC1\", \"ylab\": \"PC2\"}, \"topic.order\": [1, 3, 2]};\n",
              "\n",
              "function LDAvis_load_lib(url, callback){\n",
              "  var s = document.createElement('script');\n",
              "  s.src = url;\n",
              "  s.async = true;\n",
              "  s.onreadystatechange = s.onload = callback;\n",
              "  s.onerror = function(){console.warn(\"failed to load library \" + url);};\n",
              "  document.getElementsByTagName(\"head\")[0].appendChild(s);\n",
              "}\n",
              "\n",
              "if(typeof(LDAvis) !== \"undefined\"){\n",
              "   // already loaded: just create the visualization\n",
              "   !function(LDAvis){\n",
              "       new LDAvis(\"#\" + \"ldavis_el1591401566165173284659530489\", ldavis_el1591401566165173284659530489_data);\n",
              "   }(LDAvis);\n",
              "}else if(typeof define === \"function\" && define.amd){\n",
              "   // require.js is available: use it to load d3/LDAvis\n",
              "   require.config({paths: {d3: \"https://d3js.org/d3.v5\"}});\n",
              "   require([\"d3\"], function(d3){\n",
              "      window.d3 = d3;\n",
              "      LDAvis_load_lib(\"https://cdn.jsdelivr.net/gh/bmabey/pyLDAvis@3.3.1/pyLDAvis/js/ldavis.v3.0.0.js\", function(){\n",
              "        new LDAvis(\"#\" + \"ldavis_el1591401566165173284659530489\", ldavis_el1591401566165173284659530489_data);\n",
              "      });\n",
              "    });\n",
              "}else{\n",
              "    // require.js not available: dynamically load d3 & LDAvis\n",
              "    LDAvis_load_lib(\"https://d3js.org/d3.v5.js\", function(){\n",
              "         LDAvis_load_lib(\"https://cdn.jsdelivr.net/gh/bmabey/pyLDAvis@3.3.1/pyLDAvis/js/ldavis.v3.0.0.js\", function(){\n",
              "                 new LDAvis(\"#\" + \"ldavis_el1591401566165173284659530489\", ldavis_el1591401566165173284659530489_data);\n",
              "            })\n",
              "         });\n",
              "}\n",
              "</script>"
            ]
          },
          "metadata": {},
          "execution_count": 27
        }
      ]
    },
    {
      "cell_type": "code",
      "source": [
        "num_topics = 5\n",
        "\n",
        "lda_multicore_5_topics = gensim.models.ldamulticore.LdaMulticore(corpus=corpus,\n",
        "                                                        id2word=id2word,\n",
        "                                                        num_topics=num_topics, \n",
        "                                                        chunksize=100,\n",
        "                                                        passes=10,\n",
        "                                                        per_word_topics=True,\n",
        "                                                        workers=1, \n",
        "                                                        random_state=1234, \n",
        "                                                        iterations=10) "
      ],
      "metadata": {
        "id": "tGu_J1OgTmnu"
      },
      "execution_count": null,
      "outputs": []
    },
    {
      "cell_type": "code",
      "source": [
        "pyLDAvis.enable_notebook()\n",
        "vis = pyLDAvis.gensim_models.prepare(lda_multicore_5_topics, corpus, id2word)\n",
        "vis"
      ],
      "metadata": {
        "id": "lWCU_P8oTq68",
        "colab": {
          "base_uri": "https://localhost:8080/",
          "height": 917
        },
        "outputId": "55aba83d-b19d-44ac-bea7-26f261aa4be3"
      },
      "execution_count": null,
      "outputs": [
        {
          "output_type": "stream",
          "name": "stderr",
          "text": [
            "/usr/local/lib/python3.7/dist-packages/pyLDAvis/_prepare.py:247: FutureWarning: In a future version of pandas all arguments of DataFrame.drop except for the argument 'labels' will be keyword-only\n",
            "  by='saliency', ascending=False).head(R).drop('saliency', 1)\n"
          ]
        },
        {
          "output_type": "execute_result",
          "data": {
            "text/plain": [
              "PreparedData(topic_coordinates=              x         y  topics  cluster       Freq\n",
              "topic                                                \n",
              "2      0.142690 -0.007634       1        1  27.995794\n",
              "3     -0.165189  0.007333       2        1  24.583939\n",
              "1     -0.056582 -0.095778       3        1  19.959021\n",
              "4      0.066885 -0.078450       4        1  13.893935\n",
              "0      0.012196  0.174529       5        1  13.567311, topic_info=            Term       Freq      Total Category  logprob  loglift\n",
              "18          hope  51.000000  51.000000  Default  30.0000  30.0000\n",
              "34      guidance  34.000000  34.000000  Default  29.0000  29.0000\n",
              "19           job  64.000000  64.000000  Default  28.0000  28.0000\n",
              "77          tech  18.000000  18.000000  Default  27.0000  27.0000\n",
              "30          want  32.000000  32.000000  Default  26.0000  26.0000\n",
              "..           ...        ...        ...      ...      ...      ...\n",
              "230         know   3.947405  15.443705   Topic5  -4.6084   0.6334\n",
              "89      industry   4.039868  26.723882   Topic5  -4.5853   0.1082\n",
              "28   programming   3.278050   8.669109   Topic5  -4.7942   1.0250\n",
              "21     community   3.704972  28.642476   Topic5  -4.6718  -0.0477\n",
              "166          web   3.354246  10.909168   Topic5  -4.7713   0.8181\n",
              "\n",
              "[294 rows x 6 columns], token_table=      Topic      Freq     Term\n",
              "term                          \n",
              "410       1  0.892756  ability\n",
              "243       1  0.183189     able\n",
              "243       3  0.274784     able\n",
              "243       4  0.366378     able\n",
              "243       5  0.183189     able\n",
              "...     ...       ...      ...\n",
              "111       2  0.472955     work\n",
              "111       4  0.270260     work\n",
              "116       1  0.687854    world\n",
              "116       3  0.114642    world\n",
              "116       5  0.114642    world\n",
              "\n",
              "[365 rows x 3 columns], R=30, lambda_step=0.01, plot_opts={'xlab': 'PC1', 'ylab': 'PC2'}, topic_order=[3, 4, 2, 5, 1])"
            ],
            "text/html": [
              "\n",
              "<link rel=\"stylesheet\" type=\"text/css\" href=\"https://cdn.jsdelivr.net/gh/bmabey/pyLDAvis@3.3.1/pyLDAvis/js/ldavis.v1.0.0.css\">\n",
              "\n",
              "\n",
              "<div id=\"ldavis_el1591401566165159209859407720\"></div>\n",
              "<script type=\"text/javascript\">\n",
              "\n",
              "var ldavis_el1591401566165159209859407720_data = {\"mdsDat\": {\"x\": [0.14268982090559895, -0.16518895883185308, -0.056582034218395416, 0.06688534818504278, 0.01219582395960674], \"y\": [-0.007634108282489971, 0.007333050458699872, -0.0957778714229573, -0.07845049033371733, 0.1745294195804647], \"topics\": [1, 2, 3, 4, 5], \"cluster\": [1, 1, 1, 1, 1], \"Freq\": [27.99579447312514, 24.58393910535826, 19.95902100037555, 13.893934648286216, 13.56731077285483]}, \"tinfo\": {\"Term\": [\"hope\", \"guidance\", \"job\", \"tech\", \"want\", \"skill\", \"gain\", \"career\", \"experience\", \"support\", \"friend\", \"opportunity\", \"mentor\", \"build\", \"like\", \"engineer\", \"direction\", \"interview\", \"advice\", \"employment\", \"connection\", \"mentorship\", \"help\", \"time\", \"life\", \"good\", \"javascript\", \"question\", \"start\", \"project\", \"javascript\", \"question\", \"ask\", \"teach\", \"ability\", \"dev\", \"right\", \"lack\", \"important\", \"time\", \"ios\", \"stand\", \"commit\", \"self\", \"comfortable\", \"framework\", \"course\", \"door\", \"prepare\", \"hard\", \"asia\", \"compare\", \"global\", \"tiny\", \"willing\", \"ultimate\", \"sure\", \"bootcamp\", \"foot\", \"search\", \"support\", \"thing\", \"guidance\", \"job\", \"developer\", \"learn\", \"industry\", \"mentorship\", \"web\", \"world\", \"development\", \"meet\", \"community\", \"get\", \"knowledge\", \"software\", \"background\", \"advice\", \"goal\", \"people\", \"mentor\", \"need\", \"help\", \"gain\", \"way\", \"land\", \"race\", \"grow\", \"successful\", \"understand\", \"finish\", \"line\", \"offer\", \"free\", \"folk\", \"bear\", \"person\", \"fundamental\", \"potential\", \"begin\", \"point\", \"believe\", \"actualize\", \"area\", \"chain\", \"deep\", \"dictate\", \"die\", \"dig\", \"middle\", \"pit\", \"run\", \"shackle\", \"starting\", \"truth\", \"network\", \"opportunity\", \"life\", \"forward\", \"direction\", \"career\", \"new\", \"engineering\", \"guide\", \"look\", \"pay\", \"help\", \"people\", \"like\", \"way\", \"gain\", \"confidence\", \"want\", \"work\", \"well\", \"interview\", \"developer\", \"hope\", \"software\", \"knowledge\", \"community\", \"build\", \"engineer\", \"develop\", \"day\", \"interact\", \"inspire\", \"interpersonal\", \"beneficial\", \"encourage\", \"hope\", \"relationship\", \"high\", \"position\", \"interested\", \"answer\", \"application\", \"improve\", \"navigate\", \"true\", \"live\", \"getting\", \"program\", \"confident\", \"science\", \"solve\", \"technology\", \"skilled\", \"survive\", \"hell\", \"care\", \"good\", \"experience\", \"skill\", \"mentor\", \"gain\", \"practice\", \"code\", \"understanding\", \"family\", \"stack\", \"well\", \"software\", \"job\", \"career\", \"future\", \"knowledge\", \"community\", \"learn\", \"help\", \"people\", \"want\", \"friend\", \"contribute\", \"prep\", \"source\", \"suitable\", \"connect\", \"android\", \"company\", \"pathway\", \"friendly\", \"hopefully\", \"continue\", \"remote\", \"interest\", \"secure\", \"compose\", \"familiar\", \"jetpack\", \"school\", \"w/\", \"analyst\", \"month\", \"benefit\", \"succeed\", \"past\", \"connection\", \"meaningful\", \"placement\", \"debt\", \"painless\", \"project\", \"minded\", \"networking\", \"open\", \"interview\", \"love\", \"receive\", \"experience\", \"like\", \"chance\", \"mentorship\", \"job\", \"work\", \"mentor\", \"help\", \"able\", \"code\", \"support\", \"learn\", \"industry\", \"find\", \"freelance\", \"etc\", \"encouragement\", \"valuable\", \"obtain\", \"increase\", \"business\", \"record\", \"create\", \"agency\", \"consultancy\", \"copywriting\", \"depth\", \"digital\", \"marketing\", \"slowly\", \"ladder\", \"laptop\", \"employment\", \"tech\", \"transition\", \"criminal\", \"start\", \"accountability\", \"potentially\", \"resource\", \"turn\", \"struggle\", \"m\", \"professional\", \"programmer\", \"want\", \"advice\", \"guidance\", \"sense\", \"expert\", \"stack\", \"skill\", \"help\", \"learn\", \"need\", \"direction\", \"development\", \"career\", \"opportunity\", \"path\", \"know\", \"industry\", \"programming\", \"community\", \"web\"], \"Freq\": [51.0, 34.0, 64.0, 18.0, 32.0, 45.0, 41.0, 37.0, 19.0, 25.0, 9.0, 18.0, 30.0, 11.0, 30.0, 10.0, 16.0, 19.0, 12.0, 8.0, 9.0, 21.0, 57.0, 14.0, 14.0, 14.0, 10.0, 10.0, 8.0, 8.0, 10.175358601131103, 10.011157595244415, 9.100920416715573, 8.363254538548672, 6.121627193880402, 5.854742051732448, 5.447963853801933, 5.2459819811037, 4.695677739513042, 12.544683167446752, 4.865570439092509, 3.8018847115188046, 3.800685639056015, 5.835505900353828, 3.7983780619648186, 3.7955666537277217, 3.8409304837147715, 3.7874437083799863, 6.799539991969654, 3.0967203184393877, 3.0673110779830153, 3.0673110779830153, 3.0673110779830153, 3.0673110779830153, 3.0672863430702635, 3.0424488755646872, 2.9227024062185762, 2.746191595329489, 3.4408284290045628, 2.8277479301922903, 19.776418192616575, 8.561792930854715, 22.22433280695039, 35.731732265968965, 15.487664396750723, 24.144238468973903, 14.545542774073278, 11.97511880063896, 7.094991294586258, 5.818673601957576, 7.701873414531455, 7.49608502902926, 12.361228505473958, 6.726655717517682, 9.096005399283204, 9.620305636829192, 5.255907150248254, 6.178192514510005, 5.900872283477689, 7.418030777275013, 7.63473372843184, 6.145849903669813, 6.826432550187797, 6.459611510853877, 5.974894363916251, 8.048285271264632, 7.888562350523672, 8.662020649348333, 7.395132935461264, 8.55856909648544, 5.306160489159182, 5.306160489159182, 4.83821986912537, 3.843077188970286, 3.7128326108783885, 8.195703049064301, 3.653958129174753, 3.3998060013077804, 3.3717508501584716, 3.1912875615341396, 3.062425073144751, 3.0656644294252446, 2.7237587948751694, 2.7237587948751694, 2.7237587948751694, 2.7237587948751694, 2.7237587948751694, 2.7237587948751694, 2.7237587948751694, 2.7237587948751694, 2.7237587948751694, 2.7237587948751694, 2.7237587948751694, 2.7237587948751694, 2.7237587948751694, 8.500502615966687, 13.85957014052694, 10.635336648132196, 6.728190445440503, 10.816591564054699, 21.230511159619045, 8.96002471910608, 4.186722966684243, 4.471791331781976, 7.383095789604452, 5.071889601364857, 25.501511857831495, 13.91136909820714, 15.036914080424042, 8.58731896825649, 15.563038471471186, 4.629120991775991, 10.487533916914419, 6.764015172913079, 6.7588289949191385, 6.680531073648764, 6.845129402697173, 8.479876196968362, 6.372601086936634, 5.797504071551604, 5.187235279196584, 10.604278785446315, 10.01964557223839, 7.205229068966781, 3.930996694895879, 3.9256668127694567, 3.5523941094570057, 3.0289088547260477, 3.0289047852853526, 3.028895018627684, 41.4803971751881, 2.305952639330525, 2.189994333667146, 5.449269207167088, 2.1286149596626487, 1.9839687248749507, 1.977580516871751, 5.590799471214532, 1.7105476166026161, 1.6084518606671638, 1.6084506398349554, 1.589741928831233, 5.467139477739592, 1.4062991385845145, 1.4034958365376695, 1.4025532184246565, 4.631733764096046, 1.261059443695445, 1.2603277582584624, 1.259407793365319, 1.2594075220692724, 9.619325466993846, 12.091682148380622, 24.227824292835663, 15.006430440694372, 18.707516215934092, 4.654072823143885, 7.037933276806207, 4.5144381045722275, 4.1746531000359655, 4.563008507044764, 7.8435338642066, 9.852866870342142, 16.993927913244082, 10.265299801463735, 3.4977548144278128, 6.708159367675988, 7.227182887628816, 8.172077717062708, 7.189449405727383, 5.2550206953945935, 4.17337963639444, 8.947579826715444, 4.602866935633942, 4.57131108146019, 3.0909249056277446, 3.0909173514104546, 3.088416716632104, 3.3225649694810664, 2.1503708403959956, 1.969243183583409, 2.123309367798802, 3.6878279947201675, 1.7600880586376972, 4.092699669763929, 1.6409714607134906, 1.6409170703490041, 1.435115545741376, 1.435115545741376, 1.435115545741376, 1.2852276935366787, 1.2294385712913132, 1.229358874298906, 2.714032351726453, 1.2225964334088073, 1.2540707964635445, 1.7340397954344957, 6.236633750462732, 1.6054269798107337, 0.9206434147210646, 0.9009028285271168, 0.9009028285271168, 5.276616999805584, 1.3328588276753741, 3.412851841395973, 3.837317645245977, 7.721042358146557, 4.202921743395712, 3.26903276407874, 6.73566421149328, 8.723681135885261, 4.500779620890663, 5.819657575344685, 10.806290458336461, 4.480104483590252, 6.7225395143740085, 8.349497335448653, 3.5897134428495865, 3.836156184337673, 4.547061666249119, 5.308646503403404, 4.292526091778487, 3.0402228877330355, 3.968933748620325, 3.9616010096781764, 3.6719635383514646, 4.840062102219415, 3.5232875629186307, 3.344951634024108, 3.028529803982574, 2.9046457595312747, 2.9033164908250977, 2.5821998046900774, 2.5821998046900774, 2.5821998046900774, 2.5821998046900774, 2.5821998046900774, 2.5821998046900774, 2.5821998046900774, 2.5821896618239784, 2.5821002201865624, 6.7258045880598285, 13.998845939834858, 1.521006404047753, 2.8775003147833376, 5.759223381347202, 1.395812362335864, 1.359996334607354, 2.8816959574490193, 1.224925723135752, 1.0696056171610002, 0.8940342647335, 4.7033462256587235, 4.554987076479665, 15.932442099097642, 6.132060754708676, 10.630791807489771, 3.685321877419255, 3.2024285055825183, 3.8535850181989906, 9.495554285624273, 10.09917800821859, 7.8452693998945415, 4.676550986414814, 4.722998674180151, 4.09636871828492, 5.583673974393625, 4.381918061326598, 3.4506631663256595, 3.9474046854548823, 4.039867790474005, 3.2780496580682996, 3.704972481783211, 3.354245818854006], \"Total\": [51.0, 34.0, 64.0, 18.0, 32.0, 45.0, 41.0, 37.0, 19.0, 25.0, 9.0, 18.0, 30.0, 11.0, 30.0, 10.0, 16.0, 19.0, 12.0, 8.0, 9.0, 21.0, 57.0, 14.0, 14.0, 14.0, 10.0, 10.0, 8.0, 8.0, 10.773205081202525, 10.63135062864334, 9.717732570715105, 8.957673657461951, 6.720764141080096, 6.4578211871979185, 6.043290015027982, 5.839445911830788, 5.3083200530606245, 14.282819106731598, 5.574424532636982, 4.395133365619885, 4.395143367747008, 6.749711100374451, 4.3950947626608095, 4.394100699042552, 4.457995771728335, 4.39918539518976, 7.993779533155249, 3.69142159111605, 3.66030355574557, 3.66030355574557, 3.66030355574557, 3.66030355574557, 3.6603018098054707, 3.6604936550587563, 3.518565052631058, 3.339819334869339, 4.194853380464258, 3.461150284201162, 25.474291172946007, 10.762899687906756, 34.14789076373866, 64.80604317305607, 25.451955741968394, 49.30882116254217, 26.723882192663428, 21.5210087620638, 10.909167539852302, 8.722779240216973, 13.102573830034192, 12.776963723475497, 28.642476215051282, 11.122112127337667, 24.128859722027855, 27.256952303333712, 8.553864293665002, 12.770640723695156, 11.504668099363188, 26.88373587256837, 30.70581429724788, 14.327825910282156, 57.96606915741391, 41.02628918763499, 15.03674253316487, 8.668969285887298, 8.499397331205387, 9.353024786460812, 8.011557114599825, 9.302553637196176, 5.916989110377789, 5.916989110377789, 5.451281584882198, 4.458783082763198, 4.327615798531559, 9.578650398640965, 4.278527058104288, 4.015659855670213, 3.987167663876662, 3.8061902579178897, 3.675023721298915, 3.6804523841305112, 3.3345812824191223, 3.3345812824191223, 3.3345812824191223, 3.3345812824191223, 3.3345812824191223, 3.3345812824191223, 3.3345812824191223, 3.3345812824191223, 3.3345812824191223, 3.3345812824191223, 3.3345812824191223, 3.3345812824191223, 3.3345812824191223, 10.804891091205612, 18.72398736402086, 14.361279279622483, 9.018898372237286, 16.214437897767876, 37.40609653616905, 13.678499193950087, 5.539110123798486, 6.009728181033463, 11.113361703693219, 7.229709242629411, 57.96606915741391, 26.88373587256837, 30.854455990559373, 15.03674253316487, 41.02628918763499, 6.72423089759666, 32.26998399844928, 14.800576079059669, 19.496974909610653, 19.970562529260462, 25.451955741968394, 51.51308925868211, 27.256952303333712, 24.128859722027855, 28.642476215051282, 11.20846309667897, 10.622212446583227, 7.956792893015428, 4.526201203238826, 4.526083080658113, 4.147806511395213, 3.6238941135458, 3.6238937259832276, 3.623893473344453, 51.51308925868211, 2.903773527736855, 2.7896368252338504, 6.955812873534956, 2.727089344470455, 2.581514898667217, 2.581661625875234, 7.303731202443768, 2.323674809480143, 2.20343889330032, 2.203438993527163, 2.202982698158444, 7.636602220537573, 2.00170170936468, 2.001668391623763, 2.0013249343326356, 6.707643198321816, 1.8561694845328445, 1.856181987904208, 1.8561968519117842, 1.856196688561135, 14.761958978786264, 19.769397246886506, 45.007513110226505, 30.70581429724788, 41.02628918763499, 8.305534614958528, 13.770057554803515, 8.660095692527074, 7.980379641065223, 9.110932647552316, 19.496974909610653, 27.256952303333712, 64.80604317305607, 37.40609653616905, 6.7658020889328006, 24.128859722027855, 28.642476215051282, 49.30882116254217, 57.96606915741391, 26.88373587256837, 32.26998399844928, 9.549007126765137, 5.195312842439745, 5.1635916705696365, 3.6826932989436534, 3.6826925184614403, 3.6884939712193066, 4.215041854301152, 2.7422797220451316, 2.5619885084144007, 2.7988273036225424, 4.933112909689201, 2.3559374941186073, 5.563224626532114, 2.2331459775998566, 2.233147991837275, 2.0273165371648547, 2.02731654652393, 2.02731654652393, 1.8787393359621278, 1.8214761418071757, 1.821466721355045, 4.0281798584136705, 1.8213684677640622, 1.8781114446477023, 2.7644049249830336, 9.957083097111393, 2.5906749253905543, 1.5238231641060898, 1.4926638528671612, 1.4926638582971798, 8.800850198334667, 2.2093318481218174, 6.047872979224456, 7.331357840872793, 19.970562529260462, 9.395503178497872, 7.097994832219631, 19.769397246886506, 30.854455990559373, 12.046215100703485, 21.5210087620638, 64.80604317305607, 14.800576079059669, 30.70581429724788, 57.96606915741391, 10.917673490547354, 13.770057554803515, 25.474291172946007, 49.30882116254217, 26.723882192663428, 12.240531504909619, 4.58841201319696, 4.589849980417001, 4.292530996579854, 5.681482758601479, 4.14155619420668, 3.9708063779077394, 3.6470956133011976, 3.522942248332749, 3.5231530724602065, 3.200365067014106, 3.200365067014106, 3.200365067014106, 3.200365067014106, 3.200365067014106, 3.200365067014106, 3.200365067014106, 3.200366888813499, 3.2003812641838754, 8.673777534280301, 18.829276646590753, 2.1401769222175715, 4.058610529610121, 8.239914113546405, 2.0162489846447214, 1.9915893980530472, 4.2270022564247025, 1.8440118417969464, 1.694243983362612, 1.5228793723094118, 8.203902437134786, 8.11853868921474, 32.26998399844928, 12.770640723695156, 34.14789076373866, 7.947467655555235, 6.7267478824508204, 9.110932647552316, 45.007513110226505, 57.96606915741391, 49.30882116254217, 14.327825910282156, 16.214437897767876, 13.102573830034192, 37.40609653616905, 18.72398736402086, 8.834771869191865, 15.443704696827895, 26.723882192663428, 8.669108968395285, 28.642476215051282, 10.909167539852302], \"Category\": [\"Default\", \"Default\", \"Default\", \"Default\", \"Default\", \"Default\", \"Default\", \"Default\", \"Default\", \"Default\", \"Default\", \"Default\", \"Default\", \"Default\", \"Default\", \"Default\", \"Default\", \"Default\", \"Default\", \"Default\", \"Default\", \"Default\", \"Default\", \"Default\", \"Default\", \"Default\", \"Default\", \"Default\", \"Default\", \"Default\", \"Topic1\", \"Topic1\", \"Topic1\", \"Topic1\", \"Topic1\", \"Topic1\", \"Topic1\", \"Topic1\", \"Topic1\", \"Topic1\", \"Topic1\", \"Topic1\", \"Topic1\", \"Topic1\", \"Topic1\", \"Topic1\", \"Topic1\", \"Topic1\", \"Topic1\", \"Topic1\", \"Topic1\", \"Topic1\", \"Topic1\", \"Topic1\", \"Topic1\", \"Topic1\", \"Topic1\", \"Topic1\", \"Topic1\", \"Topic1\", \"Topic1\", \"Topic1\", \"Topic1\", \"Topic1\", \"Topic1\", \"Topic1\", \"Topic1\", \"Topic1\", \"Topic1\", \"Topic1\", \"Topic1\", \"Topic1\", \"Topic1\", \"Topic1\", \"Topic1\", \"Topic1\", \"Topic1\", \"Topic1\", \"Topic1\", \"Topic1\", \"Topic1\", \"Topic1\", \"Topic1\", \"Topic1\", \"Topic1\", \"Topic2\", \"Topic2\", \"Topic2\", \"Topic2\", \"Topic2\", \"Topic2\", \"Topic2\", \"Topic2\", \"Topic2\", \"Topic2\", \"Topic2\", \"Topic2\", \"Topic2\", \"Topic2\", \"Topic2\", \"Topic2\", \"Topic2\", \"Topic2\", \"Topic2\", \"Topic2\", \"Topic2\", \"Topic2\", \"Topic2\", \"Topic2\", \"Topic2\", \"Topic2\", \"Topic2\", \"Topic2\", \"Topic2\", \"Topic2\", \"Topic2\", \"Topic2\", \"Topic2\", \"Topic2\", \"Topic2\", \"Topic2\", \"Topic2\", \"Topic2\", \"Topic2\", \"Topic2\", \"Topic2\", \"Topic2\", \"Topic2\", \"Topic2\", \"Topic2\", \"Topic2\", \"Topic2\", \"Topic2\", \"Topic2\", \"Topic2\", \"Topic2\", \"Topic2\", \"Topic2\", \"Topic2\", \"Topic2\", \"Topic2\", \"Topic3\", \"Topic3\", \"Topic3\", \"Topic3\", \"Topic3\", \"Topic3\", \"Topic3\", \"Topic3\", \"Topic3\", \"Topic3\", \"Topic3\", \"Topic3\", \"Topic3\", \"Topic3\", \"Topic3\", \"Topic3\", \"Topic3\", \"Topic3\", \"Topic3\", \"Topic3\", \"Topic3\", \"Topic3\", \"Topic3\", \"Topic3\", \"Topic3\", \"Topic3\", \"Topic3\", \"Topic3\", \"Topic3\", \"Topic3\", \"Topic3\", \"Topic3\", \"Topic3\", \"Topic3\", \"Topic3\", \"Topic3\", \"Topic3\", \"Topic3\", \"Topic3\", \"Topic3\", \"Topic3\", \"Topic3\", \"Topic3\", \"Topic3\", \"Topic3\", \"Topic3\", \"Topic3\", \"Topic3\", \"Topic3\", \"Topic3\", \"Topic3\", \"Topic4\", \"Topic4\", \"Topic4\", \"Topic4\", \"Topic4\", \"Topic4\", \"Topic4\", \"Topic4\", \"Topic4\", \"Topic4\", \"Topic4\", \"Topic4\", \"Topic4\", \"Topic4\", \"Topic4\", \"Topic4\", \"Topic4\", \"Topic4\", \"Topic4\", \"Topic4\", \"Topic4\", \"Topic4\", \"Topic4\", \"Topic4\", \"Topic4\", \"Topic4\", \"Topic4\", \"Topic4\", \"Topic4\", \"Topic4\", \"Topic4\", \"Topic4\", \"Topic4\", \"Topic4\", \"Topic4\", \"Topic4\", \"Topic4\", \"Topic4\", \"Topic4\", \"Topic4\", \"Topic4\", \"Topic4\", \"Topic4\", \"Topic4\", \"Topic4\", \"Topic4\", \"Topic4\", \"Topic4\", \"Topic4\", \"Topic4\", \"Topic4\", \"Topic5\", \"Topic5\", \"Topic5\", \"Topic5\", \"Topic5\", \"Topic5\", \"Topic5\", \"Topic5\", \"Topic5\", \"Topic5\", \"Topic5\", \"Topic5\", \"Topic5\", \"Topic5\", \"Topic5\", \"Topic5\", \"Topic5\", \"Topic5\", \"Topic5\", \"Topic5\", \"Topic5\", \"Topic5\", \"Topic5\", \"Topic5\", \"Topic5\", \"Topic5\", \"Topic5\", \"Topic5\", \"Topic5\", \"Topic5\", \"Topic5\", \"Topic5\", \"Topic5\", \"Topic5\", \"Topic5\", \"Topic5\", \"Topic5\", \"Topic5\", \"Topic5\", \"Topic5\", \"Topic5\", \"Topic5\", \"Topic5\", \"Topic5\", \"Topic5\", \"Topic5\", \"Topic5\", \"Topic5\", \"Topic5\", \"Topic5\", \"Topic5\"], \"logprob\": [30.0, 29.0, 28.0, 27.0, 26.0, 25.0, 24.0, 23.0, 22.0, 21.0, 20.0, 19.0, 18.0, 17.0, 16.0, 15.0, 14.0, 13.0, 12.0, 11.0, 10.0, 9.0, 8.0, 7.0, 6.0, 5.0, 4.0, 3.0, 2.0, 1.0, -4.3859, -4.4022, -4.4975, -4.582, -4.8941, -4.9386, -5.0106, -5.0484, -5.1592, -4.1766, -5.1237, -5.3704, -5.3707, -4.9419, -5.3713, -5.372, -5.3602, -5.3742, -4.789, -5.5755, -5.5851, -5.5851, -5.5851, -5.5851, -5.5851, -5.5932, -5.6334, -5.6957, -5.4702, -5.6664, -3.7214, -4.5586, -3.6047, -3.1298, -3.9658, -3.5218, -4.0286, -4.223, -4.7465, -4.9448, -4.6644, -4.6915, -4.1913, -4.7998, -4.498, -4.442, -5.0465, -4.8849, -4.9308, -4.702, -4.6732, -4.8901, -4.7851, -4.8403, -4.9183, -4.4905, -4.5105, -4.417, -4.5751, -4.429, -4.9071, -4.9071, -4.9994, -5.2296, -5.2641, -4.4723, -5.2801, -5.3522, -5.3605, -5.4155, -5.4567, -5.4557, -5.5739, -5.5739, -5.5739, -5.5739, -5.5739, -5.5739, -5.5739, -5.5739, -5.5739, -5.5739, -5.5739, -5.5739, -5.5739, -4.4358, -3.9469, -4.2117, -4.6696, -4.1948, -3.5205, -4.3831, -5.144, -5.0781, -4.5767, -4.9522, -3.3372, -3.9432, -3.8654, -4.4256, -3.831, -5.0436, -4.2257, -4.6643, -4.6651, -4.6767, -4.6524, -4.4382, -4.7239, -4.8185, -4.9297, -4.0062, -4.063, -4.3927, -4.9986, -5.0, -5.0999, -5.2593, -5.2593, -5.2593, -2.6423, -5.532, -5.5836, -4.672, -5.612, -5.6824, -5.6856, -4.6464, -5.8307, -5.8922, -5.8922, -5.9039, -4.6688, -6.0265, -6.0285, -6.0292, -4.8346, -6.1356, -6.1361, -6.1369, -6.1369, -4.1037, -3.875, -3.18, -3.659, -3.4386, -4.8298, -4.4162, -4.8602, -4.9385, -4.8495, -4.3078, -4.0797, -3.5347, -4.0387, -5.1154, -4.4642, -4.3897, -4.2668, -4.3949, -4.7083, -4.9388, -3.8139, -4.4786, -4.4855, -4.8768, -4.8768, -4.8776, -4.8045, -5.2396, -5.3276, -5.2523, -4.7002, -5.4399, -4.5961, -5.51, -5.51, -5.644, -5.644, -5.644, -5.7543, -5.7987, -5.7988, -5.0068, -5.8043, -5.7789, -5.4548, -4.1748, -5.5319, -6.088, -6.1096, -6.1096, -4.342, -5.718, -4.7777, -4.6605, -3.9613, -4.5695, -4.8208, -4.0979, -3.8392, -4.501, -4.244, -3.6252, -4.5056, -4.0998, -3.8831, -4.7272, -4.6608, -4.4908, -4.3359, -4.5484, -4.8933, -4.603, -4.6048, -4.6808, -4.4046, -4.7221, -4.774, -4.8734, -4.9152, -4.9156, -5.0328, -5.0328, -5.0328, -5.0328, -5.0328, -5.0328, -5.0328, -5.0329, -5.0329, -4.0755, -3.3425, -5.5621, -4.9246, -4.2307, -5.648, -5.674, -4.9231, -5.7786, -5.9142, -6.0935, -4.4332, -4.4653, -3.2131, -4.168, -3.6177, -4.6771, -4.8176, -4.6325, -3.7307, -3.669, -3.9216, -4.4389, -4.429, -4.5714, -4.2616, -4.504, -4.7429, -4.6084, -4.5853, -4.7942, -4.6718, -4.7713], \"loglift\": [30.0, 29.0, 28.0, 27.0, 26.0, 25.0, 24.0, 23.0, 22.0, 21.0, 20.0, 19.0, 18.0, 17.0, 16.0, 15.0, 14.0, 13.0, 12.0, 11.0, 10.0, 9.0, 8.0, 7.0, 6.0, 5.0, 4.0, 3.0, 2.0, 1.0, 1.216, 1.213, 1.2075, 1.2045, 1.1797, 1.1751, 1.1694, 1.1659, 1.1505, 1.1434, 1.1371, 1.1281, 1.1278, 1.1276, 1.1272, 1.1267, 1.1241, 1.1234, 1.1113, 1.0974, 1.0964, 1.0964, 1.0964, 1.0964, 1.0964, 1.0882, 1.0876, 1.0774, 1.075, 1.071, 1.0199, 1.0443, 0.8436, 0.6778, 0.7764, 0.5591, 0.6648, 0.6869, 0.8429, 0.8683, 0.7418, 0.7399, 0.4328, 0.7703, 0.2975, 0.2317, 0.7861, 0.547, 0.6055, -0.0145, -0.1186, 0.4267, -0.8659, -0.5755, 0.3502, 1.3288, 1.3285, 1.3263, 1.323, 1.3197, 1.2941, 1.2941, 1.2838, 1.2545, 1.2499, 1.2472, 1.2453, 1.2366, 1.2354, 1.2269, 1.2207, 1.2203, 1.2007, 1.2007, 1.2007, 1.2007, 1.2007, 1.2007, 1.2007, 1.2007, 1.2007, 1.2007, 1.2007, 1.2007, 1.2007, 1.1632, 1.1022, 1.1027, 1.1101, 0.9983, 0.8367, 0.98, 1.1232, 1.1075, 0.9941, 1.0486, 0.582, 0.7443, 0.6843, 0.8429, 0.4338, 1.0297, 0.2791, 0.62, 0.3437, 0.308, 0.0898, -0.4011, -0.0502, -0.0229, -0.3056, 1.5561, 1.5531, 1.5123, 1.4705, 1.4692, 1.4565, 1.4321, 1.4321, 1.4321, 1.3949, 1.381, 1.3695, 1.3674, 1.3637, 1.3482, 1.3449, 1.3442, 1.3052, 1.2967, 1.2967, 1.2852, 1.2773, 1.2585, 1.2565, 1.256, 1.2412, 1.2249, 1.2243, 1.2236, 1.2236, 1.1832, 1.1199, 0.9922, 0.8955, 0.8262, 1.0323, 0.9403, 0.96, 0.9635, 0.92, 0.7009, 0.5939, 0.2729, 0.3184, 0.9517, 0.3314, 0.2344, -0.1859, -0.4758, -0.0208, -0.4339, 1.9087, 1.8526, 1.8519, 1.7985, 1.7985, 1.7962, 1.7358, 1.7306, 1.7106, 1.6975, 1.6828, 1.6821, 1.6667, 1.6656, 1.6656, 1.6283, 1.6283, 1.6283, 1.5941, 1.5806, 1.5806, 1.5788, 1.5751, 1.5698, 1.5073, 1.5059, 1.4952, 1.4698, 1.4688, 1.4688, 1.4622, 1.4684, 1.4016, 1.3263, 1.0234, 1.1693, 1.1984, 0.897, 0.7105, 0.9892, 0.6659, 0.1824, 0.7787, 0.4547, 0.0361, 0.8614, 0.6957, 0.2505, -0.255, 0.145, 0.5809, 1.8525, 1.8503, 1.8414, 1.8372, 1.8358, 1.826, 1.8117, 1.8045, 1.804, 1.7829, 1.7829, 1.7829, 1.7829, 1.7829, 1.7829, 1.7829, 1.7829, 1.7828, 1.7432, 1.7011, 1.656, 1.6536, 1.6393, 1.6297, 1.6161, 1.6144, 1.5884, 1.5376, 1.4649, 1.4412, 1.4196, 1.2917, 1.2639, 0.8306, 1.229, 1.2553, 1.137, 0.4415, 0.2501, 0.1593, 0.8779, 0.764, 0.8348, 0.0955, 0.5452, 1.0574, 0.6334, 0.1082, 1.025, -0.0477, 0.8181]}, \"token.table\": {\"Topic\": [1, 1, 3, 4, 5, 5, 2, 1, 5, 5, 4, 4, 3, 3, 2, 1, 1, 1, 2, 1, 2, 2, 2, 3, 4, 1, 3, 5, 3, 2, 3, 5, 2, 1, 2, 4, 5, 2, 3, 4, 1, 1, 1, 2, 3, 5, 4, 1, 4, 2, 3, 3, 4, 2, 4, 5, 4, 4, 5, 1, 5, 1, 5, 3, 4, 2, 5, 1, 3, 1, 2, 4, 5, 1, 4, 5, 2, 2, 2, 5, 2, 5, 1, 4, 5, 3, 5, 3, 2, 4, 5, 1, 3, 4, 1, 5, 4, 1, 3, 5, 1, 2, 3, 4, 5, 2, 2, 1, 2, 3, 1, 2, 5, 4, 4, 2, 2, 3, 1, 2, 3, 1, 2, 3, 3, 1, 1, 3, 4, 1, 3, 5, 2, 1, 3, 5, 2, 4, 1, 3, 1, 2, 3, 4, 5, 3, 1, 2, 3, 2, 4, 1, 2, 3, 5, 1, 3, 4, 5, 3, 3, 4, 3, 3, 1, 2, 4, 1, 1, 4, 1, 2, 3, 4, 1, 2, 3, 5, 1, 2, 3, 5, 1, 5, 2, 5, 1, 2, 3, 4, 5, 2, 3, 1, 2, 4, 5, 2, 3, 1, 2, 4, 3, 4, 5, 5, 5, 1, 4, 1, 2, 1, 2, 3, 4, 1, 2, 4, 2, 4, 3, 4, 3, 1, 3, 5, 2, 4, 3, 4, 1, 2, 3, 5, 2, 1, 4, 2, 5, 4, 1, 4, 1, 2, 5, 4, 2, 3, 1, 2, 3, 2, 2, 4, 2, 3, 5, 2, 5, 2, 3, 4, 1, 2, 3, 5, 2, 3, 1, 2, 5, 1, 2, 3, 5, 2, 4, 1, 2, 2, 4, 5, 3, 4, 5, 3, 5, 1, 2, 4, 3, 1, 4, 1, 2, 5, 2, 1, 2, 3, 4, 5, 3, 5, 1, 2, 3, 4, 3, 4, 3, 5, 1, 1, 4, 5, 2, 5, 4, 2, 4, 1, 4, 5, 1, 3, 1, 2, 5, 3, 4, 1, 4, 1, 4, 1, 5, 3, 2, 5, 1, 2, 2, 3, 5, 4, 1, 2, 3, 4, 5, 1, 2, 1, 5, 1, 2, 3, 1, 1, 2, 4, 1, 3, 5], \"Freq\": [0.8927556263023, 0.18318921166964947, 0.27478381750447417, 0.36637842333929893, 0.18318921166964947, 0.49597049154929035, 0.8996631798471575, 0.46982764058716026, 0.46982764058716026, 0.9373930589734115, 0.5490081088366354, 0.7117367048060774, 0.7747388949924553, 0.7746948631666479, 0.8996631798471575, 0.8196041542212823, 0.9261419713403073, 0.5845311345075936, 0.3507186807045562, 0.10439884100393534, 0.8351907280314828, 0.7881897111578174, 0.8151171885650506, 0.8278388459600995, 0.5490377250395765, 0.8982521804932802, 0.981401277331168, 0.8225723474478713, 0.5387360112010373, 0.5614058120096675, 0.26733610095698457, 0.16040166057419072, 0.8996631798471575, 0.33205450563193123, 0.2490408792239484, 0.415068132039914, 0.08301362640798281, 0.21786401313576842, 0.5083493639834596, 0.2904853508476912, 0.9101055189941758, 0.9100954543037894, 0.418958190273163, 0.1745659126138179, 0.24439227765934507, 0.13965273009105433, 0.7293202017000819, 0.8196041542212823, 0.49326288306140487, 0.7435794630114612, 0.29743178520458446, 0.49957493432794736, 0.8133400849800736, 0.3012930564846162, 0.6025861129692324, 0.9373930589734115, 0.8489189568877892, 0.9624059516023244, 0.9373930589734115, 0.8972641978189286, 0.8515099793563922, 0.2463897416873016, 0.7391692250619047, 0.8837433026922685, 0.6699432012634089, 0.8996631798471575, 0.9373930589734115, 0.9291059362087154, 0.8797514393198154, 0.5893456735533336, 0.2750279809915557, 0.07857942314044448, 0.03928971157022224, 0.6105670613862226, 0.07632088267327783, 0.3052835306931113, 0.8996631798471575, 0.8996631798471575, 0.8996631798471575, 0.9373930589734115, 0.6784077295404912, 0.30836714979113233, 0.9092592470355433, 0.11529002168291996, 0.8070301517804398, 0.8278389036726655, 0.9318511626793299, 0.941423460534969, 0.7221376557967709, 0.18053441394919273, 0.8714881787131066, 0.05058323162369002, 0.6069987794842803, 0.3540826213658302, 0.4459807402365408, 0.4459807402365408, 0.49326288078426445, 0.1253073218289299, 0.5012292873157196, 0.2506146436578598, 0.32678319551692825, 0.08169579887923206, 0.08169579887923206, 0.2450873966376962, 0.16339159775846412, 0.8450243707953621, 0.9242964685906903, 0.7151620635827755, 0.7761480073384545, 0.2217565735252727, 0.9103114093110283, 0.8971057631090498, 0.8717612953011633, 0.9425063653763215, 0.7145849968704341, 0.7470752274408711, 0.44340640777939205, 0.44340640777939205, 0.14624768944027125, 0.38999383850739, 0.4631176832275256, 0.6293768593461943, 0.2697329397197975, 0.08991097990659917, 0.9078600579441115, 0.8196041542212823, 0.5215274311418089, 0.3476849540945392, 0.1738424770472696, 0.2709667467406065, 0.6774168668515163, 0.06774168668515163, 0.9622555489244675, 0.6442564828443695, 0.02928438558383498, 0.32212824142218477, 0.6655875073724449, 0.16639687684311122, 0.8126950352189363, 0.5387359637907224, 0.12076030170323691, 0.4485382634691657, 0.12076030170323691, 0.1380117733751279, 0.1725147167189099, 0.7169392022319405, 0.019412541829481877, 0.15530033463585502, 0.7959142150087569, 0.20271175995908894, 0.8108470398363558, 0.9419175840984086, 0.13691632020430985, 0.8214979212258591, 0.7555140478999463, 0.5612956939361896, 0.14967885171631723, 0.14967885171631723, 0.14967885171631723, 0.9643651382992079, 0.8837663667937756, 0.8955975202971561, 0.7333826462470957, 0.8278387574256825, 0.25036851078551753, 0.3505159150997245, 0.400589617256828, 0.8969535726470315, 0.9282288719675781, 0.49326288078426445, 0.5555037499183016, 0.015430659719952824, 0.262321215239198, 0.16973725691948108, 0.19425390855966015, 0.2590052114128802, 0.2590052114128802, 0.2590052114128802, 0.37299731954526094, 0.24866487969684065, 0.29010902631298074, 0.08288829323228021, 0.8562456225290039, 0.9373925253651831, 0.9228317388347019, 0.937388314815368, 0.4867283263756422, 0.0811213877292737, 0.1622427754585474, 0.10140173466159212, 0.1622427754585474, 0.765948477557158, 0.20889503933377038, 0.12964091803219255, 0.4861534426207221, 0.2916920655724332, 0.09723068852414442, 0.8450243707953621, 0.9076720553077318, 0.17996354778368776, 0.6298724172429071, 0.08998177389184388, 0.31930168539197196, 0.4257355805226293, 0.21286779026131464, 0.6566508274936594, 0.9373930589734115, 0.38599979881661384, 0.7719995976332277, 0.5478609904118841, 0.3913292788656315, 0.2605369759145918, 0.032567121989323974, 0.48850682983985966, 0.22796985392526783, 0.5575946802806485, 0.13939867007016213, 0.27879734014032426, 0.8996631798471575, 0.4526255305875002, 0.248251079929139, 0.744753239787417, 0.8607056339554862, 0.41876555714528796, 0.20938277857264398, 0.3489712976210733, 0.8329561051592033, 0.18510135670204517, 0.33069477597667213, 0.49604216396500816, 0.14621487135698244, 0.657966921106421, 0.14621487135698244, 0.9658205303589283, 0.9172155065088332, 0.40920114187781237, 0.5456015225037498, 0.7477039867534704, 0.21362971050099153, 0.6699431988262868, 0.3617415057260967, 0.7234830114521934, 0.22637822793979445, 0.3395673419096917, 0.3395673419096917, 0.7806436263985383, 0.6915907448280069, 0.27663629793120276, 0.26038047811437776, 0.5207609562287555, 0.1859860557959841, 0.9349011811023356, 0.8996631798471575, 0.6562441256670509, 0.816321261441999, 0.718823247678742, 0.1437646495357484, 0.7524138067179111, 0.5021115301063499, 0.3612049240751951, 0.6020082067919919, 0.9683182402857217, 0.8756808929951824, 0.12509727042788318, 0.3656796290531888, 0.6094660484219813, 0.13094828971327588, 0.6547414485663794, 0.24634975290035216, 0.12317487645017608, 0.6158743822508804, 0.23070421738743174, 0.11535210869371587, 0.11535210869371587, 0.3460563260811476, 0.3408761576884552, 0.5681269294807587, 0.9406142595897145, 0.9412432068128104, 0.4226545765266305, 0.4226545765266305, 0.851560936435948, 0.6887589479330922, 0.7190074585382032, 0.1797518646345508, 0.23657427636336856, 0.7097228290901056, 0.8273639007173891, 0.8996631798471575, 0.5322718169883245, 0.4995832497453762, 0.8667638656702836, 0.8955967124930858, 0.8889269349123905, 0.5033049737804246, 0.5033049737804246, 0.8996631798471575, 0.11109256331836542, 0.11109256331836542, 0.533244303928154, 0.022218512663673085, 0.19996661397305776, 0.5387439069184338, 0.9373930589734115, 0.366878875110954, 0.22012732506657243, 0.366878875110954, 0.036687887511095404, 0.4996689857029445, 0.8146211906542753, 0.5487912372333548, 0.4390329897866838, 0.9100975254333026, 0.12136048825509015, 0.12136048825509015, 0.7281629295305408, 0.8996631798471575, 0.5902337619728611, 0.5324497664128663, 0.8737377640663114, 0.8146213632989766, 0.7851052602099575, 0.19627631505248938, 0.03925526301049788, 0.8526203026306723, 0.5387402779018923, 0.8930890213147934, 0.21243513891035448, 0.7435229861862407, 0.745418301505803, 0.2981673206023212, 0.8362058795467955, 0.1858235287881768, 0.9101844602843849, 0.07001418925264499, 0.8196041542212823, 0.9345021802812801, 0.907672096594606, 0.8996631798471575, 0.5422958667258467, 0.8195615899658882, 0.9674762813528515, 0.46188866058970457, 0.5773608257371307, 0.880051953414846, 0.5490052694337523, 0.030988549608455172, 0.30988549608455174, 0.12395419843382069, 0.030988549608455172, 0.49581679373528276, 0.3990225932755361, 0.5985338899133041, 0.641662159319516, 0.27499806827979256, 0.25645004023343887, 0.3590300563268144, 0.41032006437350216, 0.8196045451671202, 0.20269481295694272, 0.47295456356619964, 0.27025975060925694, 0.6878541614737409, 0.11464236024562348, 0.11464236024562348], \"Term\": [\"ability\", \"able\", \"able\", \"able\", \"able\", \"accountability\", \"actualize\", \"advice\", \"advice\", \"agency\", \"analyst\", \"android\", \"answer\", \"application\", \"area\", \"asia\", \"ask\", \"background\", \"background\", \"bear\", \"bear\", \"begin\", \"believe\", \"beneficial\", \"benefit\", \"bootcamp\", \"build\", \"business\", \"care\", \"career\", \"career\", \"career\", \"chain\", \"chance\", \"chance\", \"chance\", \"chance\", \"code\", \"code\", \"code\", \"comfortable\", \"commit\", \"community\", \"community\", \"community\", \"community\", \"company\", \"compare\", \"compose\", \"confidence\", \"confidence\", \"confident\", \"connect\", \"connection\", \"connection\", \"consultancy\", \"continue\", \"contribute\", \"copywriting\", \"course\", \"create\", \"criminal\", \"criminal\", \"day\", \"debt\", \"deep\", \"depth\", \"dev\", \"develop\", \"developer\", \"developer\", \"developer\", \"developer\", \"development\", \"development\", \"development\", \"dictate\", \"die\", \"dig\", \"digital\", \"direction\", \"direction\", \"door\", \"employment\", \"employment\", \"encourage\", \"encouragement\", \"engineer\", \"engineering\", \"engineering\", \"etc\", \"experience\", \"experience\", \"experience\", \"expert\", \"expert\", \"familiar\", \"family\", \"family\", \"family\", \"find\", \"find\", \"find\", \"find\", \"find\", \"finish\", \"folk\", \"foot\", \"forward\", \"forward\", \"framework\", \"free\", \"freelance\", \"friend\", \"friendly\", \"fundamental\", \"future\", \"future\", \"gain\", \"gain\", \"gain\", \"get\", \"get\", \"get\", \"getting\", \"global\", \"goal\", \"goal\", \"goal\", \"good\", \"good\", \"good\", \"grow\", \"guidance\", \"guidance\", \"guidance\", \"guide\", \"guide\", \"hard\", \"hell\", \"help\", \"help\", \"help\", \"help\", \"help\", \"high\", \"hope\", \"hope\", \"hope\", \"hopefully\", \"hopefully\", \"important\", \"improve\", \"improve\", \"increase\", \"industry\", \"industry\", \"industry\", \"industry\", \"inspire\", \"interact\", \"interest\", \"interested\", \"interpersonal\", \"interview\", \"interview\", \"interview\", \"ios\", \"javascript\", \"jetpack\", \"job\", \"job\", \"job\", \"job\", \"know\", \"know\", \"know\", \"know\", \"knowledge\", \"knowledge\", \"knowledge\", \"knowledge\", \"lack\", \"ladder\", \"land\", \"laptop\", \"learn\", \"learn\", \"learn\", \"learn\", \"learn\", \"life\", \"life\", \"like\", \"like\", \"like\", \"like\", \"line\", \"live\", \"look\", \"look\", \"look\", \"love\", \"love\", \"love\", \"m\", \"marketing\", \"meaningful\", \"meaningful\", \"meet\", \"meet\", \"mentor\", \"mentor\", \"mentor\", \"mentor\", \"mentorship\", \"mentorship\", \"mentorship\", \"middle\", \"minded\", \"month\", \"month\", \"navigate\", \"need\", \"need\", \"need\", \"network\", \"network\", \"networking\", \"networking\", \"new\", \"new\", \"new\", \"obtain\", \"offer\", \"open\", \"open\", \"opportunity\", \"opportunity\", \"painless\", \"past\", \"past\", \"path\", \"path\", \"path\", \"pathway\", \"pay\", \"pay\", \"people\", \"people\", \"people\", \"person\", \"pit\", \"placement\", \"point\", \"position\", \"position\", \"potential\", \"potentially\", \"practice\", \"practice\", \"prep\", \"prepare\", \"prepare\", \"professional\", \"professional\", \"program\", \"program\", \"programmer\", \"programmer\", \"programmer\", \"programming\", \"programming\", \"programming\", \"programming\", \"project\", \"project\", \"question\", \"race\", \"receive\", \"receive\", \"record\", \"relationship\", \"remote\", \"remote\", \"resource\", \"resource\", \"right\", \"run\", \"school\", \"science\", \"search\", \"secure\", \"self\", \"sense\", \"sense\", \"shackle\", \"skill\", \"skill\", \"skill\", \"skill\", \"skill\", \"skilled\", \"slowly\", \"software\", \"software\", \"software\", \"software\", \"solve\", \"source\", \"stack\", \"stack\", \"stand\", \"start\", \"start\", \"start\", \"starting\", \"struggle\", \"succeed\", \"successful\", \"suitable\", \"support\", \"support\", \"support\", \"sure\", \"survive\", \"teach\", \"tech\", \"tech\", \"technology\", \"technology\", \"thing\", \"thing\", \"time\", \"time\", \"tiny\", \"transition\", \"true\", \"truth\", \"turn\", \"ultimate\", \"understand\", \"understanding\", \"understanding\", \"valuable\", \"w/\", \"want\", \"want\", \"want\", \"want\", \"want\", \"way\", \"way\", \"web\", \"web\", \"well\", \"well\", \"well\", \"willing\", \"work\", \"work\", \"work\", \"world\", \"world\", \"world\"]}, \"R\": 30, \"lambda.step\": 0.01, \"plot.opts\": {\"xlab\": \"PC1\", \"ylab\": \"PC2\"}, \"topic.order\": [3, 4, 2, 5, 1]};\n",
              "\n",
              "function LDAvis_load_lib(url, callback){\n",
              "  var s = document.createElement('script');\n",
              "  s.src = url;\n",
              "  s.async = true;\n",
              "  s.onreadystatechange = s.onload = callback;\n",
              "  s.onerror = function(){console.warn(\"failed to load library \" + url);};\n",
              "  document.getElementsByTagName(\"head\")[0].appendChild(s);\n",
              "}\n",
              "\n",
              "if(typeof(LDAvis) !== \"undefined\"){\n",
              "   // already loaded: just create the visualization\n",
              "   !function(LDAvis){\n",
              "       new LDAvis(\"#\" + \"ldavis_el1591401566165159209859407720\", ldavis_el1591401566165159209859407720_data);\n",
              "   }(LDAvis);\n",
              "}else if(typeof define === \"function\" && define.amd){\n",
              "   // require.js is available: use it to load d3/LDAvis\n",
              "   require.config({paths: {d3: \"https://d3js.org/d3.v5\"}});\n",
              "   require([\"d3\"], function(d3){\n",
              "      window.d3 = d3;\n",
              "      LDAvis_load_lib(\"https://cdn.jsdelivr.net/gh/bmabey/pyLDAvis@3.3.1/pyLDAvis/js/ldavis.v3.0.0.js\", function(){\n",
              "        new LDAvis(\"#\" + \"ldavis_el1591401566165159209859407720\", ldavis_el1591401566165159209859407720_data);\n",
              "      });\n",
              "    });\n",
              "}else{\n",
              "    // require.js not available: dynamically load d3 & LDAvis\n",
              "    LDAvis_load_lib(\"https://d3js.org/d3.v5.js\", function(){\n",
              "         LDAvis_load_lib(\"https://cdn.jsdelivr.net/gh/bmabey/pyLDAvis@3.3.1/pyLDAvis/js/ldavis.v3.0.0.js\", function(){\n",
              "                 new LDAvis(\"#\" + \"ldavis_el1591401566165159209859407720\", ldavis_el1591401566165159209859407720_data);\n",
              "            })\n",
              "         });\n",
              "}\n",
              "</script>"
            ]
          },
          "metadata": {},
          "execution_count": 29
        }
      ]
    },
    {
      "cell_type": "markdown",
      "source": [
        "### Coherence Measures\n"
      ],
      "metadata": {
        "id": "2ktNkVYUy3dC"
      }
    },
    {
      "cell_type": "markdown",
      "source": [
        "Coherence score in topic modeling measures how similar topic words are to each other. Usually, the coherence score increases with the increase in the number of topics. This increase becomes smaller as the number of topics gets higher. The best choice is a point after which the increase in coherence score is no longer worth the additional increase in the number of topics. "
      ],
      "metadata": {
        "id": "Cc-l3vI95it8"
      }
    },
    {
      "cell_type": "code",
      "source": [
        "def compute_coherence_values(dictionary, corpus, texts, limit=None, start=None, step=None):\n",
        "    \"\"\"\n",
        "    Compute c_v coherence for various number of topics\n",
        "\n",
        "    Parameters:\n",
        "    ----------\n",
        "    dictionary : Gensim dictionary\n",
        "    corpus : Gensim corpus\n",
        "    texts : List of input texts\n",
        "    limit : Max num of topics\n",
        "\n",
        "    Returns:\n",
        "    -------\n",
        "    model_list : List of LDA topic models\n",
        "    coherence_values : Coherence values corresponding to the LDA model with respective number of topics\n",
        "    \"\"\"\n",
        "    coherence_values = []\n",
        "    model_list = []\n",
        "    for num_topics in range(start, limit, step):\n",
        "        model = gensim.models.ldamulticore.LdaMulticore(corpus=corpus,\n",
        "                                                        id2word=id2word,\n",
        "                                                        num_topics=num_topics, \n",
        "                                                        chunksize=100,\n",
        "                                                        passes=10,\n",
        "                                                        random_state=1234,\n",
        "                                                        per_word_topics=True,\n",
        "                                                        workers=1)\n",
        "        model_list.append(model)\n",
        "        coherencemodel = CoherenceModel(model=model, texts=texts, dictionary=dictionary, coherence='c_v')\n",
        "        coherence_values.append(coherencemodel.get_coherence())\n",
        "\n",
        "    return model_list, coherence_values"
      ],
      "metadata": {
        "id": "wq0w6RqiUc10"
      },
      "execution_count": null,
      "outputs": []
    },
    {
      "cell_type": "code",
      "source": [
        "model_list, coherence_values = compute_coherence_values(dictionary=id2word, corpus=corpus, texts=lemmas, start=2, limit=10, step=1)"
      ],
      "metadata": {
        "id": "AQoCXRh503DM"
      },
      "execution_count": null,
      "outputs": []
    },
    {
      "cell_type": "markdown",
      "source": [
        "### Plot the coherence scores vs number of topics"
      ],
      "metadata": {
        "id": "vvppHfqhqxPY"
      }
    },
    {
      "cell_type": "code",
      "source": [
        "start=2; limit=10;  step=1;\n",
        "x = range(start, limit, step)\n",
        "\n",
        "plt.figure(figsize=(20,5))\n",
        "plt.grid()\n",
        "plt.title(\"Coherence Score vs. Number of Topics\")\n",
        "plt.xticks(x)\n",
        "plt.plot(x, coherence_values, \"-o\")\n",
        "\n",
        "plt.xlabel(\"Num Topics\")\n",
        "plt.ylabel(\"Coherence score\")\n",
        "\n",
        "plt.show();"
      ],
      "metadata": {
        "id": "UlpS4sU624qk",
        "colab": {
          "base_uri": "https://localhost:8080/",
          "height": 334
        },
        "outputId": "66c97dc0-4529-45f4-d0af-7189b44813a7"
      },
      "execution_count": null,
      "outputs": [
        {
          "output_type": "display_data",
          "data": {
            "text/plain": [
              "<Figure size 1440x360 with 1 Axes>"
            ],
            "image/png": "[encoded data removed]"
          },
          "metadata": {
            "needs_background": "light"
          }
        }
      ]
    },
    {
      "cell_type": "code",
      "source": [
        "num_topics = 7\n",
        "\n",
        "lda_multicore_7_topics = gensim.models.ldamulticore.LdaMulticore(corpus=corpus,\n",
        "                                                        id2word=id2word,\n",
        "                                                        num_topics=num_topics, \n",
        "                                                        chunksize=100,\n",
        "                                                        passes=10,\n",
        "                                                        per_word_topics=True,\n",
        "                                                        workers=1, \n",
        "                                                        random_state=1234, \n",
        "                                                        iterations=10) "
      ],
      "metadata": {
        "id": "W5QioHRy4ovv"
      },
      "execution_count": null,
      "outputs": []
    },
    {
      "cell_type": "code",
      "source": [
        "pyLDAvis.enable_notebook()\n",
        "vis = pyLDAvis.gensim_models.prepare(lda_multicore_7_topics, corpus, id2word)\n",
        "vis"
      ],
      "metadata": {
        "id": "1TTsGpLX4w9o",
        "colab": {
          "base_uri": "https://localhost:8080/",
          "height": 917
        },
        "outputId": "229979db-26f2-4e9a-f511-6d5bd20d8cc3"
      },
      "execution_count": null,
      "outputs": [
        {
          "output_type": "stream",
          "name": "stderr",
          "text": [
            "/usr/local/lib/python3.7/dist-packages/pyLDAvis/_prepare.py:247: FutureWarning: In a future version of pandas all arguments of DataFrame.drop except for the argument 'labels' will be keyword-only\n",
            "  by='saliency', ascending=False).head(R).drop('saliency', 1)\n"
          ]
        },
        {
          "output_type": "execute_result",
          "data": {
            "text/plain": [
              "PreparedData(topic_coordinates=              x         y  topics  cluster       Freq\n",
              "topic                                                \n",
              "1      0.081103  0.090283       1        1  19.014650\n",
              "2     -0.086328  0.010988       2        1  17.227190\n",
              "3      0.053321 -0.239709       3        1  16.138343\n",
              "6      0.065234  0.077006       4        1  13.961537\n",
              "4     -0.080303 -0.011466       5        1  13.172715\n",
              "5      0.154365  0.041328       6        1  12.722714\n",
              "0     -0.187393  0.031570       7        1   7.762852, topic_info=            Term       Freq      Total Category  logprob  loglift\n",
              "18          hope  51.000000  51.000000  Default  30.0000  30.0000\n",
              "144         gain  42.000000  42.000000  Default  29.0000  29.0000\n",
              "5         career  39.000000  39.000000  Default  28.0000  28.0000\n",
              "10     developer  25.000000  25.000000  Default  27.0000  27.0000\n",
              "15   opportunity  18.000000  18.000000  Default  26.0000  26.0000\n",
              "..           ...        ...        ...      ...      ...      ...\n",
              "104          way   3.067073  13.733815   Topic7  -4.3025   1.0567\n",
              "18          hope   4.517652  51.748865   Topic7  -3.9152   0.1174\n",
              "34      guidance   3.825207  37.206346   Topic7  -4.0816   0.2810\n",
              "13          well   2.570581  18.007684   Topic7  -4.4790   0.6092\n",
              "28   programming   1.804736   8.545278   Topic7  -4.8328   1.0009\n",
              "\n",
              "[367 rows x 6 columns], token_table=      Topic      Freq     Term\n",
              "term                          \n",
              "410       7  0.939108  ability\n",
              "243       1  0.176719     able\n",
              "243       2  0.265078     able\n",
              "243       5  0.265078     able\n",
              "243       6  0.265078     able\n",
              "...     ...       ...      ...\n",
              "111       5  0.063941     work\n",
              "116       2  0.248661    world\n",
              "116       4  0.248661    world\n",
              "116       5  0.124331    world\n",
              "116       7  0.372992    world\n",
              "\n",
              "[465 rows x 3 columns], R=30, lambda_step=0.01, plot_opts={'xlab': 'PC1', 'ylab': 'PC2'}, topic_order=[2, 3, 4, 7, 5, 6, 1])"
            ],
            "text/html": [
              "\n",
              "<link rel=\"stylesheet\" type=\"text/css\" href=\"https://cdn.jsdelivr.net/gh/bmabey/pyLDAvis@3.3.1/pyLDAvis/js/ldavis.v1.0.0.css\">\n",
              "\n",
              "\n",
              "<div id=\"ldavis_el1591401566460593449267624113\"></div>\n",
              "<script type=\"text/javascript\">\n",
              "\n",
              "var ldavis_el1591401566460593449267624113_data = {\"mdsDat\": {\"x\": [0.08110315060302001, -0.08632807993940768, 0.053321282932659135, 0.06523402322514422, -0.08030304689233342, 0.1543654788068678, -0.18739280873595013], \"y\": [0.0902826863961685, 0.010987670787982972, -0.2397085433807385, 0.07700629967926192, -0.011465791951630723, 0.04132813668733216, 0.03156954178162372], \"topics\": [1, 2, 3, 4, 5, 6, 7], \"cluster\": [1, 1, 1, 1, 1, 1, 1], \"Freq\": [19.014649671269606, 17.22718960433305, 16.138342747860825, 13.961536853285297, 13.172714791529714, 12.72271386760522, 7.762852464116285]}, \"tinfo\": {\"Term\": [\"hope\", \"gain\", \"career\", \"developer\", \"opportunity\", \"experience\", \"learn\", \"guidance\", \"knowledge\", \"interview\", \"want\", \"support\", \"skill\", \"mentor\", \"industry\", \"javascript\", \"tech\", \"ask\", \"mentorship\", \"question\", \"good\", \"way\", \"code\", \"job\", \"advice\", \"employment\", \"stack\", \"like\", \"direction\", \"friend\", \"experience\", \"improve\", \"encouragement\", \"acquire\", \"day\", \"interact\", \"gain\", \"interpersonal\", \"beneficial\", \"suitable\", \"position\", \"hope\", \"engineer\", \"hand\", \"join\", \"career\", \"build\", \"navigate\", \"impact\", \"new\", \"solve\", \"practice\", \"hell\", \"care\", \"survive\", \"one\", \"knowledge\", \"program\", \"main\", \"computer\", \"journey\", \"future\", \"skill\", \"tech\", \"professional\", \"tool\", \"software\", \"family\", \"community\", \"work\", \"industry\", \"mentor\", \"guidance\", \"job\", \"need\", \"people\", \"help\", \"learn\", \"land\", \"prepare\", \"offer\", \"maybe\", \"lack\", \"prep\", \"folk\", \"criminal\", \"check\", \"ladder\", \"retract\", \"sure\", \"bootcamp\", \"interview\", \"figure\", \"group\", \"transition\", \"story\", \"online\", \"hardship\", \"entirely\", \"formal\", \"getting\", \"developer\", \"ios\", \"grow\", \"history\", \"instead\", \"effort\", \"hunting\", \"far\", \"background\", \"network\", \"teach\", \"tech\", \"project\", \"want\", \"job\", \"help\", \"process\", \"guidance\", \"meet\", \"work\", \"connection\", \"hope\", \"advice\", \"thing\", \"mentorship\", \"opportunity\", \"race\", \"forward\", \"sense\", \"successful\", \"pay\", \"finish\", \"line\", \"guide\", \"ultimately\", \"engineering\", \"freelance\", \"expertise\", \"free\", \"bear\", \"obtain\", \"fundamental\", \"instruction\", \"believe\", \"point\", \"create\", \"actualize\", \"area\", \"chain\", \"deep\", \"dictate\", \"die\", \"dig\", \"middle\", \"pit\", \"way\", \"understand\", \"people\", \"life\", \"look\", \"want\", \"help\", \"go\", \"confidence\", \"career\", \"like\", \"break\", \"skill\", \"job\", \"know\", \"direction\", \"programmer\", \"sharpen\", \"person\", \"important\", \"situation\", \"android\", \"willing\", \"ultimate\", \"kind\", \"apply\", \"peer\", \"answer\", \"right\", \"helpful\", \"concept\", \"difference\", \"complete\", \"system\", \"commit\", \"remote\", \"achieve\", \"college\", \"time\", \"love\", \"goal\", \"coding\", \"connection\", \"support\", \"bother\", \"overstepping\", \"expert\", \"mentorship\", \"industry\", \"well\", \"meet\", \"learn\", \"like\", \"help\", \"understanding\", \"job\", \"thing\", \"community\", \"software\", \"chance\", \"people\", \"development\", \"gain\", \"mentor\", \"interview\", \"direction\", \"ask\", \"technology\", \"comfortable\", \"month\", \"question\", \"connect\", \"strong\", \"data\", \"employment\", \"high\", \"lot\", \"pathway\", \"motivation\", \"continue\", \"interest\", \"lead\", \"networking\", \"jetpack\", \"familiar\", \"compose\", \"science\", \"member\", \"meaningful\", \"relate\", \"backend\", \"succeed\", \"human\", \"analyst\", \"benefit\", \"w/\", \"feel\", \"assistance\", \"eventually\", \"find\", \"guidance\", \"resource\", \"similar\", \"receive\", \"mentorship\", \"field\", \"real\", \"like\", \"community\", \"support\", \"help\", \"learn\", \"able\", \"job\", \"thing\", \"stack\", \"friend\", \"develop\", \"dev\", \"contribute\", \"business\", \"record\", \"source\", \"agency\", \"consultancy\", \"copywriting\", \"depth\", \"digital\", \"marketing\", \"slowly\", \"code\", \"web\", \"good\", \"path\", \"etc\", \"minded\", \"bad\", \"advice\", \"exposure\", \"plan\", \"truly\", \"individual\", \"mutual\", \"relevant\", \"product\", \"direction\", \"development\", \"open\", \"mentor\", \"chance\", \"project\", \"want\", \"job\", \"know\", \"need\", \"skill\", \"learn\", \"well\", \"support\", \"like\", \"industry\", \"start\", \"get\", \"help\", \"javascript\", \"ability\", \"standard\", \"level\", \"increase\", \"framework\", \"laptop\", \"asia\", \"compare\", \"global\", \"tiny\", \"encourage\", \"term\", \"inspire\", \"turn\", \"country\", \"stand\", \"class\", \"design\", \"felon\", \"belong\", \"python\", \"upcoming\", \"c\", \"finally\", \"java\", \"common\", \"whilst\", \"convict\", \"prospect\", \"self\", \"go\", \"teach\", \"resume\", \"world\", \"stable\", \"learn\", \"developer\", \"knowledge\", \"real\", \"insight\", \"need\", \"way\", \"hope\", \"guidance\", \"well\", \"programming\"], \"Freq\": [51.0, 42.0, 39.0, 25.0, 18.0, 19.0, 45.0, 37.0, 23.0, 21.0, 34.0, 23.0, 45.0, 28.0, 25.0, 8.0, 22.0, 10.0, 21.0, 11.0, 13.0, 13.0, 12.0, 61.0, 12.0, 10.0, 8.0, 30.0, 16.0, 8.0, 19.136166182333987, 6.840325449540991, 4.297548848172272, 4.71670353206332, 3.917069532242397, 3.9165272841370857, 35.55738242686017, 3.007830338776393, 3.0077303149361856, 3.0068311342124594, 5.727434357438502, 42.36611636738678, 8.440012153630217, 2.4282056246696144, 2.2805272737808893, 30.988378180907947, 8.85148852164301, 1.6963616840963174, 1.5740194753159729, 10.08328702452988, 1.3721336306850116, 5.880021113364387, 1.2257208269114703, 1.2257201807626317, 1.2255786741669892, 1.2242925795187396, 15.132515290321255, 4.834418410551273, 1.0216352331745497, 2.021031444853656, 4.832357454215835, 4.086840228840215, 23.479535253864583, 12.097229570475806, 4.999193601248494, 3.0435703817938013, 13.684703544597367, 4.426534630080819, 10.172032724449823, 6.520217111894512, 8.80469183815987, 8.801188160697718, 8.608647695948472, 8.4249977222986, 4.620180784722592, 5.663129625026014, 6.393020386890142, 5.036013746664422, 9.400273229188128, 7.776355108002125, 5.6869898357983395, 5.531048377153293, 5.468486055436364, 4.72458746875292, 4.355194066858496, 4.138674117219517, 3.9525649437839765, 3.1795153789718955, 3.1793526355402992, 3.029494268788784, 2.8346302012230047, 16.886365240838874, 2.4370936596597845, 4.723626931261687, 1.8525788479036587, 1.698966727799335, 1.6659493638134328, 1.6659051069665671, 1.66578111754638, 1.6657999676848596, 1.663650817734947, 18.239997197524335, 4.130991690595335, 7.660959477655975, 1.483265529827372, 1.4510349542301935, 1.450699047104115, 1.45062352946859, 4.671461456110037, 5.033981699437253, 6.421995840383518, 4.395863533332763, 9.761556154108792, 4.574425158153618, 11.926646062115863, 17.96733380810643, 17.1478562351369, 2.513073299199773, 9.851332455873546, 4.992248195332521, 5.246997162461458, 3.775620684261013, 4.429317026299022, 3.6294241618020164, 3.5171101193117016, 3.611598721533205, 17.857023994730675, 7.713949671295874, 8.01616592954633, 7.360878074740475, 7.233299687013938, 6.312078635253365, 5.175713915974996, 5.175713915974996, 5.155689154887204, 4.8455359084274, 4.715238736999944, 4.069173775684602, 3.9146071711818773, 3.741085857785413, 8.04102851988538, 3.6112528582404115, 3.3060986727585195, 3.27761067188009, 2.976526984248307, 2.9703745131768473, 2.9617851397224992, 2.6374790381056923, 2.6374790381056923, 2.6374790381056923, 2.6374790381056923, 2.6374790381056923, 2.6374790381056923, 2.6374790381056923, 2.6374790381056923, 2.6374790381056923, 10.098161964638109, 6.043089274467666, 11.85671706536469, 7.305073470834423, 5.7439186506293085, 9.789114745886877, 11.990247645841004, 4.108445875765943, 3.7415531007483755, 8.33997802592718, 7.38669971964951, 3.449485447398622, 6.152987451711173, 5.068774944163585, 3.886876191648605, 3.8399496427646285, 7.454794786085302, 3.9820817501960124, 3.6199380603938165, 3.9874254156724924, 3.7171347770316743, 3.1493527660304963, 2.6793451447160574, 2.679297511360187, 2.08268118923974, 2.081061844914475, 1.7436465089103919, 1.7435250533416389, 4.0568547324528454, 1.5604055434610957, 1.4038491255641403, 1.4038491255641403, 1.2226229941358608, 1.2213497981815422, 2.679403025885541, 3.149902921802082, 2.6797064750330972, 1.0900052790657975, 8.342037584090997, 5.3486702050099915, 6.2384555994378, 2.52542393311239, 5.48955676702022, 12.922332038039254, 0.7523671954463644, 0.7523671954463644, 3.330677200559735, 10.405557069842361, 11.417125583510161, 7.959526174957574, 5.465344219840656, 13.656195430142516, 9.72691572936457, 15.467723456428965, 3.8504482047815007, 10.872064873033452, 3.923139362680177, 6.183948617473364, 5.92549761949405, 3.821302663767302, 5.27348465336805, 4.005310507268677, 4.416408002702731, 3.9028555236011195, 3.690693899714144, 3.5016183226065487, 10.346301679913982, 6.947253890689094, 4.28068298730782, 3.847277609771786, 10.168489295351616, 3.4495526686991056, 3.0486567141988528, 3.0012048527908997, 8.731492008843798, 2.479722115337106, 3.036521634354682, 2.1762566674748887, 2.007912739211982, 1.9430374929579755, 1.8045019861749538, 1.8039671574280223, 4.646162428201424, 1.5716341119598418, 1.5716341119598418, 1.5716330376469922, 1.5711354517455114, 1.5705252420469702, 1.9913368081520777, 1.403436916926969, 1.4032673545488825, 1.4028261700720028, 1.4027240208252254, 1.3388434092177552, 1.3387816362289064, 1.3387229071264646, 5.861600236600575, 3.0038712972834687, 2.412495914464013, 6.442162123432942, 14.618300996458935, 2.7362286323371694, 2.1792212337832066, 3.864194098004996, 7.195601359701151, 3.390090884893953, 2.448102939549314, 7.2351038431789, 5.625036547130889, 5.090116125502852, 6.228355961159438, 3.8719842985813258, 2.587015351090384, 2.973369227807061, 2.265846122728382, 8.15477113717394, 7.8150664527107425, 6.56984000957837, 5.143262055388218, 3.99759177531614, 3.1397718353424633, 3.008566758291743, 2.6709436976616843, 2.6708911252893928, 2.6708911252893928, 2.6708911252893928, 2.6708911252893928, 2.6708911252893928, 2.6708911252893928, 2.6708911252893928, 10.140154325415674, 8.029491174003006, 10.28487845717536, 6.798686162680315, 3.4690464378396992, 1.426702121832604, 1.3752815860069314, 8.76805898833403, 0.9077774420178125, 0.9074710004266916, 0.8979199492776984, 0.7770042712164283, 0.7500077527706579, 0.7495689291039145, 0.7495659892015166, 8.54017573973511, 6.29136069484095, 3.3202603985787458, 13.546570811925147, 4.849373501635427, 3.7633441568321016, 11.122367415648734, 16.595125085020335, 5.613353486422913, 5.0051938626573484, 10.421902811619544, 8.662861671378495, 4.9641614719546086, 5.406474975779718, 5.455509780809505, 4.712966180823929, 3.4461591247367163, 3.4786170306928668, 3.2045610585162203, 7.765347411658258, 4.660301610989052, 4.543433938599282, 3.4405656871462194, 3.0153732205765995, 2.8782092070416025, 2.315348985150517, 2.315237347360386, 2.315237347360386, 2.315237347360386, 2.315237347360386, 2.315146813122265, 2.721463207596903, 2.217836013415306, 1.079715861096617, 2.4596941153633387, 2.242402658309674, 0.9304432625250753, 0.9000711359906276, 1.3446050079770402, 0.7848203122380726, 1.486346276425158, 0.6501015672744271, 0.6501015672744271, 0.6501015672744271, 0.6501015672744271, 0.6501015672744271, 0.6500598877592082, 0.6500598350003282, 0.6500598350003282, 2.713680006580245, 3.122873659335871, 3.2598979673565647, 1.0566151744425951, 3.0019414428290534, 1.056445501884438, 10.962871509659747, 6.569742133325276, 5.493244458392362, 1.6607502509428451, 2.3144096660505697, 3.1004811023695313, 3.0670727022897033, 4.5176517291091605, 3.8252066233518036, 2.57058125214911, 1.8047360931827034], \"Total\": [51.0, 42.0, 39.0, 25.0, 18.0, 19.0, 45.0, 37.0, 23.0, 21.0, 34.0, 23.0, 45.0, 28.0, 25.0, 8.0, 22.0, 10.0, 21.0, 11.0, 13.0, 13.0, 12.0, 61.0, 12.0, 10.0, 8.0, 30.0, 16.0, 8.0, 19.78050956814316, 7.479713197115793, 4.935610482324148, 5.472318223582474, 4.554243526337098, 4.554169960644037, 42.59070382041547, 3.6447473856268857, 3.6447625077074175, 3.644635602877201, 6.978120114851865, 51.74886451200309, 10.517919988689576, 3.0659602079949586, 2.9189747793432526, 39.8711082431308, 11.55015597616725, 2.334579290213381, 2.2125799043343117, 14.283262741159982, 2.0095754807950597, 8.764132801491016, 1.8629332203589075, 1.8629332309027649, 1.862961296657975, 1.8627935897984134, 23.355653930035494, 7.791179863922132, 1.6596089199095367, 3.3040890381937142, 7.914100718037935, 6.811840402087306, 45.08957236036012, 22.382942585700025, 8.684760246473534, 5.081641541311176, 27.100871574376633, 8.317937457273288, 29.176752138194946, 15.639469064349283, 25.37498526842181, 28.929215118944544, 37.20634628863325, 61.989150329767476, 13.60579502006443, 26.410815500994083, 60.51903072775298, 45.54964067761565, 10.113386635234008, 8.441766027090267, 6.317709532569179, 6.162509986315906, 6.102039646509249, 5.356043457894959, 4.986218113811831, 4.771112514377884, 4.583142070227015, 3.8099720364565, 3.8099632669977, 3.6609449797820415, 3.4716757389566735, 21.108016845307866, 3.0692216397287657, 5.99742886656291, 2.4843456425154335, 2.3295565131292753, 2.296447028375774, 2.2964448847635475, 2.296420224458863, 2.296452096166985, 2.2961239925140036, 25.376613140260197, 5.767863115059911, 10.799185925752571, 2.1144940540259465, 2.0815347963212494, 2.081480370671736, 2.081519237917122, 7.122415617346575, 8.743242162663615, 12.316699685530315, 8.199571843796875, 22.382942585700025, 8.868455180776168, 34.19211643624423, 61.989150329767476, 60.51903072775298, 4.143820617907736, 37.20634628863325, 12.464353191171353, 15.639469064349283, 9.7959004160098, 51.74886451200309, 12.930509170061594, 10.637972640684636, 21.613018476626415, 18.640534341277064, 8.364807107393407, 8.710104417759727, 8.013478007464185, 7.884782631830187, 6.963805879431775, 5.826569308765825, 5.826569308765825, 5.8102106789677554, 5.4974197482410245, 5.369202696612741, 4.727360412064884, 4.570416191535067, 4.392988365309477, 9.473908607687836, 4.2642106142602, 3.9572048305478766, 3.9295492801620617, 3.6279471412305355, 3.623070349853571, 3.6229374940904875, 3.2883324938499015, 3.2883324938499015, 3.2883324938499015, 3.2883324938499015, 3.2883324938499015, 3.2883324938499015, 3.2883324938499015, 3.2883324938499015, 3.2883324938499015, 13.733814540821466, 9.266403897422196, 26.410815500994083, 14.36622585711982, 11.323328539875797, 34.19211643624423, 60.51903072775298, 7.797098794287848, 6.765202233980574, 39.8711082431308, 30.89561849202061, 5.718677632950439, 45.08957236036012, 61.989150329767476, 15.523540983588017, 16.33249278472729, 8.106228600027976, 4.631738296500206, 4.269602517691677, 4.788219523626244, 4.47686665565725, 3.799192916292084, 3.328622130127442, 3.328636242370409, 2.7326816851079236, 2.732595078428407, 2.3929242462564444, 2.392923763712757, 5.579182414830348, 2.212336283422263, 2.053203154893904, 2.0532032024775098, 1.872127607128885, 1.871955991805873, 4.1660633910564755, 4.925358124488988, 4.266616178006866, 1.7419621463898252, 13.563695064018608, 9.036963462275315, 10.735260857723794, 4.351558141382071, 9.7959004160098, 23.84236437260065, 1.4016439261420752, 1.4016439261420752, 6.550614252859341, 21.613018476626415, 25.37498526842181, 18.00768417794287, 12.464353191171353, 45.54964067761565, 30.89561849202061, 60.51903072775298, 8.389160372339404, 61.989150329767476, 10.637972640684636, 29.176752138194946, 27.100871574376633, 11.058374553353076, 26.410815500994083, 12.613922390521939, 42.59070382041547, 28.929215118944544, 21.108016845307866, 16.33249278472729, 10.967793611927638, 7.584506665463274, 4.90174201075612, 4.470957200850948, 11.90491750054511, 4.070852056093227, 3.6700491154607136, 3.6327720948147317, 10.580489514008034, 3.1012141754312945, 3.8840060763182604, 2.7969037963757106, 2.628810602995014, 2.5640642340648543, 2.4250115873401743, 2.4248918088853686, 6.44639995264404, 2.1922178169812025, 2.1922179815924716, 2.1922175245664857, 2.1921431298548733, 2.191992252693354, 2.804791894232901, 2.0241514883083007, 2.024147654005401, 2.024107360105193, 2.0240106200148626, 1.9594393821395721, 1.9594251140134735, 1.9594156065750572, 9.658023971197, 4.92496831951203, 3.8361051336944785, 13.060234156345496, 37.20634628863325, 4.669613768493333, 3.5160933592253354, 7.498746330064296, 21.613018476626415, 8.031193016361515, 4.642820523050309, 30.89561849202061, 29.176752138194946, 23.84236437260065, 60.51903072775298, 45.54964067761565, 11.31742896303277, 61.989150329767476, 10.637972640684636, 8.805250128125815, 8.466822393591631, 7.223529720469899, 5.793789788863679, 4.647378256764266, 3.789521324569883, 3.6593045923893883, 3.320536815293112, 3.3205365349330527, 3.3205365349330527, 3.3205365349330527, 3.3205365349330527, 3.3205365349330527, 3.3205365349330527, 3.3205365349330527, 12.795470492265322, 10.26808503944794, 13.526619555789184, 9.063377415577433, 4.690211710246584, 2.07694989429103, 2.02719724583875, 12.930509170061594, 1.5577761156403145, 1.5578400133383599, 1.5576381345007917, 1.4274688634678983, 1.399600972162919, 1.3996823632415367, 1.3996819759291577, 16.33249278472729, 12.613922390521939, 6.548608398415431, 28.929215118944544, 11.058374553353076, 8.868455180776168, 34.19211643624423, 61.989150329767476, 15.523540983588017, 13.60579502006443, 45.08957236036012, 45.54964067761565, 18.00768417794287, 23.84236437260065, 30.89561849202061, 25.37498526842181, 8.382253623349664, 10.708219811676202, 60.51903072775298, 8.428525436485346, 5.324202881664407, 5.206598420334861, 4.104756826281096, 3.678463857535334, 3.541385533920039, 2.9783245991615117, 2.978366182676722, 2.978366182676722, 2.978366182676722, 2.978366182676722, 2.978384715739337, 4.036531712173411, 3.5355979562382958, 1.7441332570628574, 4.100797476055761, 3.7790165290564053, 1.610440603885242, 1.5631912547120326, 2.3963168754564306, 1.4506069141827895, 2.949967585813278, 1.313150312971175, 1.3131503167979108, 1.3131503391794286, 1.3131503391794286, 1.3131503420811448, 1.3131432185997736, 1.313143186406165, 1.3131432001163457, 6.143627024582781, 7.797098794287848, 8.199571843796875, 2.3241534784431646, 8.04306400491254, 2.361142135290917, 45.54964067761565, 25.376613140260197, 23.355653930035494, 4.642820523050309, 8.095238146259279, 13.60579502006443, 13.733814540821466, 51.74886451200309, 37.20634628863325, 18.00768417794287, 8.545277850473017], \"Category\": [\"Default\", \"Default\", \"Default\", \"Default\", \"Default\", \"Default\", \"Default\", \"Default\", \"Default\", \"Default\", \"Default\", \"Default\", \"Default\", \"Default\", \"Default\", \"Default\", \"Default\", \"Default\", \"Default\", \"Default\", \"Default\", \"Default\", \"Default\", \"Default\", \"Default\", \"Default\", \"Default\", \"Default\", \"Default\", \"Default\", \"Topic1\", \"Topic1\", \"Topic1\", \"Topic1\", \"Topic1\", \"Topic1\", \"Topic1\", \"Topic1\", \"Topic1\", \"Topic1\", \"Topic1\", \"Topic1\", \"Topic1\", \"Topic1\", \"Topic1\", \"Topic1\", \"Topic1\", \"Topic1\", \"Topic1\", \"Topic1\", \"Topic1\", \"Topic1\", \"Topic1\", \"Topic1\", \"Topic1\", \"Topic1\", \"Topic1\", \"Topic1\", \"Topic1\", \"Topic1\", \"Topic1\", \"Topic1\", \"Topic1\", \"Topic1\", \"Topic1\", \"Topic1\", \"Topic1\", \"Topic1\", \"Topic1\", \"Topic1\", \"Topic1\", \"Topic1\", \"Topic1\", \"Topic1\", \"Topic1\", \"Topic1\", \"Topic1\", \"Topic1\", \"Topic2\", \"Topic2\", \"Topic2\", \"Topic2\", \"Topic2\", \"Topic2\", \"Topic2\", \"Topic2\", \"Topic2\", \"Topic2\", \"Topic2\", \"Topic2\", \"Topic2\", \"Topic2\", \"Topic2\", \"Topic2\", \"Topic2\", \"Topic2\", \"Topic2\", \"Topic2\", \"Topic2\", \"Topic2\", \"Topic2\", \"Topic2\", \"Topic2\", \"Topic2\", \"Topic2\", \"Topic2\", \"Topic2\", \"Topic2\", \"Topic2\", \"Topic2\", \"Topic2\", \"Topic2\", \"Topic2\", \"Topic2\", \"Topic2\", \"Topic2\", \"Topic2\", \"Topic2\", \"Topic2\", \"Topic2\", \"Topic2\", \"Topic2\", \"Topic2\", \"Topic2\", \"Topic2\", \"Topic2\", \"Topic3\", \"Topic3\", \"Topic3\", \"Topic3\", \"Topic3\", \"Topic3\", \"Topic3\", \"Topic3\", \"Topic3\", \"Topic3\", \"Topic3\", \"Topic3\", \"Topic3\", \"Topic3\", \"Topic3\", \"Topic3\", \"Topic3\", \"Topic3\", \"Topic3\", \"Topic3\", \"Topic3\", \"Topic3\", \"Topic3\", \"Topic3\", \"Topic3\", \"Topic3\", \"Topic3\", \"Topic3\", \"Topic3\", \"Topic3\", \"Topic3\", \"Topic3\", \"Topic3\", \"Topic3\", \"Topic3\", \"Topic3\", \"Topic3\", \"Topic3\", \"Topic3\", \"Topic3\", \"Topic3\", \"Topic3\", \"Topic3\", \"Topic3\", \"Topic3\", \"Topic3\", \"Topic4\", \"Topic4\", \"Topic4\", \"Topic4\", \"Topic4\", \"Topic4\", \"Topic4\", \"Topic4\", \"Topic4\", \"Topic4\", \"Topic4\", \"Topic4\", \"Topic4\", \"Topic4\", \"Topic4\", \"Topic4\", \"Topic4\", \"Topic4\", \"Topic4\", \"Topic4\", \"Topic4\", \"Topic4\", \"Topic4\", \"Topic4\", \"Topic4\", \"Topic4\", \"Topic4\", \"Topic4\", \"Topic4\", \"Topic4\", \"Topic4\", \"Topic4\", \"Topic4\", \"Topic4\", \"Topic4\", \"Topic4\", \"Topic4\", \"Topic4\", \"Topic4\", \"Topic4\", \"Topic4\", \"Topic4\", \"Topic4\", \"Topic4\", \"Topic4\", \"Topic4\", \"Topic4\", \"Topic4\", \"Topic4\", \"Topic4\", \"Topic5\", \"Topic5\", \"Topic5\", \"Topic5\", \"Topic5\", \"Topic5\", \"Topic5\", \"Topic5\", \"Topic5\", \"Topic5\", \"Topic5\", \"Topic5\", \"Topic5\", \"Topic5\", \"Topic5\", \"Topic5\", \"Topic5\", \"Topic5\", \"Topic5\", \"Topic5\", \"Topic5\", \"Topic5\", \"Topic5\", \"Topic5\", \"Topic5\", \"Topic5\", \"Topic5\", \"Topic5\", \"Topic5\", \"Topic5\", \"Topic5\", \"Topic5\", \"Topic5\", \"Topic5\", \"Topic5\", \"Topic5\", \"Topic5\", \"Topic5\", \"Topic5\", \"Topic5\", \"Topic5\", \"Topic5\", \"Topic5\", \"Topic5\", \"Topic5\", \"Topic5\", \"Topic5\", \"Topic5\", \"Topic5\", \"Topic6\", \"Topic6\", \"Topic6\", \"Topic6\", \"Topic6\", \"Topic6\", \"Topic6\", \"Topic6\", \"Topic6\", \"Topic6\", \"Topic6\", \"Topic6\", \"Topic6\", \"Topic6\", \"Topic6\", \"Topic6\", \"Topic6\", \"Topic6\", \"Topic6\", \"Topic6\", \"Topic6\", \"Topic6\", \"Topic6\", \"Topic6\", \"Topic6\", \"Topic6\", \"Topic6\", \"Topic6\", \"Topic6\", \"Topic6\", \"Topic6\", \"Topic6\", \"Topic6\", \"Topic6\", \"Topic6\", \"Topic6\", \"Topic6\", \"Topic6\", \"Topic6\", \"Topic6\", \"Topic6\", \"Topic6\", \"Topic6\", \"Topic6\", \"Topic6\", \"Topic6\", \"Topic6\", \"Topic6\", \"Topic6\", \"Topic7\", \"Topic7\", \"Topic7\", \"Topic7\", \"Topic7\", \"Topic7\", \"Topic7\", \"Topic7\", \"Topic7\", \"Topic7\", \"Topic7\", \"Topic7\", \"Topic7\", \"Topic7\", \"Topic7\", \"Topic7\", \"Topic7\", \"Topic7\", \"Topic7\", \"Topic7\", \"Topic7\", \"Topic7\", \"Topic7\", \"Topic7\", \"Topic7\", \"Topic7\", \"Topic7\", \"Topic7\", \"Topic7\", \"Topic7\", \"Topic7\", \"Topic7\", \"Topic7\", \"Topic7\", \"Topic7\", \"Topic7\", \"Topic7\", \"Topic7\", \"Topic7\", \"Topic7\", \"Topic7\", \"Topic7\", \"Topic7\", \"Topic7\", \"Topic7\", \"Topic7\", \"Topic7\"], \"logprob\": [30.0, 29.0, 28.0, 27.0, 26.0, 25.0, 24.0, 23.0, 22.0, 21.0, 20.0, 19.0, 18.0, 17.0, 16.0, 15.0, 14.0, 13.0, 12.0, 11.0, 10.0, 9.0, 8.0, 7.0, 6.0, 5.0, 4.0, 3.0, 2.0, 1.0, -3.3675, -4.3962, -4.861, -4.7679, -4.9537, -4.9538, -2.7479, -5.2178, -5.2179, -5.2181, -4.5738, -2.5727, -4.1861, -5.4319, -5.4946, -2.8854, -4.1385, -5.7906, -5.8654, -4.0082, -6.0027, -4.5475, -6.1155, -6.1155, -6.1156, -6.1167, -3.6022, -4.7433, -6.2976, -5.6154, -4.7437, -4.9113, -3.1629, -3.8261, -4.7098, -5.206, -3.7028, -4.8314, -3.9994, -4.4441, -4.1438, -4.1441, -4.1663, -4.1878, -4.7886, -4.5851, -4.4638, -4.7024, -3.9796, -4.1692, -4.4821, -4.5099, -4.5213, -4.6675, -4.7489, -4.7999, -4.846, -5.0636, -5.0636, -5.1119, -5.1784, -3.3938, -5.3295, -4.6677, -5.6037, -5.6903, -5.7099, -5.7099, -5.71, -5.71, -5.7113, -3.3167, -4.8018, -4.1842, -5.8261, -5.848, -5.8483, -5.8483, -4.6788, -4.6041, -4.3606, -4.7397, -3.9419, -4.6998, -3.7415, -3.3318, -3.3784, -5.2988, -3.9327, -4.6124, -4.5627, -4.8918, -4.7321, -4.9312, -4.9627, -4.9362, -3.2726, -4.112, -4.0736, -4.1588, -4.1763, -4.3126, -4.511, -4.511, -4.5149, -4.577, -4.6042, -4.7516, -4.7903, -4.8356, -4.0705, -4.871, -4.9593, -4.9679, -5.0643, -5.0663, -5.0692, -5.1852, -5.1852, -5.1852, -5.1852, -5.1852, -5.1852, -5.1852, -5.1852, -5.1852, -3.8427, -4.3561, -3.6821, -4.1665, -4.4069, -3.8738, -3.6709, -4.742, -4.8355, -4.034, -4.1553, -4.9168, -4.3381, -4.5319, -4.7974, -4.8096, -4.0013, -4.6283, -4.7237, -4.627, -4.6972, -4.8629, -5.0246, -5.0246, -5.2765, -5.2773, -5.4542, -5.4542, -4.6097, -5.5652, -5.6709, -5.6709, -5.8091, -5.8102, -5.0245, -4.8628, -5.0244, -5.9239, -3.8888, -4.3333, -4.1794, -5.0837, -4.3073, -3.4512, -6.2947, -6.2947, -4.807, -3.6678, -3.575, -3.9358, -4.3117, -3.3959, -3.7352, -3.2714, -4.6619, -3.6239, -4.6432, -4.1882, -4.2309, -4.6695, -4.3474, -4.6225, -4.5248, -4.6484, -4.7043, -4.7569, -3.6153, -4.0136, -4.4979, -4.6046, -3.6327, -4.7137, -4.8373, -4.853, -3.785, -5.0438, -4.8413, -5.1744, -5.2549, -5.2877, -5.3617, -5.362, -4.4159, -5.4999, -5.4999, -5.4999, -5.5002, -5.5006, -5.2632, -5.613, -5.6132, -5.6135, -5.6136, -5.6602, -5.6602, -5.6603, -4.1836, -4.8521, -5.0713, -4.0891, -3.2697, -4.9454, -5.173, -4.6002, -3.9785, -4.7311, -5.0567, -3.973, -4.2247, -4.3247, -4.1229, -4.5982, -5.0015, -4.8623, -5.134, -3.8186, -3.8612, -4.0347, -4.2795, -4.5315, -4.7731, -4.8158, -4.9348, -4.9348, -4.9348, -4.9348, -4.9348, -4.9348, -4.9348, -4.9348, -3.6007, -3.8341, -3.5865, -4.0005, -4.6733, -5.5618, -5.5986, -3.7461, -6.014, -6.0143, -6.0249, -6.1695, -6.2049, -6.2055, -6.2055, -3.7724, -4.078, -4.7172, -3.3111, -4.3384, -4.5919, -3.5083, -3.1081, -4.1921, -4.3067, -3.5733, -3.7582, -4.315, -4.2296, -4.2206, -4.3669, -4.68, -4.6706, -4.7526, -3.3735, -3.8841, -3.9095, -4.1875, -4.3195, -4.366, -4.5836, -4.5837, -4.5837, -4.5837, -4.5837, -4.5837, -4.422, -4.6266, -5.3465, -4.5231, -4.6156, -5.4953, -5.5285, -5.1271, -5.6655, -5.0269, -5.8538, -5.8538, -5.8538, -5.8538, -5.8538, -5.8539, -5.8539, -5.8539, -4.4249, -4.2844, -4.2415, -5.3681, -4.3239, -5.3683, -3.0287, -3.5407, -3.7197, -4.9159, -4.584, -4.2916, -4.3025, -3.9152, -4.0816, -4.479, -4.8328], \"loglift\": [30.0, 29.0, 28.0, 27.0, 26.0, 25.0, 24.0, 23.0, 22.0, 21.0, 20.0, 19.0, 18.0, 17.0, 16.0, 15.0, 14.0, 13.0, 12.0, 11.0, 10.0, 9.0, 8.0, 7.0, 6.0, 5.0, 4.0, 3.0, 2.0, 1.0, 1.6268, 1.5706, 1.5215, 1.5114, 1.5092, 1.5091, 1.4795, 1.4679, 1.4679, 1.4676, 1.4624, 1.4599, 1.4399, 1.4268, 1.4131, 1.4079, 1.3938, 1.3406, 1.3194, 1.3118, 1.2784, 1.2609, 1.2413, 1.2413, 1.2412, 1.2402, 1.226, 1.1827, 1.1748, 1.1684, 1.1666, 1.1491, 1.0074, 1.0446, 1.1077, 1.1474, 0.9767, 1.0292, 0.6062, 0.7851, 0.6015, 0.47, 0.1962, -0.3358, 0.5799, 0.1202, -0.5878, -0.5422, 1.6856, 1.6766, 1.6535, 1.6506, 1.6491, 1.6332, 1.6234, 1.6165, 1.6107, 1.5778, 1.5777, 1.5694, 1.556, 1.5355, 1.5281, 1.5199, 1.4653, 1.443, 1.4377, 1.4377, 1.4376, 1.4376, 1.4365, 1.4285, 1.4249, 1.4153, 1.4041, 1.3979, 1.3976, 1.3976, 1.3369, 1.2066, 1.1075, 1.1353, 0.9288, 1.0967, 0.7055, 0.5203, 0.4976, 1.2586, 0.4298, 0.8437, 0.6665, 0.8053, -0.6995, 0.4882, 0.6519, -0.0305, 1.781, 1.743, 1.7409, 1.739, 1.7377, 1.7257, 1.7055, 1.7055, 1.7045, 1.6978, 1.6941, 1.674, 1.6691, 1.6633, 1.66, 1.6578, 1.6442, 1.6426, 1.6261, 1.6253, 1.6225, 1.6034, 1.6034, 1.6034, 1.6034, 1.6034, 1.6034, 1.6034, 1.6034, 1.6034, 1.5165, 1.3965, 1.0231, 1.1477, 1.1452, 0.5732, 0.2051, 1.1833, 1.2317, 0.2594, 0.393, 1.3185, -0.1677, -0.6799, 0.4392, 0.3763, 1.8851, 1.8177, 1.8038, 1.7859, 1.7829, 1.7813, 1.7519, 1.7519, 1.6972, 1.6965, 1.6523, 1.6523, 1.6502, 1.6198, 1.5887, 1.5887, 1.5428, 1.5418, 1.5275, 1.5218, 1.5038, 1.5, 1.4828, 1.4444, 1.4261, 1.4247, 1.3897, 1.3564, 1.3467, 1.3467, 1.2925, 1.2379, 1.1702, 1.1524, 1.1444, 0.7643, 0.8131, 0.6047, 1.1901, 0.2281, 0.9713, 0.4174, 0.4486, 0.9063, 0.3578, 0.8217, -0.2974, -0.0343, 0.225, 0.4289, 1.9687, 1.9393, 1.8915, 1.8768, 1.8694, 1.8614, 1.8415, 1.836, 1.8349, 1.8034, 1.7809, 1.7761, 1.7576, 1.7497, 1.7315, 1.7312, 1.6995, 1.6942, 1.6942, 1.6942, 1.6939, 1.6936, 1.6845, 1.6608, 1.6607, 1.6604, 1.6604, 1.6462, 1.6461, 1.6461, 1.5277, 1.5326, 1.5632, 1.3203, 1.0928, 1.4925, 1.5486, 1.364, 0.9272, 1.1645, 1.387, 0.5754, 0.3809, 0.4829, -0.2468, -0.438, 0.5512, -1.0102, 0.4805, 1.985, 1.9817, 1.9669, 1.9427, 1.9112, 1.8737, 1.866, 1.8441, 1.8441, 1.8441, 1.8441, 1.8441, 1.8441, 1.8441, 1.8441, 1.8292, 1.8159, 1.7878, 1.7743, 1.7602, 1.6862, 1.6738, 1.6733, 1.5218, 1.5214, 1.5109, 1.4536, 1.4379, 1.4373, 1.4373, 1.4134, 1.3662, 1.3826, 1.3031, 1.2374, 1.2046, 0.9387, 0.7439, 1.0446, 1.0618, 0.597, 0.402, 0.7732, 0.5779, 0.3278, 0.3783, 1.1729, 0.9374, -0.8766, 2.4739, 2.4226, 2.4196, 2.3793, 2.357, 2.3485, 2.304, 2.304, 2.304, 2.304, 2.304, 2.3039, 2.1616, 2.0895, 2.0763, 2.0447, 2.0339, 2.0072, 2.0038, 1.978, 1.9415, 1.8703, 1.8528, 1.8528, 1.8528, 1.8528, 1.8528, 1.8527, 1.8527, 1.8527, 1.7387, 1.6408, 1.6334, 1.7675, 1.5703, 1.7516, 1.1315, 1.2045, 1.1085, 1.5278, 1.3037, 1.0769, 1.0567, 0.1174, 0.281, 0.6092, 1.0009]}, \"token.table\": {\"Topic\": [7, 1, 2, 5, 6, 4, 6, 1, 3, 2, 6, 6, 5, 4, 4, 4, 3, 7, 5, 3, 4, 5, 5, 2, 4, 6, 2, 3, 3, 7, 1, 5, 2, 4, 2, 3, 1, 5, 6, 7, 1, 1, 3, 3, 3, 4, 6, 2, 7, 2, 4, 6, 2, 4, 4, 5, 4, 5, 7, 1, 2, 3, 4, 5, 6, 7, 4, 5, 1, 2, 4, 1, 3, 5, 2, 4, 6, 5, 6, 7, 6, 2, 7, 3, 2, 5, 1, 3, 6, 7, 6, 6, 2, 7, 2, 4, 6, 3, 3, 4, 3, 6, 3, 4, 6, 2, 5, 7, 7, 1, 1, 6, 3, 2, 6, 7, 2, 5, 1, 4, 6, 3, 6, 5, 1, 2, 7, 2, 4, 1, 3, 4, 5, 1, 7, 2, 3, 5, 6, 2, 7, 2, 3, 5, 7, 3, 2, 2, 3, 7, 3, 3, 6, 3, 1, 3, 1, 2, 4, 2, 3, 6, 2, 7, 3, 7, 1, 4, 1, 4, 6, 2, 3, 2, 3, 5, 1, 2, 5, 7, 3, 1, 2, 1, 1, 2, 3, 4, 5, 6, 4, 5, 2, 1, 2, 7, 5, 2, 1, 4, 1, 7, 6, 1, 4, 6, 3, 4, 7, 1, 7, 2, 3, 1, 5, 1, 2, 4, 1, 2, 7, 7, 5, 1, 2, 3, 4, 5, 6, 1, 1, 4, 6, 4, 1, 2, 3, 6, 1, 4, 7, 2, 2, 2, 7, 5, 1, 2, 3, 4, 5, 6, 7, 7, 1, 3, 5, 6, 3, 4, 5, 6, 7, 3, 1, 2, 3, 5, 1, 4, 1, 6, 2, 5, 2, 4, 7, 5, 1, 2, 4, 5, 6, 2, 4, 5, 3, 6, 5, 5, 6, 1, 1, 6, 7, 1, 2, 5, 5, 6, 1, 3, 6, 3, 2, 1, 2, 4, 6, 3, 4, 2, 6, 5, 3, 4, 1, 2, 3, 4, 5, 6, 4, 3, 6, 3, 1, 7, 1, 2, 2, 2, 2, 3, 6, 1, 4, 1, 3, 4, 5, 4, 2, 3, 4, 7, 2, 6, 7, 2, 7, 2, 5, 3, 5, 7, 3, 5, 6, 5, 6, 4, 7, 5, 7, 5, 7, 2, 2, 4, 5, 2, 7, 3, 4, 3, 5, 4, 1, 3, 4, 5, 6, 6, 1, 2, 3, 4, 5, 6, 1, 6, 3, 7, 6, 2, 7, 7, 1, 3, 4, 6, 2, 5, 5, 3, 1, 4, 5, 6, 2, 1, 4, 2, 7, 1, 2, 5, 4, 7, 2, 4, 5, 2, 4, 5, 7, 1, 5, 2, 6, 7, 4, 3, 1, 3, 4, 4, 5, 6, 7, 5, 2, 3, 4, 6, 3, 7, 4, 6, 1, 4, 6, 7, 7, 4, 1, 2, 3, 4, 5, 2, 4, 5, 7], \"Freq\": [0.9391077145499276, 0.17671858215614134, 0.265077873234212, 0.265077873234212, 0.265077873234212, 0.7031333203732048, 0.23437777345773492, 0.913689554538868, 0.9123165025467578, 0.30934590025745645, 0.696028275579277, 0.9034684510888795, 0.5103500568147554, 0.7896413965016349, 0.8357976256196672, 0.7319049996790072, 0.9123165025467578, 0.6715091017460307, 0.9117604099629347, 0.20304699139650118, 0.20304699139650118, 0.6091409741895035, 0.4940351056017041, 0.5718702406930426, 0.3431221444158256, 0.49329190933576444, 0.10555305538714248, 0.8444244430971398, 0.8269139221754077, 0.6893666300793538, 0.8230988970216944, 0.5103537730777109, 0.864136003929208, 0.713447960176611, 0.34973120157642795, 0.5245968023646419, 0.7792102564303653, 0.17315783476230343, 0.791656714147269, 0.761527440695806, 0.5367878909516294, 0.7775053507658855, 0.20064654213313174, 0.9123165025467578, 0.18085840648195153, 0.36171681296390307, 0.4521460162048789, 0.8727636932716488, 0.6209480794184316, 0.07815265570769638, 0.07815265570769638, 0.7815265570769638, 0.22980274364032655, 0.6894082309209797, 0.5740652872810561, 0.8160364195468905, 0.720104261121007, 0.24003475370700234, 0.7615274260334511, 0.34273862809113415, 0.03427386280911341, 0.13709545123645364, 0.20564317685468048, 0.20564317685468048, 0.06854772561822682, 0.6715091017460307, 0.5341516231009545, 0.9123182246230346, 0.6053105642375073, 0.30265528211875364, 0.48704386490759777, 0.29563048240513884, 0.5912609648102777, 0.7369464570714668, 0.4083340816187405, 0.5104176020234257, 0.9034684510888795, 0.7800116601717759, 0.8607003301652915, 0.7615315758038687, 0.9034684510888795, 0.24385500767568322, 0.48771001535136643, 0.8280573443216769, 0.8383788870930806, 0.8258156365718828, 0.8783017370213255, 0.9123165025467578, 0.9034684510888795, 0.6397169872756342, 0.8629929946044241, 0.9690553331792261, 0.7093145133478375, 0.27584453296860345, 0.15855496316536669, 0.31710992633073337, 0.47566488949610003, 0.9123165025467578, 0.9123165025467578, 0.4870438536202087, 0.9123165025467578, 0.9034684510888795, 0.24491056281013318, 0.24491056281013318, 0.5510487663227996, 0.48042730264964245, 0.8506222692328606, 0.09451358547031784, 0.6715049232662784, 0.8104367259785106, 0.7606066606898307, 0.19015166517245768, 0.9312369605927413, 0.8709207394614753, 0.6396299752196639, 0.21320999173988797, 0.26068107237637655, 0.5213621447527531, 0.9605414832487338, 0.4579723189608518, 0.4579723189608518, 0.8751938187617262, 0.6419407705381053, 0.9123180344261018, 0.4808884438656556, 0.3606663328992417, 0.1202221109664139, 0.702009018937697, 0.2808036075750788, 0.1035408488301838, 0.1035408488301838, 0.1035408488301838, 0.6212450929811028, 0.4173070808131451, 0.4173070808131451, 0.24902900427439711, 0.24902900427439711, 0.37354350641159567, 0.12451450213719856, 0.6516310109740868, 0.7615274277162261, 0.22970491677918412, 0.15313661118612273, 0.45940983355836823, 0.07656830559306137, 0.8581379084391416, 0.8022111966823101, 0.8709086522371644, 0.9184734896734604, 0.8471260672596787, 0.9105419061855877, 0.8461381513860126, 0.9448645109238433, 0.75811087079479, 0.5872128182530976, 0.2936064091265488, 0.8452548742043499, 0.04695860412246388, 0.09391720824492776, 0.28015861205322024, 0.3735448160709603, 0.28015861205322024, 0.8710331003554471, 0.6715091017460307, 0.5130113271016136, 0.3847584953262102, 0.3726038941216863, 0.5589058411825295, 0.07392830084971344, 0.14785660169942688, 0.7392830084971345, 0.8336905882912905, 0.1667381176582581, 0.7407965799461406, 0.09259957249326757, 0.09259957249326757, 0.24189421692152427, 0.26877135213502695, 0.4031570282025404, 0.10750854085401078, 0.8605539930074105, 0.6523241869821712, 0.8709113871051729, 0.5367878939897496, 0.09914236774530007, 0.2809033752783502, 0.19828473549060013, 0.24785591936325016, 0.09914236774530007, 0.04957118387265003, 0.9040216964241078, 0.6449086992586878, 0.47292637124990905, 0.8116120111245755, 0.07729638201186433, 0.09662047751483041, 0.49406855384615367, 0.48041833185296556, 0.9039221571533392, 0.835383586793175, 0.9358647605230676, 0.8155578296234988, 0.7005406741906763, 0.3546800088668486, 0.4334977886150372, 0.19704444937047144, 0.370588232958442, 0.370588232958442, 0.2470588219722947, 0.28283758854300034, 0.5656751770860007, 0.4804147409725391, 0.7634463359818902, 0.8783159246508077, 0.8247383272067826, 0.8231023120643542, 0.8053812030086075, 0.18950145953143704, 0.17337443348629347, 0.6934977339451739, 0.7615274277162261, 0.9491577216306012, 0.9123181029310781, 0.12905484197544104, 0.2903733944447423, 0.08065927623465065, 0.1774504077162314, 0.04839556574079039, 0.2742415391978122, 0.6851720727953617, 0.6317837209986381, 0.25271348839945523, 0.12635674419972762, 0.7318818034677217, 0.25767316904235493, 0.12883658452117747, 0.25767316904235493, 0.3865097535635324, 0.6422427753440001, 0.08563237004586668, 0.21408092511466673, 0.8193981503971897, 0.7874073539894476, 0.88990961431702, 0.671518477389288, 0.8247790654706878, 0.10977035000974526, 0.0439081400038981, 0.02195407000194905, 0.30735698002728673, 0.0878162800077962, 0.19758663001754145, 0.24149477002143957, 0.7308593729090636, 0.20882311261403544, 0.48725392943274937, 0.06960770420467847, 0.20882311261403544, 0.2265693435400196, 0.3236704907714566, 0.2265693435400196, 0.1618352453857283, 0.03236704907714566, 0.8581379084391416, 0.17662650986031864, 0.264939764790478, 0.529879529580956, 0.7723983796760095, 0.33196991583771035, 0.5532831930628506, 0.6025515939348584, 0.9034684510888795, 0.9736292538792203, 0.7130653807550994, 0.40114396016486104, 0.40114396016486104, 0.1604575840659444, 0.9124119839121472, 0.31110418872395446, 0.034567132080439385, 0.13826852832175754, 0.06913426416087877, 0.4839398491261514, 0.18507363996037085, 0.4626840999009271, 0.32387886993064896, 0.9123165025467578, 0.4814752646410623, 0.8946630039846252, 0.7608003397891778, 0.7144893579593742, 0.8566854029692003, 0.3674904695114481, 0.3674904695114481, 0.22049428170686886, 0.32476232287283974, 0.48714348430925963, 0.16238116143641987, 0.7756267120765928, 0.15512534241531856, 0.7001201463012416, 0.07001201463012416, 0.14002402926024832, 0.9380399707799052, 0.9497112789166205, 0.5368281303288237, 0.8709105741553097, 0.4581125969795218, 0.4581125969795218, 0.9656375547208063, 0.713447960176611, 0.2206682904501532, 0.7723390165755363, 0.7150764365194269, 0.8615978250803253, 0.835797457077404, 0.2271796567498707, 0.03786327612497845, 0.4543593134997414, 0.18931638062489226, 0.0757265522499569, 0.03786327612497845, 0.9368553591172615, 0.9123165025467578, 0.6419144401465582, 0.8280269799677633, 0.8598304272851244, 0.1433050712141874, 0.6846085215617953, 0.22820284052059844, 0.9335249124295023, 0.9476690036572197, 0.7239695625421969, 0.24132318751406565, 0.7144480083314391, 0.5757211319714048, 0.3454326791828429, 0.6417513248735304, 0.12835026497470609, 0.12835026497470609, 0.12835026497470609, 0.8635335055781479, 0.35107108890952415, 0.35107108890952415, 0.11702369630317472, 0.23404739260634944, 0.5637960499409548, 0.45103683995276384, 0.761531567852919, 0.3389867755866577, 0.3389867755866577, 0.0839989021305029, 0.8399890213050291, 0.9563878637355588, 0.43077262842071057, 0.43077262842071057, 0.4000668735748896, 0.5334224980998529, 0.819827900153322, 0.4940341697625395, 0.7144478106333291, 0.6090927652720184, 0.20303092175733947, 0.6424514207666387, 0.2141504735888796, 0.43026418404599104, 0.43026418404599104, 0.7874091663786665, 0.17923773156114095, 0.7169509262445638, 0.9123491859459041, 0.48831089322251503, 0.48831089322251503, 0.873528322343909, 0.8636066513132759, 0.2844065551832559, 0.5688131103665118, 0.8934820506537422, 0.5100957670696414, 0.13306846097468908, 0.06653423048734454, 0.022178076829114844, 0.22178076829114846, 0.9034684510888795, 0.5165885518322864, 0.07379836454746948, 0.03689918227373474, 0.22139509364240845, 0.07379836454746948, 0.07379836454746948, 0.4976175364183705, 0.9034683748070966, 0.42352384680848093, 0.42352384680848093, 0.9085488638700135, 0.26461911248895575, 0.5292382249779115, 0.9603198857188656, 0.1192996591291861, 0.3578989773875583, 0.1192996591291861, 0.3578989773875583, 0.8585325098266946, 0.817427752495732, 0.4940449403573286, 0.8877860464715418, 0.8231275570132982, 0.5452479375300312, 0.20971074520385816, 0.20971074520385816, 0.8194605536460721, 0.5367798041719555, 0.5342005925231723, 0.4878303497061341, 0.3658727622796006, 0.5361225385828644, 0.44676878215238697, 0.9229341219878048, 0.24773743186116695, 0.7432122955835009, 0.3760114953390752, 0.3760114953390752, 0.1880057476695376, 0.22117866745311285, 0.5898097798749676, 0.1474524449687419, 0.6715091017460307, 0.5903604131876515, 0.39357360879176767, 0.8050409595884463, 0.641997635940321, 0.5733506863368988, 0.9012700041575049, 0.9095175971599803, 0.10791672919396361, 0.6475003751637817, 0.21583345838792722, 0.47680576153827403, 0.11920144038456851, 0.3576043211537055, 0.7615274429150222, 0.5103562494063937, 0.35095809358205726, 0.29246507798504773, 0.029246507798504774, 0.3217115857835525, 0.7281298265879936, 0.2184389479763981, 0.19477828556312088, 0.7791131422524835, 0.11106369815446598, 0.44425479261786394, 0.277659245386165, 0.16659554723169898, 0.7615315571338187, 0.9012738252404576, 0.44758552679750135, 0.319703947712501, 0.1278815790850004, 0.0639407895425002, 0.0639407895425002, 0.2486614552337816, 0.2486614552337816, 0.1243307276168908, 0.3729921828506724], \"Term\": [\"ability\", \"able\", \"able\", \"able\", \"able\", \"achieve\", \"achieve\", \"acquire\", \"actualize\", \"advice\", \"advice\", \"agency\", \"analyst\", \"android\", \"answer\", \"apply\", \"area\", \"asia\", \"ask\", \"assistance\", \"assistance\", \"assistance\", \"backend\", \"background\", \"background\", \"bad\", \"bear\", \"bear\", \"believe\", \"belong\", \"beneficial\", \"benefit\", \"bootcamp\", \"bother\", \"break\", \"break\", \"build\", \"build\", \"business\", \"c\", \"care\", \"career\", \"career\", \"chain\", \"chance\", \"chance\", \"chance\", \"check\", \"class\", \"code\", \"code\", \"code\", \"coding\", \"coding\", \"college\", \"comfortable\", \"commit\", \"commit\", \"common\", \"community\", \"community\", \"community\", \"community\", \"community\", \"community\", \"compare\", \"complete\", \"compose\", \"computer\", \"computer\", \"concept\", \"confidence\", \"confidence\", \"connect\", \"connection\", \"connection\", \"consultancy\", \"continue\", \"contribute\", \"convict\", \"copywriting\", \"country\", \"country\", \"create\", \"criminal\", \"data\", \"day\", \"deep\", \"depth\", \"design\", \"dev\", \"develop\", \"developer\", \"developer\", \"development\", \"development\", \"development\", \"dictate\", \"die\", \"difference\", \"dig\", \"digital\", \"direction\", \"direction\", \"direction\", \"effort\", \"employment\", \"employment\", \"encourage\", \"encouragement\", \"engineer\", \"engineer\", \"engineering\", \"entirely\", \"etc\", \"etc\", \"eventually\", \"eventually\", \"experience\", \"expert\", \"expert\", \"expertise\", \"exposure\", \"familiar\", \"family\", \"family\", \"family\", \"far\", \"far\", \"feel\", \"feel\", \"feel\", \"feel\", \"felon\", \"felon\", \"field\", \"field\", \"field\", \"field\", \"figure\", \"finally\", \"find\", \"find\", \"find\", \"find\", \"finish\", \"folk\", \"formal\", \"forward\", \"framework\", \"free\", \"freelance\", \"friend\", \"fundamental\", \"future\", \"future\", \"gain\", \"gain\", \"gain\", \"get\", \"get\", \"get\", \"getting\", \"global\", \"go\", \"go\", \"goal\", \"goal\", \"good\", \"good\", \"good\", \"group\", \"group\", \"grow\", \"grow\", \"grow\", \"guidance\", \"guidance\", \"guidance\", \"guidance\", \"guide\", \"hand\", \"hardship\", \"hell\", \"help\", \"help\", \"help\", \"help\", \"help\", \"help\", \"helpful\", \"high\", \"history\", \"hope\", \"hope\", \"hope\", \"human\", \"hunting\", \"impact\", \"important\", \"improve\", \"increase\", \"individual\", \"industry\", \"industry\", \"industry\", \"insight\", \"insight\", \"insight\", \"inspire\", \"inspire\", \"instead\", \"instruction\", \"interact\", \"interest\", \"interpersonal\", \"interview\", \"interview\", \"ios\", \"ios\", \"java\", \"javascript\", \"jetpack\", \"job\", \"job\", \"job\", \"job\", \"job\", \"job\", \"join\", \"journey\", \"journey\", \"journey\", \"kind\", \"know\", \"know\", \"know\", \"know\", \"knowledge\", \"knowledge\", \"knowledge\", \"lack\", \"ladder\", \"land\", \"laptop\", \"lead\", \"learn\", \"learn\", \"learn\", \"learn\", \"learn\", \"learn\", \"learn\", \"level\", \"life\", \"life\", \"life\", \"life\", \"like\", \"like\", \"like\", \"like\", \"like\", \"line\", \"look\", \"look\", \"look\", \"lot\", \"love\", \"love\", \"main\", \"marketing\", \"maybe\", \"meaningful\", \"meet\", \"meet\", \"meet\", \"member\", \"mentor\", \"mentor\", \"mentor\", \"mentor\", \"mentor\", \"mentorship\", \"mentorship\", \"mentorship\", \"middle\", \"minded\", \"month\", \"motivation\", \"mutual\", \"navigate\", \"need\", \"need\", \"need\", \"network\", \"network\", \"network\", \"networking\", \"networking\", \"new\", \"new\", \"new\", \"obtain\", \"offer\", \"one\", \"online\", \"open\", \"open\", \"opportunity\", \"overstepping\", \"path\", \"path\", \"pathway\", \"pay\", \"peer\", \"people\", \"people\", \"people\", \"people\", \"people\", \"people\", \"person\", \"pit\", \"plan\", \"point\", \"position\", \"position\", \"practice\", \"practice\", \"prep\", \"prepare\", \"process\", \"process\", \"product\", \"professional\", \"professional\", \"program\", \"program\", \"program\", \"program\", \"programmer\", \"programming\", \"programming\", \"programming\", \"programming\", \"project\", \"project\", \"prospect\", \"python\", \"python\", \"question\", \"question\", \"race\", \"real\", \"real\", \"receive\", \"receive\", \"record\", \"relate\", \"relevant\", \"remote\", \"remote\", \"resource\", \"resource\", \"resume\", \"resume\", \"retract\", \"right\", \"right\", \"science\", \"self\", \"self\", \"sense\", \"sharpen\", \"similar\", \"similar\", \"situation\", \"skill\", \"skill\", \"skill\", \"skill\", \"skill\", \"slowly\", \"software\", \"software\", \"software\", \"software\", \"software\", \"software\", \"solve\", \"source\", \"stable\", \"stable\", \"stack\", \"stand\", \"stand\", \"standard\", \"start\", \"start\", \"start\", \"start\", \"story\", \"strong\", \"succeed\", \"successful\", \"suitable\", \"support\", \"support\", \"support\", \"sure\", \"survive\", \"system\", \"teach\", \"teach\", \"tech\", \"tech\", \"technology\", \"term\", \"term\", \"thing\", \"thing\", \"thing\", \"time\", \"time\", \"time\", \"tiny\", \"tool\", \"tool\", \"transition\", \"truly\", \"turn\", \"ultimate\", \"ultimately\", \"understand\", \"understand\", \"understand\", \"understanding\", \"understanding\", \"understanding\", \"upcoming\", \"w/\", \"want\", \"want\", \"want\", \"want\", \"way\", \"way\", \"web\", \"web\", \"well\", \"well\", \"well\", \"well\", \"whilst\", \"willing\", \"work\", \"work\", \"work\", \"work\", \"work\", \"world\", \"world\", \"world\", \"world\"]}, \"R\": 30, \"lambda.step\": 0.01, \"plot.opts\": {\"xlab\": \"PC1\", \"ylab\": \"PC2\"}, \"topic.order\": [2, 3, 4, 7, 5, 6, 1]};\n",
              "\n",
              "function LDAvis_load_lib(url, callback){\n",
              "  var s = document.createElement('script');\n",
              "  s.src = url;\n",
              "  s.async = true;\n",
              "  s.onreadystatechange = s.onload = callback;\n",
              "  s.onerror = function(){console.warn(\"failed to load library \" + url);};\n",
              "  document.getElementsByTagName(\"head\")[0].appendChild(s);\n",
              "}\n",
              "\n",
              "if(typeof(LDAvis) !== \"undefined\"){\n",
              "   // already loaded: just create the visualization\n",
              "   !function(LDAvis){\n",
              "       new LDAvis(\"#\" + \"ldavis_el1591401566460593449267624113\", ldavis_el1591401566460593449267624113_data);\n",
              "   }(LDAvis);\n",
              "}else if(typeof define === \"function\" && define.amd){\n",
              "   // require.js is available: use it to load d3/LDAvis\n",
              "   require.config({paths: {d3: \"https://d3js.org/d3.v5\"}});\n",
              "   require([\"d3\"], function(d3){\n",
              "      window.d3 = d3;\n",
              "      LDAvis_load_lib(\"https://cdn.jsdelivr.net/gh/bmabey/pyLDAvis@3.3.1/pyLDAvis/js/ldavis.v3.0.0.js\", function(){\n",
              "        new LDAvis(\"#\" + \"ldavis_el1591401566460593449267624113\", ldavis_el1591401566460593449267624113_data);\n",
              "      });\n",
              "    });\n",
              "}else{\n",
              "    // require.js not available: dynamically load d3 & LDAvis\n",
              "    LDAvis_load_lib(\"https://d3js.org/d3.v5.js\", function(){\n",
              "         LDAvis_load_lib(\"https://cdn.jsdelivr.net/gh/bmabey/pyLDAvis@3.3.1/pyLDAvis/js/ldavis.v3.0.0.js\", function(){\n",
              "                 new LDAvis(\"#\" + \"ldavis_el1591401566460593449267624113\", ldavis_el1591401566460593449267624113_data);\n",
              "            })\n",
              "         });\n",
              "}\n",
              "</script>"
            ]
          },
          "metadata": {},
          "execution_count": 34
        }
      ]
    },
    {
      "cell_type": "markdown",
      "source": [
        "## Limitations of LDA:\n",
        "\n",
        "There are a few limitations to LDA:\n",
        "- The number of topics is fixed and must be known ahead of time.\n",
        "- LDA is unable to represent correlations that provide uncorrelated topics across the documents.\n",
        "- LDA is unsupervised.\n",
        "- LDA presumes words are exchangeable and does not account for sentence structure or multiple-word phrases.\n",
        "- LDA performs better for larger texts and is not very suitable for texts with less than 50 words.\n"
      ],
      "metadata": {
        "id": "tUDivzVa52RF"
      }
    },
    {
      "cell_type": "markdown",
      "source": [
        "# Conclusions\n",
        "\n",
        "### Frequency Analysis\n",
        "In our specific model, we worked with mock data collected by answering the question: “What are the applicants and mentees hoping to gain from the community?” Through our analysis, we found the most inherently useful graphic to be the chart of two-word token frequencies. For now, this will be the only chart we share with administrators once we create an endpoint, but new trends will likely arise with real data. The three-word tokens may then become more useful for informing admins about what the users want to gain from the community.\n",
        "\n",
        "\n",
        "### Topic Modelling\n",
        "We built the LDA model and visualized results using the pyLDAvis package. Since our coherence score peaked at num_topics = 5, we tried several different numbers of topics (3, 5, 7), but none of them showed useful topic distribution. Mostly, all the topics used the same common words but with slightly different frequencies. This result is not surprising, since there is a clear objective (topic) why the underdog-devs project was created. Moreover, LDA is not the best fit for our collection, since we worked with short texts (only 3 responses out of 335 are longer than 50 words)."
      ],
      "metadata": {
        "id": "jObIOGJYDQmw"
      }
    }
  ]
}